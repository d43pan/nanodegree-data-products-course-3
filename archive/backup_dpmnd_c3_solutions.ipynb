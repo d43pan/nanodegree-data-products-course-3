{
 "cells": [
  {
   "cell_type": "markdown",
   "metadata": {
    "ulab": {
     "buttons": {
      "ulab-button-0c1c8b8a": {
       "bashCommand": "",
       "filesToOpen": [],
       "isPreviewButton": false,
       "runInBackground": false,
       "text": "RIGHT CLICK ME"
      }
     }
    }
   },
   "source": [
    "# Project: Getting Started with Iterative Product Management\n",
    "\n",
    "The boutique ice cream sandwich startup you've joined, IceCreamSandwi.ch, has gotten by on the personality of it's founder, I. Sandwich (real name?), for too long.  The last 2 quarters of features the team has launched to the website have not landed with customers.\n",
    "\n",
    "You've decided it's time to step up, lay out a plan for how you're going to identify paths forward which are more likely to succeed than \"whatever I. Sandich happened to promise a random person they met at a bar last night\".  You pitch the team on an iterative design process which brings qualitative and quantitative techniques together in order to minimize industry standard risk types so that you can move forward confidently.\n",
    "\n",
    "Someone in your company recently learned about a/b experiments - so they instrumented tracking and ran an experiment based on your founder's unfounded random idea.\n",
    "\n",
    "Unsurprisingly - the results of the experiment seem to have flopped.  While the total effect isn't known it definitely wasn't a 10x experiment. \n",
    "\n",
    "But there's a bright side! \n",
    "\n",
    "The data scientist on your team now has some well structured event logs they can dig through in order to surface user personas and a journey.  You tell the team you'd like to collect all of the known assumptions before you launch the next experiment to the site so you have the best chance of success.  You tell the CEO and Board (wait - is it really just their friends from college and mom?) that at the end of your week long design sprint you're going to summarize what's known and propose a path forward which is iterative and gives you the best chance of moving the needle.  \n",
    "\n",
    "\n",
    "Your CEO gives you the ok if you can help them show the largest possible impact in the shortest time possible.\n",
    "\n",
    "\n"
   ]
  },
  {
   "cell_type": "markdown",
   "metadata": {},
   "source": [
    "<!--\n",
    "%%ulab_page_divider\n",
    "--><hr/>"
   ]
  },
  {
   "cell_type": "markdown",
   "metadata": {},
   "source": [
    "## Submission Requirements\n",
    "\n",
    "Section 1:   \n",
    "1: Ensure you have well formed event data  \n",
    "2: Check to see if the previous a/b experiment was valid (95% confidence)  \n",
    "3: Check if the experiment or control won by performing a chi-square test on outcomes and reporting on if the difference is signifcant.  \n",
    "\n",
    "Section 2:   \n",
    "1: Find the actionable attributes of your users upon which to build your personas  \n",
    "2: Find the different stages of the user's journey  \n",
    "3: Identify risks or opportunities for your team to address with hypotheses    \n",
    "\n",
    "Section 3:   \n",
    "1: Generate well formed hypotheses with clear next steps"
   ]
  },
  {
   "cell_type": "markdown",
   "metadata": {},
   "source": [
    "<!--\n",
    "%%ulab_page_divider\n",
    "--><hr/>"
   ]
  },
  {
   "cell_type": "markdown",
   "metadata": {},
   "source": [
    "## Offline Instructions\n",
    "\n",
    "This notebook contains everything you need to complete your analysis and submit your final project.\n",
    "\n",
    "In case you need to work offline here's what you need to do\n",
    "\n",
    "1) Take all files starting with `event_logs_part*`  \n",
    "2) Load them into your analysis tool of choice (R, SAS, Excel, etc)  \n",
    "3) Complete your analysis  \n",
    "4) Upload it or your results back with each of the sections and responses clearly labeled  "
   ]
  },
  {
   "cell_type": "markdown",
   "metadata": {},
   "source": [
    "<!--\n",
    "%%ulab_page_divider\n",
    "--><hr/>"
   ]
  },
  {
   "cell_type": "markdown",
   "metadata": {},
   "source": [
    "## Section 1 - Evaluate previous a/b experiment [STUDENT]\n",
    "\n",
    "One of your engineers helpfully exported all of the events from the previous a/b experiment for you.  \n",
    "\n",
    "She sent them over to you broken down by country and explained how to put them all into one dataframe.\n",
    "\n",
    "1: Ensure you got data  \n",
    "2: Check to see if the previous a/b experiment was valid (95% confidence)  \n",
    "3: Check if the experiment or control won by performing a chi-square test on outcomes and reporting on if the difference is signifcant.\n"
   ]
  },
  {
   "cell_type": "code",
   "execution_count": 8,
   "metadata": {},
   "outputs": [],
   "source": [
    "import numpy as np\n",
    "from scipy import stats\n",
    "import pandas as pd\n",
    "import glob\n",
    "import datetime\n",
    "import itertools\n",
    "\n",
    "log_files = glob.glob(r'event_logs_part_*.csv')\n",
    "df = pd.concat((pd.read_csv(f) for f in log_files)).drop(['Unnamed: 0'],axis=1)\n",
    "\n",
    "## Your Work Goes Here\n",
    "\n",
    "#1: \n",
    "\n",
    "#2: \n",
    "\n",
    "#3: "
   ]
  },
  {
   "cell_type": "markdown",
   "metadata": {},
   "source": [
    "## Section 1 - Evaluate previous a/b experiment [SOLUTION]\n",
    "\n",
    "One of your engineers helpfully exported all of the events from the previous a/b experiment for you.  \n",
    "\n",
    "She sent them over to you broken down by country and explained how to put them all into one dataframe.\n",
    "\n",
    "1: Ensure you got data  \n",
    "2: Check to see if the previous a/b experiment was valid (95% confidence)  \n",
    "3: Check if the experiment or control won by performing a chi-square test on outcomes and reporting on if the difference is signifcant."
   ]
  },
  {
   "cell_type": "code",
   "execution_count": 9,
   "metadata": {},
   "outputs": [],
   "source": [
    "import numpy as np\n",
    "from scipy import stats\n",
    "import pandas as pd\n",
    "import glob\n",
    "import datetime\n",
    "import itertools\n",
    "\n",
    "log_files = glob.glob(r'event_logs_part_*.csv')\n",
    "df = pd.concat((pd.read_csv(f) for f in log_files)).drop(['Unnamed: 0'],axis=1)"
   ]
  },
  {
   "cell_type": "code",
   "execution_count": 10,
   "metadata": {},
   "outputs": [
    {
     "data": {
      "text/html": [
       "<div>\n",
       "<style scoped>\n",
       "    .dataframe tbody tr th:only-of-type {\n",
       "        vertical-align: middle;\n",
       "    }\n",
       "\n",
       "    .dataframe tbody tr th {\n",
       "        vertical-align: top;\n",
       "    }\n",
       "\n",
       "    .dataframe thead th {\n",
       "        text-align: right;\n",
       "    }\n",
       "</style>\n",
       "<table border=\"1\" class=\"dataframe\">\n",
       "  <thead>\n",
       "    <tr style=\"text-align: right;\">\n",
       "      <th></th>\n",
       "      <th>event_uuid</th>\n",
       "      <th>user_uuid</th>\n",
       "      <th>event_time</th>\n",
       "      <th>device_type</th>\n",
       "      <th>session_uuid</th>\n",
       "      <th>experiment_group</th>\n",
       "      <th>user_country</th>\n",
       "      <th>event_page</th>\n",
       "      <th>event_type</th>\n",
       "    </tr>\n",
       "  </thead>\n",
       "  <tbody>\n",
       "    <tr>\n",
       "      <th>count</th>\n",
       "      <td>1252068</td>\n",
       "      <td>1252068</td>\n",
       "      <td>1252068</td>\n",
       "      <td>1252068</td>\n",
       "      <td>1252068</td>\n",
       "      <td>1252068</td>\n",
       "      <td>1252068</td>\n",
       "      <td>1252068</td>\n",
       "      <td>1252068</td>\n",
       "    </tr>\n",
       "    <tr>\n",
       "      <th>unique</th>\n",
       "      <td>1252068</td>\n",
       "      <td>81708</td>\n",
       "      <td>526433</td>\n",
       "      <td>4</td>\n",
       "      <td>227564</td>\n",
       "      <td>2</td>\n",
       "      <td>5</td>\n",
       "      <td>4</td>\n",
       "      <td>5</td>\n",
       "    </tr>\n",
       "    <tr>\n",
       "      <th>top</th>\n",
       "      <td>62941cb3-b561-4889-9080-2dfc035ffcb9</td>\n",
       "      <td>80450b40-d083-4a2a-aecc-a7d670764729</td>\n",
       "      <td>2019-10-01 03:29:24</td>\n",
       "      <td>mobile_web</td>\n",
       "      <td>27df8dfd-05e1-4be5-b64d-3207563daeab</td>\n",
       "      <td>control</td>\n",
       "      <td>US</td>\n",
       "      <td>item_page</td>\n",
       "      <td>view</td>\n",
       "    </tr>\n",
       "    <tr>\n",
       "      <th>freq</th>\n",
       "      <td>1</td>\n",
       "      <td>49</td>\n",
       "      <td>12</td>\n",
       "      <td>627052</td>\n",
       "      <td>10</td>\n",
       "      <td>627723</td>\n",
       "      <td>877653</td>\n",
       "      <td>500191</td>\n",
       "      <td>821287</td>\n",
       "    </tr>\n",
       "  </tbody>\n",
       "</table>\n",
       "</div>"
      ],
      "text/plain": [
       "                                  event_uuid  \\\n",
       "count                                1252068   \n",
       "unique                               1252068   \n",
       "top     62941cb3-b561-4889-9080-2dfc035ffcb9   \n",
       "freq                                       1   \n",
       "\n",
       "                                   user_uuid           event_time device_type  \\\n",
       "count                                1252068              1252068     1252068   \n",
       "unique                                 81708               526433           4   \n",
       "top     80450b40-d083-4a2a-aecc-a7d670764729  2019-10-01 03:29:24  mobile_web   \n",
       "freq                                      49                   12      627052   \n",
       "\n",
       "                                session_uuid experiment_group user_country  \\\n",
       "count                                1252068          1252068      1252068   \n",
       "unique                                227564                2            5   \n",
       "top     27df8dfd-05e1-4be5-b64d-3207563daeab          control           US   \n",
       "freq                                      10           627723       877653   \n",
       "\n",
       "       event_page event_type  \n",
       "count     1252068    1252068  \n",
       "unique          4          5  \n",
       "top     item_page       view  \n",
       "freq       500191     821287  "
      ]
     },
     "execution_count": 10,
     "metadata": {},
     "output_type": "execute_result"
    }
   ],
   "source": [
    "#S1_1\n",
    "df.describe()"
   ]
  },
  {
   "cell_type": "code",
   "execution_count": 11,
   "metadata": {},
   "outputs": [
    {
     "data": {
      "text/html": [
       "<div>\n",
       "<style scoped>\n",
       "    .dataframe tbody tr th:only-of-type {\n",
       "        vertical-align: middle;\n",
       "    }\n",
       "\n",
       "    .dataframe tbody tr th {\n",
       "        vertical-align: top;\n",
       "    }\n",
       "\n",
       "    .dataframe thead th {\n",
       "        text-align: right;\n",
       "    }\n",
       "</style>\n",
       "<table border=\"1\" class=\"dataframe\">\n",
       "  <thead>\n",
       "    <tr style=\"text-align: right;\">\n",
       "      <th></th>\n",
       "      <th>event_uuid</th>\n",
       "      <th>user_uuid</th>\n",
       "      <th>event_time</th>\n",
       "      <th>device_type</th>\n",
       "      <th>session_uuid</th>\n",
       "      <th>experiment_group</th>\n",
       "      <th>user_country</th>\n",
       "      <th>event_page</th>\n",
       "      <th>event_type</th>\n",
       "    </tr>\n",
       "  </thead>\n",
       "  <tbody>\n",
       "  </tbody>\n",
       "</table>\n",
       "</div>"
      ],
      "text/plain": [
       "Empty DataFrame\n",
       "Columns: [event_uuid, user_uuid, event_time, device_type, session_uuid, experiment_group, user_country, event_page, event_type]\n",
       "Index: []"
      ]
     },
     "execution_count": 11,
     "metadata": {},
     "output_type": "execute_result"
    }
   ],
   "source": [
    "#S1_2\n",
    "## Check for duplicate events\n",
    "df[df.event_uuid.duplicated()]\n",
    "#df = df[~df.event_uuid.duplicated()]"
   ]
  },
  {
   "cell_type": "code",
   "execution_count": 12,
   "metadata": {},
   "outputs": [
    {
     "data": {
      "text/html": [
       "<div>\n",
       "<style scoped>\n",
       "    .dataframe tbody tr th:only-of-type {\n",
       "        vertical-align: middle;\n",
       "    }\n",
       "\n",
       "    .dataframe tbody tr th {\n",
       "        vertical-align: top;\n",
       "    }\n",
       "\n",
       "    .dataframe thead th {\n",
       "        text-align: right;\n",
       "    }\n",
       "</style>\n",
       "<table border=\"1\" class=\"dataframe\">\n",
       "  <thead>\n",
       "    <tr style=\"text-align: right;\">\n",
       "      <th></th>\n",
       "      <th>experiment_group</th>\n",
       "      <th>count</th>\n",
       "    </tr>\n",
       "  </thead>\n",
       "  <tbody>\n",
       "    <tr>\n",
       "      <th>0</th>\n",
       "      <td>control</td>\n",
       "      <td>113911</td>\n",
       "    </tr>\n",
       "    <tr>\n",
       "      <th>1</th>\n",
       "      <td>experiment</td>\n",
       "      <td>113653</td>\n",
       "    </tr>\n",
       "  </tbody>\n",
       "</table>\n",
       "</div>"
      ],
      "text/plain": [
       "  experiment_group   count\n",
       "0          control  113911\n",
       "1       experiment  113653"
      ]
     },
     "execution_count": 12,
     "metadata": {},
     "output_type": "execute_result"
    }
   ],
   "source": [
    "## Get the number of sessions by experiment or control group\n",
    "df.groupby('experiment_group').apply(lambda x: x['session_uuid'].nunique()).reset_index(name='count')"
   ]
  },
  {
   "cell_type": "code",
   "execution_count": 13,
   "metadata": {},
   "outputs": [
    {
     "name": "stdout",
     "output_type": "stream",
     "text": [
      "p_hat:\t\t 0.4983115516182791\n",
      "confidence int:\t (0.49541093079380116, 0.50458906920619884)\n",
      "Continue analysis?: True\n"
     ]
    }
   ],
   "source": [
    "## Ensure the experiment was split evenly between sessions\n",
    "\n",
    "control_sessions = df.groupby('experiment_group').apply(lambda x: x['session_uuid'].nunique())['control']\n",
    "experiment_sessions = df.groupby('experiment_group').apply(lambda x: x['session_uuid'].nunique())['experiment']\n",
    "\n",
    "\n",
    "desired_p = 0.5  \n",
    "z_score = 1.960  #TODO Student to get the z-score for 95% confidence range?\n",
    "\n",
    "total_control =  22725 #TODO Student to get the total number of sessions\n",
    "total_experiment = 22879 #TODO Student to get the total number of sessions\n",
    "\n",
    "\n",
    "standard_deviation = np.sqrt((0.5*0.5)/(total_control + total_experiment))\n",
    "margin_error = standard_deviation * z_score\n",
    "\n",
    "confidence_interval = (desired_p-margin_error, desired_p+margin_error)\n",
    "\n",
    "p_hat = total_control / (total_control + total_experiment)\n",
    "\n",
    "print(\"p_hat:\\t\\t\", p_hat)\n",
    "print(\"confidence int:\\t\", confidence_interval)\n",
    "print(\"Continue analysis?:\", p_hat > confidence_interval[0] and p_hat < confidence_interval[1])"
   ]
  },
  {
   "cell_type": "code",
   "execution_count": 14,
   "metadata": {},
   "outputs": [
    {
     "data": {
      "text/html": [
       "<div>\n",
       "<style scoped>\n",
       "    .dataframe tbody tr th:only-of-type {\n",
       "        vertical-align: middle;\n",
       "    }\n",
       "\n",
       "    .dataframe tbody tr th {\n",
       "        vertical-align: top;\n",
       "    }\n",
       "\n",
       "    .dataframe thead th {\n",
       "        text-align: right;\n",
       "    }\n",
       "</style>\n",
       "<table border=\"1\" class=\"dataframe\">\n",
       "  <thead>\n",
       "    <tr style=\"text-align: right;\">\n",
       "      <th></th>\n",
       "      <th>experiment_group</th>\n",
       "      <th>count</th>\n",
       "    </tr>\n",
       "  </thead>\n",
       "  <tbody>\n",
       "    <tr>\n",
       "      <th>0</th>\n",
       "      <td>control</td>\n",
       "      <td>1957</td>\n",
       "    </tr>\n",
       "    <tr>\n",
       "      <th>1</th>\n",
       "      <td>experiment</td>\n",
       "      <td>1953</td>\n",
       "    </tr>\n",
       "  </tbody>\n",
       "</table>\n",
       "</div>"
      ],
      "text/plain": [
       "  experiment_group  count\n",
       "0          control   1957\n",
       "1       experiment   1953"
      ]
     },
     "execution_count": 14,
     "metadata": {},
     "output_type": "execute_result"
    }
   ],
   "source": [
    "## Get the number of purchases by experiment or control group\n",
    "df.groupby('experiment_group')['event_type'].apply(lambda x: (x == 'purchase').sum()).reset_index(name='count')\n"
   ]
  },
  {
   "cell_type": "code",
   "execution_count": 15,
   "metadata": {},
   "outputs": [],
   "source": [
    "control_purchase = df.groupby('experiment_group')['event_type'].apply(lambda x: (x == 'purchase').sum())['control']\n",
    "experiment_purchase = df.groupby('experiment_group')['event_type'].apply(lambda x: (x == 'purchase').sum())['experiment']\n"
   ]
  },
  {
   "cell_type": "code",
   "execution_count": 18,
   "metadata": {},
   "outputs": [
    {
     "data": {
      "text/plain": [
       "(8.3674337178373762e-05,\n",
       " 0.99270155826395723,\n",
       " 1,\n",
       " array([[   1957.21647537,  111953.78352463],\n",
       "        [   1952.78352463,  111700.21647537]]))"
      ]
     },
     "execution_count": 18,
     "metadata": {},
     "output_type": "execute_result"
    }
   ],
   "source": [
    "#S1_3\n",
    "#chisuared test\n",
    "\n",
    "#P-value here greater than .05 (our test for significance).  This result could be due to randomness\n",
    "\n",
    "control_stats = [control_purchase, control_sessions - control_purchase]\n",
    "experiment_stats = [experiment_purchase, experiment_sessions - experiment_purchase]\n",
    "outcomes =  np.array([control_stats, experiment_stats])\n",
    "stats.chi2_contingency(outcomes)"
   ]
  },
  {
   "cell_type": "markdown",
   "metadata": {},
   "source": [
    "### Seciton 1 - Solution summary\n",
    "\n",
    "1: The experiment ran and there is data.  \n",
    "2: Event data came in and it was bucketed correctly between sessions  \n",
    "3: But there was no significant change in conversion between the treatment and control."
   ]
  },
  {
   "cell_type": "markdown",
   "metadata": {},
   "source": [
    "## Section 2 - Develop Actionable Personas and Journey Steps [STUDENT]\n",
    "\n",
    "Now you're going to devolp actionable user personas & stages of a user journey.\n",
    "\n",
    "1: Find the actionable attributes of your users upon which to build your personas  \n",
    "2: Find the different stages of the user's journey  \n",
    "3: Identify a risks or opportunities for your team to address with hypotheses  \n",
    "\n"
   ]
  },
  {
   "cell_type": "code",
   "execution_count": 19,
   "metadata": {},
   "outputs": [],
   "source": [
    "## Your work goes here"
   ]
  },
  {
   "cell_type": "markdown",
   "metadata": {},
   "source": [
    "## Section 2 - Develop Actionable Personas and Journey Steps [SOLUTION]"
   ]
  },
  {
   "cell_type": "code",
   "execution_count": 21,
   "metadata": {},
   "outputs": [
    {
     "data": {
      "text/html": [
       "<div>\n",
       "<style scoped>\n",
       "    .dataframe tbody tr th:only-of-type {\n",
       "        vertical-align: middle;\n",
       "    }\n",
       "\n",
       "    .dataframe tbody tr th {\n",
       "        vertical-align: top;\n",
       "    }\n",
       "\n",
       "    .dataframe thead th {\n",
       "        text-align: right;\n",
       "    }\n",
       "</style>\n",
       "<table border=\"1\" class=\"dataframe\">\n",
       "  <thead>\n",
       "    <tr style=\"text-align: right;\">\n",
       "      <th></th>\n",
       "      <th>event_uuid</th>\n",
       "      <th>user_uuid</th>\n",
       "      <th>event_time</th>\n",
       "      <th>device_type</th>\n",
       "      <th>session_uuid</th>\n",
       "      <th>experiment_group</th>\n",
       "      <th>user_country</th>\n",
       "      <th>event_page</th>\n",
       "      <th>event_type</th>\n",
       "    </tr>\n",
       "  </thead>\n",
       "  <tbody>\n",
       "    <tr>\n",
       "      <th>count</th>\n",
       "      <td>1252068</td>\n",
       "      <td>1252068</td>\n",
       "      <td>1252068</td>\n",
       "      <td>1252068</td>\n",
       "      <td>1252068</td>\n",
       "      <td>1252068</td>\n",
       "      <td>1252068</td>\n",
       "      <td>1252068</td>\n",
       "      <td>1252068</td>\n",
       "    </tr>\n",
       "    <tr>\n",
       "      <th>unique</th>\n",
       "      <td>1252068</td>\n",
       "      <td>81708</td>\n",
       "      <td>526433</td>\n",
       "      <td>4</td>\n",
       "      <td>227564</td>\n",
       "      <td>2</td>\n",
       "      <td>5</td>\n",
       "      <td>4</td>\n",
       "      <td>5</td>\n",
       "    </tr>\n",
       "    <tr>\n",
       "      <th>top</th>\n",
       "      <td>62941cb3-b561-4889-9080-2dfc035ffcb9</td>\n",
       "      <td>80450b40-d083-4a2a-aecc-a7d670764729</td>\n",
       "      <td>2019-10-01 03:29:24</td>\n",
       "      <td>mobile_web</td>\n",
       "      <td>27df8dfd-05e1-4be5-b64d-3207563daeab</td>\n",
       "      <td>control</td>\n",
       "      <td>US</td>\n",
       "      <td>item_page</td>\n",
       "      <td>view</td>\n",
       "    </tr>\n",
       "    <tr>\n",
       "      <th>freq</th>\n",
       "      <td>1</td>\n",
       "      <td>49</td>\n",
       "      <td>12</td>\n",
       "      <td>627052</td>\n",
       "      <td>10</td>\n",
       "      <td>627723</td>\n",
       "      <td>877653</td>\n",
       "      <td>500191</td>\n",
       "      <td>821287</td>\n",
       "    </tr>\n",
       "  </tbody>\n",
       "</table>\n",
       "</div>"
      ],
      "text/plain": [
       "                                  event_uuid  \\\n",
       "count                                1252068   \n",
       "unique                               1252068   \n",
       "top     62941cb3-b561-4889-9080-2dfc035ffcb9   \n",
       "freq                                       1   \n",
       "\n",
       "                                   user_uuid           event_time device_type  \\\n",
       "count                                1252068              1252068     1252068   \n",
       "unique                                 81708               526433           4   \n",
       "top     80450b40-d083-4a2a-aecc-a7d670764729  2019-10-01 03:29:24  mobile_web   \n",
       "freq                                      49                   12      627052   \n",
       "\n",
       "                                session_uuid experiment_group user_country  \\\n",
       "count                                1252068          1252068      1252068   \n",
       "unique                                227564                2            5   \n",
       "top     27df8dfd-05e1-4be5-b64d-3207563daeab          control           US   \n",
       "freq                                      10           627723       877653   \n",
       "\n",
       "       event_page event_type  \n",
       "count     1252068    1252068  \n",
       "unique          4          5  \n",
       "top     item_page       view  \n",
       "freq       500191     821287  "
      ]
     },
     "execution_count": 21,
     "metadata": {},
     "output_type": "execute_result"
    }
   ],
   "source": [
    "#S2_1\n",
    "# Going back to the data - the user should be able to identify the ways the user's differ.\n",
    "# In this case the only two ways are device type and user country\n",
    "df.describe()"
   ]
  },
  {
   "cell_type": "code",
   "execution_count": 22,
   "metadata": {},
   "outputs": [],
   "source": [
    "#S2_1\n",
    "# One possible way students might get the values\n",
    "# This is the minimal effort. This student will have the types,\n",
    "# but not have the quantities of users in each group.\n",
    "devices = df.device_type.unique()\n",
    "countries = df.user_country.unique()"
   ]
  },
  {
   "cell_type": "code",
   "execution_count": 23,
   "metadata": {},
   "outputs": [
    {
     "data": {
      "text/html": [
       "<div>\n",
       "<style scoped>\n",
       "    .dataframe tbody tr th:only-of-type {\n",
       "        vertical-align: middle;\n",
       "    }\n",
       "\n",
       "    .dataframe tbody tr th {\n",
       "        vertical-align: top;\n",
       "    }\n",
       "\n",
       "    .dataframe thead th {\n",
       "        text-align: right;\n",
       "    }\n",
       "</style>\n",
       "<table border=\"1\" class=\"dataframe\">\n",
       "  <thead>\n",
       "    <tr style=\"text-align: right;\">\n",
       "      <th></th>\n",
       "      <th>user_country</th>\n",
       "      <th>count</th>\n",
       "    </tr>\n",
       "  </thead>\n",
       "  <tbody>\n",
       "    <tr>\n",
       "      <th>0</th>\n",
       "      <td>CN</td>\n",
       "      <td>1591</td>\n",
       "    </tr>\n",
       "    <tr>\n",
       "      <th>1</th>\n",
       "      <td>FR</td>\n",
       "      <td>4124</td>\n",
       "    </tr>\n",
       "    <tr>\n",
       "      <th>2</th>\n",
       "      <td>JP</td>\n",
       "      <td>2394</td>\n",
       "    </tr>\n",
       "    <tr>\n",
       "      <th>3</th>\n",
       "      <td>UK</td>\n",
       "      <td>16316</td>\n",
       "    </tr>\n",
       "    <tr>\n",
       "      <th>4</th>\n",
       "      <td>US</td>\n",
       "      <td>57283</td>\n",
       "    </tr>\n",
       "  </tbody>\n",
       "</table>\n",
       "</div>"
      ],
      "text/plain": [
       "  user_country  count\n",
       "0           CN   1591\n",
       "1           FR   4124\n",
       "2           JP   2394\n",
       "3           UK  16316\n",
       "4           US  57283"
      ]
     },
     "execution_count": 23,
     "metadata": {},
     "output_type": "execute_result"
    }
   ],
   "source": [
    "#S2_1\n",
    "# This and the the following code samples are examples which are \n",
    "# slightly better than the first.\n",
    "# Now the student might see which country or which device type is most imporant, \n",
    "# but not have a quantitative reason for the combination of the two.\n",
    "\n",
    "# Said another way - they may jump to the conclusion that \"US\" and \"Mobile Web\" is the right answer.\n",
    "# Simpsons paradox could trick them into thinking the independent sums are large when combined\n",
    "\n",
    "\n",
    "df.groupby('user_country')['user_uuid'].nunique().reset_index(name='count')"
   ]
  },
  {
   "cell_type": "code",
   "execution_count": 24,
   "metadata": {},
   "outputs": [
    {
     "data": {
      "text/html": [
       "<div>\n",
       "<style scoped>\n",
       "    .dataframe tbody tr th:only-of-type {\n",
       "        vertical-align: middle;\n",
       "    }\n",
       "\n",
       "    .dataframe tbody tr th {\n",
       "        vertical-align: top;\n",
       "    }\n",
       "\n",
       "    .dataframe thead th {\n",
       "        text-align: right;\n",
       "    }\n",
       "</style>\n",
       "<table border=\"1\" class=\"dataframe\">\n",
       "  <thead>\n",
       "    <tr style=\"text-align: right;\">\n",
       "      <th></th>\n",
       "      <th>device_type</th>\n",
       "      <th>count</th>\n",
       "    </tr>\n",
       "  </thead>\n",
       "  <tbody>\n",
       "    <tr>\n",
       "      <th>0</th>\n",
       "      <td>android</td>\n",
       "      <td>28606</td>\n",
       "    </tr>\n",
       "    <tr>\n",
       "      <th>1</th>\n",
       "      <td>desktop_web</td>\n",
       "      <td>20050</td>\n",
       "    </tr>\n",
       "    <tr>\n",
       "      <th>2</th>\n",
       "      <td>ios</td>\n",
       "      <td>42289</td>\n",
       "    </tr>\n",
       "    <tr>\n",
       "      <th>3</th>\n",
       "      <td>mobile_web</td>\n",
       "      <td>64359</td>\n",
       "    </tr>\n",
       "  </tbody>\n",
       "</table>\n",
       "</div>"
      ],
      "text/plain": [
       "   device_type  count\n",
       "0      android  28606\n",
       "1  desktop_web  20050\n",
       "2          ios  42289\n",
       "3   mobile_web  64359"
      ]
     },
     "execution_count": 24,
     "metadata": {},
     "output_type": "execute_result"
    }
   ],
   "source": [
    "#S2_1\n",
    "# Continuation of last example\n",
    "df.groupby('device_type')['user_uuid'].nunique().reset_index(name='count')"
   ]
  },
  {
   "cell_type": "code",
   "execution_count": 25,
   "metadata": {},
   "outputs": [
    {
     "data": {
      "text/plain": [
       "device_type  user_country\n",
       "android      CN                558\n",
       "             FR               1425\n",
       "             JP                846\n",
       "             UK               5764\n",
       "             US              20013\n",
       "desktop_web  CN                361\n",
       "             FR               1016\n",
       "             JP                579\n",
       "             UK               4030\n",
       "             US              14064\n",
       "ios          CN                801\n",
       "             FR               2121\n",
       "             JP               1280\n",
       "             UK               8415\n",
       "             US              29672\n",
       "mobile_web   CN               1245\n",
       "             FR               3285\n",
       "             JP               1921\n",
       "             UK              12850\n",
       "             US              45058\n",
       "Name: user_uuid, dtype: int64"
      ]
     },
     "execution_count": 25,
     "metadata": {},
     "output_type": "execute_result"
    }
   ],
   "source": [
    "# S2_1 \n",
    "# In this example the student has moved on to looking for the most impactful area\n",
    "# They've managed to count the number of sessions at the device / country level.\n",
    "\n",
    "# If they use this method and then manually get the numbers that's a hard way to do it,\n",
    "# but the correct answer\n",
    "#list(itertools.product(devices,countries))\n",
    "\n",
    "#df['Rank'] = (df['device_type'] + df['user_country']).astype(int).rank(method)\n",
    "df.groupby(['device_type', 'user_country'])['user_uuid'].nunique()"
   ]
  },
  {
   "cell_type": "code",
   "execution_count": 26,
   "metadata": {},
   "outputs": [
    {
     "data": {
      "text/plain": [
       "device_type  user_country\n",
       "android      CN               2.0\n",
       "             FR               9.0\n",
       "             JP               5.0\n",
       "             UK              14.0\n",
       "             US              18.0\n",
       "desktop_web  CN               1.0\n",
       "             FR               6.0\n",
       "             JP               3.0\n",
       "             UK              13.0\n",
       "             US              17.0\n",
       "ios          CN               4.0\n",
       "             FR              11.0\n",
       "             JP               8.0\n",
       "             UK              15.0\n",
       "             US              19.0\n",
       "mobile_web   CN               7.0\n",
       "             FR              12.0\n",
       "             JP              10.0\n",
       "             UK              16.0\n",
       "             US              20.0\n",
       "Name: user_uuid, dtype: float64"
      ]
     },
     "execution_count": 26,
     "metadata": {},
     "output_type": "execute_result"
    }
   ],
   "source": [
    "#S2_2\n",
    "\n",
    "# This student has made their life really easy.\n",
    "# They've not only found the number of sessions per device/region combination, \n",
    "# but they've also just rank ordered them - so they know where to start\n",
    "df.groupby(['device_type', 'user_country'])['user_uuid'].nunique().rank(method='dense')"
   ]
  },
  {
   "cell_type": "code",
   "execution_count": 27,
   "metadata": {},
   "outputs": [],
   "source": [
    "# S2_2\n",
    "# One possible way students might get the values\n",
    "# This is the minimal effort. This student will have the types of pages or events,\n",
    "# but not have the quantities of users in each group.\n",
    "\n",
    "pages = df.event_page.unique()"
   ]
  },
  {
   "cell_type": "code",
   "execution_count": 28,
   "metadata": {},
   "outputs": [],
   "source": [
    "events = df.event_type.unique()"
   ]
  },
  {
   "cell_type": "code",
   "execution_count": 29,
   "metadata": {},
   "outputs": [
    {
     "data": {
      "text/html": [
       "<div>\n",
       "<style scoped>\n",
       "    .dataframe tbody tr th:only-of-type {\n",
       "        vertical-align: middle;\n",
       "    }\n",
       "\n",
       "    .dataframe tbody tr th {\n",
       "        vertical-align: top;\n",
       "    }\n",
       "\n",
       "    .dataframe thead th {\n",
       "        text-align: right;\n",
       "    }\n",
       "</style>\n",
       "<table border=\"1\" class=\"dataframe\">\n",
       "  <thead>\n",
       "    <tr style=\"text-align: right;\">\n",
       "      <th></th>\n",
       "      <th>event_page</th>\n",
       "      <th>count</th>\n",
       "    </tr>\n",
       "  </thead>\n",
       "  <tbody>\n",
       "    <tr>\n",
       "      <th>0</th>\n",
       "      <td>home_page</td>\n",
       "      <td>125385</td>\n",
       "    </tr>\n",
       "    <tr>\n",
       "      <th>1</th>\n",
       "      <td>item_page</td>\n",
       "      <td>500191</td>\n",
       "    </tr>\n",
       "    <tr>\n",
       "      <th>2</th>\n",
       "      <td>marketing_page</td>\n",
       "      <td>375753</td>\n",
       "    </tr>\n",
       "    <tr>\n",
       "      <th>3</th>\n",
       "      <td>search_page</td>\n",
       "      <td>250739</td>\n",
       "    </tr>\n",
       "  </tbody>\n",
       "</table>\n",
       "</div>"
      ],
      "text/plain": [
       "       event_page   count\n",
       "0       home_page  125385\n",
       "1       item_page  500191\n",
       "2  marketing_page  375753\n",
       "3     search_page  250739"
      ]
     },
     "execution_count": 29,
     "metadata": {},
     "output_type": "execute_result"
    }
   ],
   "source": [
    "# This and the the following code samples are examples which are \n",
    "# slightly better than the first.\n",
    "\n",
    "# Now the student might see which page or which event type is most imporant, \n",
    "# but not have a quantitative reason for the combination of the two.\n",
    "\n",
    "# Said another way - they may jump to the conclusion that \"Item Page\" and \"View\" is the right answer.\n",
    "\n",
    "# Simpsons paradox could trick them into thinking the independent sums are large when combined\n",
    "df.groupby('event_page')['event_uuid'].nunique().reset_index(name='count')\n"
   ]
  },
  {
   "cell_type": "code",
   "execution_count": 30,
   "metadata": {},
   "outputs": [
    {
     "data": {
      "text/html": [
       "<div>\n",
       "<style scoped>\n",
       "    .dataframe tbody tr th:only-of-type {\n",
       "        vertical-align: middle;\n",
       "    }\n",
       "\n",
       "    .dataframe tbody tr th {\n",
       "        vertical-align: top;\n",
       "    }\n",
       "\n",
       "    .dataframe thead th {\n",
       "        text-align: right;\n",
       "    }\n",
       "</style>\n",
       "<table border=\"1\" class=\"dataframe\">\n",
       "  <thead>\n",
       "    <tr style=\"text-align: right;\">\n",
       "      <th></th>\n",
       "      <th>event_type</th>\n",
       "      <th>count</th>\n",
       "    </tr>\n",
       "  </thead>\n",
       "  <tbody>\n",
       "    <tr>\n",
       "      <th>0</th>\n",
       "      <td>cart</td>\n",
       "      <td>36709</td>\n",
       "    </tr>\n",
       "    <tr>\n",
       "      <th>1</th>\n",
       "      <td>favorite</td>\n",
       "      <td>194856</td>\n",
       "    </tr>\n",
       "    <tr>\n",
       "      <th>2</th>\n",
       "      <td>purchase</td>\n",
       "      <td>3910</td>\n",
       "    </tr>\n",
       "    <tr>\n",
       "      <th>3</th>\n",
       "      <td>share</td>\n",
       "      <td>195306</td>\n",
       "    </tr>\n",
       "    <tr>\n",
       "      <th>4</th>\n",
       "      <td>view</td>\n",
       "      <td>821287</td>\n",
       "    </tr>\n",
       "  </tbody>\n",
       "</table>\n",
       "</div>"
      ],
      "text/plain": [
       "  event_type   count\n",
       "0       cart   36709\n",
       "1   favorite  194856\n",
       "2   purchase    3910\n",
       "3      share  195306\n",
       "4       view  821287"
      ]
     },
     "execution_count": 30,
     "metadata": {},
     "output_type": "execute_result"
    }
   ],
   "source": [
    "\n",
    "\n",
    "df.groupby('event_type')['event_uuid'].nunique().reset_index(name='count')\n",
    "\n",
    "\n"
   ]
  },
  {
   "cell_type": "code",
   "execution_count": 31,
   "metadata": {},
   "outputs": [
    {
     "data": {
      "text/plain": [
       "event_page      event_type\n",
       "home_page       cart            3364\n",
       "                favorite       17799\n",
       "                purchase         328\n",
       "                share          17772\n",
       "                view           64938\n",
       "item_page       cart           11140\n",
       "                favorite       54707\n",
       "                purchase        1275\n",
       "                share          54942\n",
       "                view          151295\n",
       "marketing_page  cart            8940\n",
       "                favorite       44487\n",
       "                purchase        1046\n",
       "                share          44807\n",
       "                view          132963\n",
       "search_page     cart            6314\n",
       "                favorite       32559\n",
       "                purchase         715\n",
       "                share          32412\n",
       "                view          106021\n",
       "Name: session_uuid, dtype: int64"
      ]
     },
     "execution_count": 31,
     "metadata": {},
     "output_type": "execute_result"
    }
   ],
   "source": [
    "df.groupby(['event_page', 'event_type'])['session_uuid'].nunique()\n",
    "# In this example the student has moved on to looking for the most impactful area\n",
    "# They've managed to count the number of sessions at the event page / event type level.\n",
    "\n",
    "# If they use this method and then manually get the numbers that's a hard way to do it,\n",
    "# but the correct answer\n",
    "#list(itertools.product(pages,events))\n"
   ]
  },
  {
   "cell_type": "code",
   "execution_count": 32,
   "metadata": {},
   "outputs": [
    {
     "data": {
      "text/plain": [
       "event_page      event_type\n",
       "home_page       cart           5.0\n",
       "                favorite      10.0\n",
       "                purchase       1.0\n",
       "                share          9.0\n",
       "                view          17.0\n",
       "item_page       cart           8.0\n",
       "                favorite      15.0\n",
       "                purchase       4.0\n",
       "                share         16.0\n",
       "                view          20.0\n",
       "marketing_page  cart           7.0\n",
       "                favorite      13.0\n",
       "                purchase       3.0\n",
       "                share         14.0\n",
       "                view          19.0\n",
       "search_page     cart           6.0\n",
       "                favorite      12.0\n",
       "                purchase       2.0\n",
       "                share         11.0\n",
       "                view          18.0\n",
       "Name: session_uuid, dtype: float64"
      ]
     },
     "execution_count": 32,
     "metadata": {},
     "output_type": "execute_result"
    }
   ],
   "source": [
    "# This student has made their life really easy.\n",
    "# They've not only found the number of sessions per device/region combination, \n",
    "# but they've also just rank ordered them - so they know where to start\n",
    "df.groupby(['event_page', 'event_type'])['session_uuid'].nunique().rank(method='dense')"
   ]
  },
  {
   "cell_type": "code",
   "execution_count": 33,
   "metadata": {},
   "outputs": [
    {
     "data": {
      "text/plain": [
       "[('marketing_page', 'share'),\n",
       " ('marketing_page', 'view'),\n",
       " ('marketing_page', 'favorite'),\n",
       " ('marketing_page', 'cart'),\n",
       " ('marketing_page', 'purchase'),\n",
       " ('home_page', 'share'),\n",
       " ('home_page', 'view'),\n",
       " ('home_page', 'favorite'),\n",
       " ('home_page', 'cart'),\n",
       " ('home_page', 'purchase'),\n",
       " ('search_page', 'share'),\n",
       " ('search_page', 'view'),\n",
       " ('search_page', 'favorite'),\n",
       " ('search_page', 'cart'),\n",
       " ('search_page', 'purchase'),\n",
       " ('item_page', 'share'),\n",
       " ('item_page', 'view'),\n",
       " ('item_page', 'favorite'),\n",
       " ('item_page', 'cart'),\n",
       " ('item_page', 'purchase')]"
      ]
     },
     "execution_count": 33,
     "metadata": {},
     "output_type": "execute_result"
    }
   ],
   "source": [
    "# If they use this method and then manually get the numbers that's a hard way to do it,\n",
    "# but it's still the correct answer\n",
    "\n",
    "list(itertools.product(pages, events))"
   ]
  },
  {
   "cell_type": "code",
   "execution_count": 38,
   "metadata": {},
   "outputs": [
    {
     "data": {
      "text/plain": [
       "(0.78973631940260369,\n",
       " 0.37417986862285735,\n",
       " 1,\n",
       " array([[   3946.01636857,  223617.98363143],\n",
       "        [   2763.98363143,  156633.01636857]]))"
      ]
     },
     "execution_count": 38,
     "metadata": {},
     "output_type": "execute_result"
    }
   ],
   "source": [
    "#S2_3 Looking for Opporutnities\n",
    "# Conversion rate by Region\n",
    "\n",
    "## This example will return that users in the US don't act any different from users in any other region - on average.\n",
    "## The student can tell this because the p-value is so large\n",
    "\n",
    "purchase_by_region =  df.groupby('user_country')['event_type'].apply(lambda x: (x == 'purchase').sum()).reset_index(name='count')\n",
    "session_by_region =   df.groupby('user_country')['session_uuid'].nunique().reset_index(name='count')\n",
    "\n",
    "\n",
    "by_region_conversion = purchase_by_region.merge(session_by_region, on=\"user_country\", suffixes=(\"_purchase\", \"_sessions\") )\n",
    "\n",
    "purch_CN = by_region_conversion.loc[ by_region_conversion['user_country'] == 'CN', 'count_purchase'].iloc[0]\n",
    "purch_FR =  by_region_conversion.loc[ by_region_conversion['user_country'] == 'FR', 'count_purchase'].iloc[0] \n",
    "purch_JP =  by_region_conversion.loc[ by_region_conversion['user_country'] == 'JP', 'count_purchase'].iloc[0] \n",
    "purch_UK =  by_region_conversion.loc[ by_region_conversion['user_country'] == 'UK', 'count_purchase'].iloc[0] \n",
    "purch_US =  by_region_conversion.loc[ by_region_conversion['user_country'] == 'US', 'count_purchase'].iloc[0] \n",
    "\n",
    "sess_CN = by_region_conversion.loc[ by_region_conversion['user_country'] == 'CN', 'count_sessions'].iloc[0]\n",
    "sess_FR =  by_region_conversion.loc[ by_region_conversion['user_country'] == 'FR', 'count_sessions'].iloc[0] \n",
    "sess_JP =  by_region_conversion.loc[ by_region_conversion['user_country'] == 'JP', 'count_sessions'].iloc[0] \n",
    "sess_UK =  by_region_conversion.loc[ by_region_conversion['user_country'] == 'UK', 'count_sessions'].iloc[0] \n",
    "sess_US =  by_region_conversion.loc[ by_region_conversion['user_country'] == 'US', 'count_sessions'].iloc[0]\n",
    "\n",
    "purch_all_region = by_region_conversion['count_purchase'].sum()\n",
    "sess_all_region  = by_region_conversion['count_sessions'].sum()\n",
    "\n",
    "us_stats = [purch_US, sess_US - purch_US]\n",
    "all_region_stats = [purch_all_region, sess_all_region - purch_all_region]\n",
    "region_outcomes =  np.array([ all_region_stats, us_stats])\n",
    "stats.chi2_contingency(region_outcomes)\n",
    "\n"
   ]
  },
  {
   "cell_type": "code",
   "execution_count": 37,
   "metadata": {},
   "outputs": [
    {
     "data": {
      "text/plain": [
       "(134.59007677364482,\n",
       " 4.0588291038751217e-31,\n",
       " 1,\n",
       " array([[   3515.22221864,  224048.77778136],\n",
       "        [   1760.77778136,  112226.22221864]]))"
      ]
     },
     "execution_count": 37,
     "metadata": {},
     "output_type": "execute_result"
    }
   ],
   "source": [
    "# Conversion rate by Device\n",
    "\n",
    "## This example will return that users on mobile web have a much worse conversion rate than users on any other platform.\n",
    "## This is an area rife for hypothesis generation.\n",
    "\n",
    "\n",
    "purchase_by_device =  df.groupby('device_type')['event_type'].apply(lambda x: (x == 'purchase').sum()).reset_index(name='count')\n",
    "session_by_device =   df.groupby('device_type')['session_uuid'].nunique().reset_index(name='count')\n",
    "by_device_conversion = purchase_by_device.merge(session_by_device, on=\"device_type\", suffixes=(\"_purchase\", \"_sessions\") )\n",
    "\n",
    "\n",
    "purch_android = by_device_conversion.loc[ by_device_conversion['device_type'] == 'android', 'count_purchase'].iloc[0]\n",
    "purch_web =  by_device_conversion.loc[ by_device_conversion['device_type'] == 'desktop_web', 'count_purchase'].iloc[0] \n",
    "purch_ios =  by_device_conversion.loc[ by_device_conversion['device_type'] == 'ios', 'count_purchase'].iloc[0] \n",
    "purch_mweb =  by_device_conversion.loc[ by_device_conversion['device_type'] == 'mobile_web', 'count_purchase'].iloc[0] \n",
    "\n",
    "sess_android = by_device_conversion.loc[ by_device_conversion['device_type'] == 'android', 'count_sessions'].iloc[0]\n",
    "sess_web =  by_device_conversion.loc[ by_device_conversion['device_type'] == 'desktop_web', 'count_sessions'].iloc[0] \n",
    "sess_ios =  by_device_conversion.loc[ by_device_conversion['device_type'] == 'ios', 'count_sessions'].iloc[0] \n",
    "sess_mweb =  by_device_conversion.loc[ by_device_conversion['device_type'] == 'mobile_web', 'count_sessions'].iloc[0] \n",
    "\n",
    "purch_all_device = by_device_conversion['count_purchase'].sum()\n",
    "sess_all_device  = by_device_conversion['count_sessions'].sum()\n",
    "\n",
    "mweb_stats = [purch_mweb, sess_mweb - purch_mweb]\n",
    "all_device_stats = [purch_all_device, sess_all_device - purch_all_device]\n",
    "device_outcomes =  np.array([all_device_stats, mweb_stats])\n",
    "stats.chi2_contingency(device_outcomes)"
   ]
  },
  {
   "cell_type": "code",
   "execution_count": 7,
   "metadata": {},
   "outputs": [],
   "source": [
    "#Conversion rate by Device"
   ]
  },
  {
   "cell_type": "markdown",
   "metadata": {},
   "source": [
    "### Section 2 - Solution Summary\n",
    "\n",
    "1) The student has identified device type and region as the actionable elements of their personas as a first step.  \n",
    "\n",
    "2) The student has identified the item page is getting the most traffic and is the best opporunity to show traction in the short term.\n",
    "\n",
    "3) The student has at least identified the fact that there is a large drop off in conversion for users on mobile_web as compared to other users.\n"
   ]
  },
  {
   "cell_type": "markdown",
   "metadata": {},
   "source": [
    "## Section 3 - Generate Hypotheses and Recommended Next Step [STUDENT]\n",
    "\n",
    "Now you're going to generate hypotheses based on your personas, journey, and risks & opportunities\n",
    "\n",
    "Using the personas and journey steps identified above:\n",
    "\n",
    "\n",
    "![screen shots of mock website icecreamsandwi.ch ](screenshots.png)\n",
    "\n",
    "1) Find the best opportunity for your first set of hypotheses  \n",
    "2) Generate hypotheses of what do do next  \n",
    "3) Summarize your hypotheses and next best action for each  \n"
   ]
  },
  {
   "cell_type": "markdown",
   "metadata": {},
   "source": [
    "## Section 3 - Generate Hypotheses and Recommended Next Step [SOLUTION]"
   ]
  },
  {
   "cell_type": "markdown",
   "metadata": {},
   "source": [
    "![screen shots of mock website icecreamsandwi.ch ](screenshot_solution.png)\n",
    "\n",
    "1) Student should be able to call out that they identified Mobile Web for All Users as the best first place to generate hypotheses.\n",
    "\n",
    "2) Student should identify the lack of \"Free Shipping\" on mobile web as an opportunity \n",
    "\n",
    "3) Student should recommend an a/b experiment on mobile web.\n",
    "\n",
    "\n",
    "\n",
    "\n",
    "\n"
   ]
  },
  {
   "cell_type": "markdown",
   "metadata": {},
   "source": []
  },
  {
   "cell_type": "markdown",
   "metadata": {},
   "source": []
  },
  {
   "cell_type": "markdown",
   "metadata": {},
   "source": []
  }
 ],
 "metadata": {
  "kernelspec": {
   "display_name": "Python 3",
   "language": "python",
   "name": "python3"
  },
  "language_info": {
   "codemirror_mode": {
    "name": "ipython",
    "version": 3
   },
   "file_extension": ".py",
   "mimetype": "text/x-python",
   "name": "python",
   "nbconvert_exporter": "python",
   "pygments_lexer": "ipython3",
   "version": "3.6.3"
  },
  "ulab_nb_type": "guided"
 },
 "nbformat": 4,
 "nbformat_minor": 2
}
