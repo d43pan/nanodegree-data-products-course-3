{
 "cells": [
  {
   "cell_type": "markdown",
   "metadata": {
    "ulab": {
     "buttons": {
      "ulab-button-0c1c8b8a": {
       "bashCommand": "",
       "filesToOpen": [],
       "isPreviewButton": false,
       "runInBackground": false,
       "text": "RIGHT CLICK ME"
      }
     }
    }
   },
   "source": [
    "# Project: Getting Started with Iterative Product Management\n",
    "\n",
    "In the past 6 months your team worked tirelessly to launch the first flying car app, Flyber, to customers across New York City. The app has been something of a sleeper hit with the core group of flyers you launched with.  Meanwhile - a different team in the company launched the first a/b test to the different version of the apps, but believe they weren't able to see a signficant lift.\n",
    "\n",
    "You've decided it's time to step up, lay out a plan for how you're going to identify paths forward which give you the best chance at success.  You pitch the team on an iterative design process which brings qualitative and quantitative techniques together in order to minimize industry standard risk types so that you can move forward confidently.\n",
    "\n",
    "Someone in your company recently learned about a/b experiments - so they instrumented tracking and ran an experiment without putting much thought into what they were testing.\n",
    "\n",
    "Unsurprisingly - the results of the experiment seem to have flopped.  While the total effect isn't known it doesn't seem to have moved any key metric.\n",
    "\n",
    "But there's a bright side! \n",
    "\n",
    "The data scientist on your team now has some well structured event logs they can dig through in order to surface user personas and a journey.  You tell the team you'd like to collect all of the known assumptions before you launch the next experiment to the site so you have the best chance of success.  You tell the CEO that at the end of your week long design sprint you're going to summarize what's known and propose a path forward which is iterative and gives you the best chance of moving the needle.  \n",
    "\n",
    "\n",
    "Your CEO gives you the ok if you can help them show the largest possible impact in the shortest time possible.\n",
    "\n",
    "\n"
   ]
  },
  {
   "cell_type": "markdown",
   "metadata": {},
   "source": [
    "<!--\n",
    "%%ulab_page_divider\n",
    "--><hr/>"
   ]
  },
  {
   "cell_type": "markdown",
   "metadata": {},
   "source": [
    "## Submission Requirements\n",
    "\n",
    "Find the Student Submission Starter Deck here (TKTK)\n",
    "\n",
    "Take the analysis given to you and summarize the previous experiment, develop personas and a journey, and generate hypotheses and proposed next steps.\n",
    "\n",
    "Section 1:   \n",
    "1: Check to see if the previous a/b experiment was valid (95% confidence)  \n",
    "2: Check if the experiment or control won by performing a chi-square test on outcomes and reporting on if the difference is signifcant.  \n",
    "\n",
    "Section 2:   \n",
    "1: Find the actionable attributes of your users upon which to build your personas  \n",
    "2: Find the different stages of the user's journey  \n",
    "3: Identify risks or opportunities for your team to address with hypotheses    \n",
    "\n",
    "Section 3:   \n",
    "1: Generate well formed hypotheses with clear next steps"
   ]
  },
  {
   "cell_type": "markdown",
   "metadata": {},
   "source": [
    "<!--\n",
    "%%ulab_page_divider\n",
    "--><hr/>"
   ]
  },
  {
   "cell_type": "markdown",
   "metadata": {},
   "source": [
    "## Offline Instructions\n",
    "\n",
    "This notebook contains everything you need to complete your analysis and submit your final project.\n",
    "\n",
    "In case you need to work offline here's what you need to do\n",
    "\n",
    "1) Download this file and the Student Submission Starter Deck  \n",
    "2) Complete your analysis in the Deck (or in your own version)  \n",
    "3) Upload your presentation for evaluation   "
   ]
  },
  {
   "cell_type": "markdown",
   "metadata": {},
   "source": [
    "<!--\n",
    "%%ulab_page_divider\n",
    "--><hr/>"
   ]
  },
  {
   "cell_type": "markdown",
   "metadata": {},
   "source": [
    "## Section 1 - Evaluate previous a/b experiment\n",
    "\n",
    "## Doing a quick analysis to explore the data from the previous experiment.  \n",
    "\n",
    "\n",
    "1: Confirm the data is loaded  \n",
    "2: Check to see if the previous a/b experiment was valid (95% confidence)  \n",
    "3: Check if the experiment or control won by performing a chi-square test on outcomes and reporting on if the difference is signifcant."
   ]
  },
  {
   "cell_type": "code",
   "execution_count": 19,
   "metadata": {},
   "outputs": [],
   "source": [
    "import numpy as np\n",
    "from scipy import stats\n",
    "import pandas as pd\n",
    "import glob\n",
    "import datetime\n",
    "import itertools\n",
    "import seaborn as sns\n"
   ]
  },
  {
   "cell_type": "code",
   "execution_count": 16,
   "metadata": {},
   "outputs": [],
   "source": [
    "log_files = glob.glob(r'event_logs_part_*.csv')\n",
    "df = pd.concat((pd.read_csv(f) for f in log_files)).drop(['Unnamed: 0'],axis=1)"
   ]
  },
  {
   "cell_type": "code",
   "execution_count": 20,
   "metadata": {},
   "outputs": [
    {
     "data": {
      "text/html": [
       "<div>\n",
       "<style scoped>\n",
       "    .dataframe tbody tr th:only-of-type {\n",
       "        vertical-align: middle;\n",
       "    }\n",
       "\n",
       "    .dataframe tbody tr th {\n",
       "        vertical-align: top;\n",
       "    }\n",
       "\n",
       "    .dataframe thead th {\n",
       "        text-align: right;\n",
       "    }\n",
       "</style>\n",
       "<table border=\"1\" class=\"dataframe\">\n",
       "  <thead>\n",
       "    <tr style=\"text-align: right;\">\n",
       "      <th></th>\n",
       "      <th>event_uuid</th>\n",
       "      <th>user_uuid</th>\n",
       "      <th>event_time</th>\n",
       "      <th>device_type</th>\n",
       "      <th>session_uuid</th>\n",
       "      <th>experiment_group</th>\n",
       "      <th>user_neighborhood</th>\n",
       "      <th>event_page</th>\n",
       "      <th>event_type</th>\n",
       "    </tr>\n",
       "  </thead>\n",
       "  <tbody>\n",
       "    <tr>\n",
       "      <th>count</th>\n",
       "      <td>1249794</td>\n",
       "      <td>1249794</td>\n",
       "      <td>1249794</td>\n",
       "      <td>1249794</td>\n",
       "      <td>1249794</td>\n",
       "      <td>1249794</td>\n",
       "      <td>1249794</td>\n",
       "      <td>1249794</td>\n",
       "      <td>1249794</td>\n",
       "    </tr>\n",
       "    <tr>\n",
       "      <th>unique</th>\n",
       "      <td>1249794</td>\n",
       "      <td>81634</td>\n",
       "      <td>526238</td>\n",
       "      <td>4</td>\n",
       "      <td>227052</td>\n",
       "      <td>2</td>\n",
       "      <td>5</td>\n",
       "      <td>4</td>\n",
       "      <td>5</td>\n",
       "    </tr>\n",
       "    <tr>\n",
       "      <th>top</th>\n",
       "      <td>16d8383e-2038-43c7-9564-272cc240a90a</td>\n",
       "      <td>6168f837-f882-4930-8553-f0ef17526400</td>\n",
       "      <td>2019-10-08 09:46:29</td>\n",
       "      <td>mobile_web</td>\n",
       "      <td>5a5239e4-1f95-40e8-bba8-fc04fbcceb1f</td>\n",
       "      <td>experiment</td>\n",
       "      <td>Manhattan</td>\n",
       "      <td>search_page</td>\n",
       "      <td>open</td>\n",
       "    </tr>\n",
       "    <tr>\n",
       "      <th>freq</th>\n",
       "      <td>1</td>\n",
       "      <td>49</td>\n",
       "      <td>12</td>\n",
       "      <td>625049</td>\n",
       "      <td>10</td>\n",
       "      <td>625982</td>\n",
       "      <td>876309</td>\n",
       "      <td>500655</td>\n",
       "      <td>818808</td>\n",
       "    </tr>\n",
       "  </tbody>\n",
       "</table>\n",
       "</div>"
      ],
      "text/plain": [
       "                                  event_uuid  \\\n",
       "count                                1249794   \n",
       "unique                               1249794   \n",
       "top     16d8383e-2038-43c7-9564-272cc240a90a   \n",
       "freq                                       1   \n",
       "\n",
       "                                   user_uuid           event_time device_type  \\\n",
       "count                                1249794              1249794     1249794   \n",
       "unique                                 81634               526238           4   \n",
       "top     6168f837-f882-4930-8553-f0ef17526400  2019-10-08 09:46:29  mobile_web   \n",
       "freq                                      49                   12      625049   \n",
       "\n",
       "                                session_uuid experiment_group  \\\n",
       "count                                1249794          1249794   \n",
       "unique                                227052                2   \n",
       "top     5a5239e4-1f95-40e8-bba8-fc04fbcceb1f       experiment   \n",
       "freq                                      10           625982   \n",
       "\n",
       "       user_neighborhood   event_page event_type  \n",
       "count            1249794      1249794    1249794  \n",
       "unique                 5            4          5  \n",
       "top            Manhattan  search_page       open  \n",
       "freq              876309       500655     818808  "
      ]
     },
     "execution_count": 20,
     "metadata": {},
     "output_type": "execute_result"
    }
   ],
   "source": [
    "df.describe()"
   ]
  },
  {
   "cell_type": "code",
   "execution_count": 21,
   "metadata": {},
   "outputs": [
    {
     "data": {
      "text/html": [
       "<div>\n",
       "<style scoped>\n",
       "    .dataframe tbody tr th:only-of-type {\n",
       "        vertical-align: middle;\n",
       "    }\n",
       "\n",
       "    .dataframe tbody tr th {\n",
       "        vertical-align: top;\n",
       "    }\n",
       "\n",
       "    .dataframe thead th {\n",
       "        text-align: right;\n",
       "    }\n",
       "</style>\n",
       "<table border=\"1\" class=\"dataframe\">\n",
       "  <thead>\n",
       "    <tr style=\"text-align: right;\">\n",
       "      <th></th>\n",
       "      <th>experiment_group</th>\n",
       "      <th>count</th>\n",
       "    </tr>\n",
       "  </thead>\n",
       "  <tbody>\n",
       "    <tr>\n",
       "      <th>0</th>\n",
       "      <td>control</td>\n",
       "      <td>113234</td>\n",
       "    </tr>\n",
       "    <tr>\n",
       "      <th>1</th>\n",
       "      <td>experiment</td>\n",
       "      <td>113818</td>\n",
       "    </tr>\n",
       "  </tbody>\n",
       "</table>\n",
       "</div>"
      ],
      "text/plain": [
       "  experiment_group   count\n",
       "0          control  113234\n",
       "1       experiment  113818"
      ]
     },
     "execution_count": 21,
     "metadata": {},
     "output_type": "execute_result"
    }
   ],
   "source": [
    "## Get the number of sessions by experiment or control group\n",
    "df.groupby('experiment_group').apply(lambda x: x['session_uuid'].nunique()).reset_index(name='count')"
   ]
  },
  {
   "cell_type": "code",
   "execution_count": 22,
   "metadata": {},
   "outputs": [
    {
     "name": "stdout",
     "output_type": "stream",
     "text": [
      "p_hat:\t\t 0.4983115516182791\n",
      "confidence int:\t (0.49541093079380116, 0.50458906920619884)\n",
      "Continue analysis?: True\n"
     ]
    }
   ],
   "source": [
    "## Ensure the experiment was split evenly between sessions\n",
    "\n",
    "control_sessions = df.groupby('experiment_group').apply(lambda x: x['session_uuid'].nunique())['control']\n",
    "experiment_sessions = df.groupby('experiment_group').apply(lambda x: x['session_uuid'].nunique())['experiment']\n",
    "\n",
    "\n",
    "desired_p = 0.5  \n",
    "z_score = 1.960  #z-score for 95% confidence range\n",
    "\n",
    "total_control =  22725 #total number of sessions control\n",
    "total_experiment = 22879 #total number of sessions experiment\n",
    "\n",
    "\n",
    "standard_deviation = np.sqrt((0.5*0.5)/(total_control + total_experiment))\n",
    "margin_error = standard_deviation * z_score\n",
    "\n",
    "confidence_interval = (desired_p-margin_error, desired_p+margin_error)\n",
    "\n",
    "p_hat = total_control / (total_control + total_experiment)\n",
    "\n",
    "print(\"p_hat:\\t\\t\", p_hat)\n",
    "print(\"confidence int:\\t\", confidence_interval)\n",
    "print(\"Continue analysis?:\", p_hat > confidence_interval[0] and p_hat < confidence_interval[1])"
   ]
  },
  {
   "cell_type": "code",
   "execution_count": 24,
   "metadata": {},
   "outputs": [
    {
     "data": {
      "text/html": [
       "<div>\n",
       "<style scoped>\n",
       "    .dataframe tbody tr th:only-of-type {\n",
       "        vertical-align: middle;\n",
       "    }\n",
       "\n",
       "    .dataframe tbody tr th {\n",
       "        vertical-align: top;\n",
       "    }\n",
       "\n",
       "    .dataframe thead th {\n",
       "        text-align: right;\n",
       "    }\n",
       "</style>\n",
       "<table border=\"1\" class=\"dataframe\">\n",
       "  <thead>\n",
       "    <tr style=\"text-align: right;\">\n",
       "      <th></th>\n",
       "      <th>experiment_group</th>\n",
       "      <th>count</th>\n",
       "    </tr>\n",
       "  </thead>\n",
       "  <tbody>\n",
       "    <tr>\n",
       "      <th>0</th>\n",
       "      <td>control</td>\n",
       "      <td>1859</td>\n",
       "    </tr>\n",
       "    <tr>\n",
       "      <th>1</th>\n",
       "      <td>experiment</td>\n",
       "      <td>1999</td>\n",
       "    </tr>\n",
       "  </tbody>\n",
       "</table>\n",
       "</div>"
      ],
      "text/plain": [
       "  experiment_group  count\n",
       "0          control   1859\n",
       "1       experiment   1999"
      ]
     },
     "execution_count": 24,
     "metadata": {},
     "output_type": "execute_result"
    }
   ],
   "source": [
    "## Get the number of rides begun by experiment or control group\n",
    "df.groupby('experiment_group')['event_type'].apply(lambda x: (x == 'begin_ride').sum()).reset_index(name='count')\n"
   ]
  },
  {
   "cell_type": "code",
   "execution_count": 25,
   "metadata": {},
   "outputs": [],
   "source": [
    "control_rides = df.groupby('experiment_group')['event_type'].apply(lambda x: (x == 'begin_ride').sum())['control']\n",
    "experiment_rides = df.groupby('experiment_group')['event_type'].apply(lambda x: (x == 'begin_ride').sum())['experiment']\n"
   ]
  },
  {
   "cell_type": "code",
   "execution_count": 26,
   "metadata": {},
   "outputs": [
    {
     "data": {
      "text/plain": [
       "(4.3931917025002649,\n",
       " 0.036082705117276674,\n",
       " 1,\n",
       " array([[   1924.03842292,  111309.96157708],\n",
       "        [   1933.96157708,  111884.03842292]]))"
      ]
     },
     "execution_count": 26,
     "metadata": {},
     "output_type": "execute_result"
    }
   ],
   "source": [
    "#S1_3\n",
    "#chisuared test\n",
    "\n",
    "#P-value here greater than .05 (our test for significance).  This result could be due to randomness\n",
    "\n",
    "control_stats = [control_rides, control_sessions - control_rides]\n",
    "experiment_stats = [experiment_rides, experiment_sessions - experiment_rides]\n",
    "outcomes =  np.array([control_stats, experiment_stats])\n",
    "stats.chi2_contingency(outcomes)"
   ]
  },
  {
   "cell_type": "markdown",
   "metadata": {},
   "source": [
    "## Section 2 - Develop Actionable Personas and Journey Steps"
   ]
  },
  {
   "cell_type": "code",
   "execution_count": 27,
   "metadata": {},
   "outputs": [
    {
     "data": {
      "text/html": [
       "<div>\n",
       "<style scoped>\n",
       "    .dataframe tbody tr th:only-of-type {\n",
       "        vertical-align: middle;\n",
       "    }\n",
       "\n",
       "    .dataframe tbody tr th {\n",
       "        vertical-align: top;\n",
       "    }\n",
       "\n",
       "    .dataframe thead th {\n",
       "        text-align: right;\n",
       "    }\n",
       "</style>\n",
       "<table border=\"1\" class=\"dataframe\">\n",
       "  <thead>\n",
       "    <tr style=\"text-align: right;\">\n",
       "      <th></th>\n",
       "      <th>event_uuid</th>\n",
       "      <th>user_uuid</th>\n",
       "      <th>event_time</th>\n",
       "      <th>device_type</th>\n",
       "      <th>session_uuid</th>\n",
       "      <th>experiment_group</th>\n",
       "      <th>user_neighborhood</th>\n",
       "      <th>event_page</th>\n",
       "      <th>event_type</th>\n",
       "    </tr>\n",
       "  </thead>\n",
       "  <tbody>\n",
       "    <tr>\n",
       "      <th>count</th>\n",
       "      <td>1249794</td>\n",
       "      <td>1249794</td>\n",
       "      <td>1249794</td>\n",
       "      <td>1249794</td>\n",
       "      <td>1249794</td>\n",
       "      <td>1249794</td>\n",
       "      <td>1249794</td>\n",
       "      <td>1249794</td>\n",
       "      <td>1249794</td>\n",
       "    </tr>\n",
       "    <tr>\n",
       "      <th>unique</th>\n",
       "      <td>1249794</td>\n",
       "      <td>81634</td>\n",
       "      <td>526238</td>\n",
       "      <td>4</td>\n",
       "      <td>227052</td>\n",
       "      <td>2</td>\n",
       "      <td>5</td>\n",
       "      <td>4</td>\n",
       "      <td>5</td>\n",
       "    </tr>\n",
       "    <tr>\n",
       "      <th>top</th>\n",
       "      <td>16d8383e-2038-43c7-9564-272cc240a90a</td>\n",
       "      <td>6168f837-f882-4930-8553-f0ef17526400</td>\n",
       "      <td>2019-10-08 09:46:29</td>\n",
       "      <td>mobile_web</td>\n",
       "      <td>5a5239e4-1f95-40e8-bba8-fc04fbcceb1f</td>\n",
       "      <td>experiment</td>\n",
       "      <td>Manhattan</td>\n",
       "      <td>search_page</td>\n",
       "      <td>open</td>\n",
       "    </tr>\n",
       "    <tr>\n",
       "      <th>freq</th>\n",
       "      <td>1</td>\n",
       "      <td>49</td>\n",
       "      <td>12</td>\n",
       "      <td>625049</td>\n",
       "      <td>10</td>\n",
       "      <td>625982</td>\n",
       "      <td>876309</td>\n",
       "      <td>500655</td>\n",
       "      <td>818808</td>\n",
       "    </tr>\n",
       "  </tbody>\n",
       "</table>\n",
       "</div>"
      ],
      "text/plain": [
       "                                  event_uuid  \\\n",
       "count                                1249794   \n",
       "unique                               1249794   \n",
       "top     16d8383e-2038-43c7-9564-272cc240a90a   \n",
       "freq                                       1   \n",
       "\n",
       "                                   user_uuid           event_time device_type  \\\n",
       "count                                1249794              1249794     1249794   \n",
       "unique                                 81634               526238           4   \n",
       "top     6168f837-f882-4930-8553-f0ef17526400  2019-10-08 09:46:29  mobile_web   \n",
       "freq                                      49                   12      625049   \n",
       "\n",
       "                                session_uuid experiment_group  \\\n",
       "count                                1249794          1249794   \n",
       "unique                                227052                2   \n",
       "top     5a5239e4-1f95-40e8-bba8-fc04fbcceb1f       experiment   \n",
       "freq                                      10           625982   \n",
       "\n",
       "       user_neighborhood   event_page event_type  \n",
       "count            1249794      1249794    1249794  \n",
       "unique                 5            4          5  \n",
       "top            Manhattan  search_page       open  \n",
       "freq              876309       500655     818808  "
      ]
     },
     "execution_count": 27,
     "metadata": {},
     "output_type": "execute_result"
    }
   ],
   "source": [
    "# Going back to the data\n",
    "df.describe()"
   ]
  },
  {
   "cell_type": "code",
   "execution_count": 8,
   "metadata": {},
   "outputs": [],
   "source": [
    "\n",
    "# Starting an Exploratory Analysis.  I want to look at the nnumber of unique device types and countries.\n",
    "devices = df.device_type.unique()\n",
    "neighborhood = df.user_neighborhood.unique()"
   ]
  },
  {
   "cell_type": "code",
   "execution_count": 28,
   "metadata": {},
   "outputs": [],
   "source": [
    "#Count of users by country\n",
    "neighborhoods = df.groupby('user_neighborhood')['user_uuid'].nunique().reset_index(name='count')"
   ]
  },
  {
   "cell_type": "code",
   "execution_count": 32,
   "metadata": {},
   "outputs": [
    {
     "data": {
      "image/png": "[encoded data removed]",
      "text/plain": [
       "<matplotlib.figure.Figure at 0x7f97ced65898>"
      ]
     },
     "metadata": {
      "needs_background": "light"
     },
     "output_type": "display_data"
    }
   ],
   "source": [
    "ax = sns.barplot(x=\"user_neighborhood\", y=\"count\", data=neighborhoods)"
   ]
  },
  {
   "cell_type": "code",
   "execution_count": 33,
   "metadata": {},
   "outputs": [],
   "source": [
    "#Count of devices by country\n",
    "devices = df.groupby('device_type')['user_uuid'].nunique().reset_index(name='count')"
   ]
  },
  {
   "cell_type": "code",
   "execution_count": 36,
   "metadata": {},
   "outputs": [
    {
     "data": {
      "image/png": "[encoded data removed]",
      "text/plain": [
       "<matplotlib.figure.Figure at 0x7f97beb622e8>"
      ]
     },
     "metadata": {
      "needs_background": "light"
     },
     "output_type": "display_data"
    }
   ],
   "source": [
    "ax = sns.barplot(x=\"device_type\", y=\"count\", data=devices)"
   ]
  },
  {
   "cell_type": "code",
   "execution_count": 37,
   "metadata": {},
   "outputs": [
    {
     "data": {
      "text/plain": [
       "device_type  user_neighborhood\n",
       "android      Bronx                  843\n",
       "             Brooklyn              5780\n",
       "             Manhattan            19886\n",
       "             Queens                1379\n",
       "             Staten Island          526\n",
       "desktop_web  Bronx                  624\n",
       "             Brooklyn              4062\n",
       "             Manhattan            14105\n",
       "             Queens                1029\n",
       "             Staten Island          376\n",
       "ios          Bronx                 1216\n",
       "             Brooklyn              8477\n",
       "             Manhattan            29273\n",
       "             Queens                2093\n",
       "             Staten Island          829\n",
       "mobile_web   Bronx                 1880\n",
       "             Brooklyn             12933\n",
       "             Manhattan            44984\n",
       "             Queens                3160\n",
       "             Staten Island         1232\n",
       "Name: user_uuid, dtype: int64"
      ]
     },
     "execution_count": 37,
     "metadata": {},
     "output_type": "execute_result"
    }
   ],
   "source": [
    "#Count of users by neighborhood by device type\n",
    "df.groupby(['device_type', 'user_neighborhood'])['user_uuid'].nunique()"
   ]
  },
  {
   "cell_type": "code",
   "execution_count": 39,
   "metadata": {},
   "outputs": [
    {
     "data": {
      "text/plain": [
       "device_type  user_neighborhood\n",
       "android      Bronx                 5.0\n",
       "             Brooklyn             14.0\n",
       "             Manhattan            18.0\n",
       "             Queens                9.0\n",
       "             Staten Island         2.0\n",
       "desktop_web  Bronx                 3.0\n",
       "             Brooklyn             13.0\n",
       "             Manhattan            17.0\n",
       "             Queens                6.0\n",
       "             Staten Island         1.0\n",
       "ios          Bronx                 7.0\n",
       "             Brooklyn             15.0\n",
       "             Manhattan            19.0\n",
       "             Queens               11.0\n",
       "             Staten Island         4.0\n",
       "mobile_web   Bronx                10.0\n",
       "             Brooklyn             16.0\n",
       "             Manhattan            20.0\n",
       "             Queens               12.0\n",
       "             Staten Island         8.0\n",
       "Name: user_uuid, dtype: float64"
      ]
     },
     "execution_count": 39,
     "metadata": {},
     "output_type": "execute_result"
    }
   ],
   "source": [
    "#Rank of users by neighborhood by device type.  Higher is more users.\n",
    "df.groupby(['device_type', 'user_neighborhood'])['user_uuid'].nunique().rank(method='dense')"
   ]
  },
  {
   "cell_type": "code",
   "execution_count": 40,
   "metadata": {},
   "outputs": [],
   "source": [
    "# Continuing an Exploratory Analysis.  I want to look at the event pages and event types captured.\n",
    "\n",
    "pages = df.event_page.unique()\n",
    "events = df.event_type.unique()"
   ]
  },
  {
   "cell_type": "code",
   "execution_count": 41,
   "metadata": {},
   "outputs": [
    {
     "data": {
      "text/html": [
       "<div>\n",
       "<style scoped>\n",
       "    .dataframe tbody tr th:only-of-type {\n",
       "        vertical-align: middle;\n",
       "    }\n",
       "\n",
       "    .dataframe tbody tr th {\n",
       "        vertical-align: top;\n",
       "    }\n",
       "\n",
       "    .dataframe thead th {\n",
       "        text-align: right;\n",
       "    }\n",
       "</style>\n",
       "<table border=\"1\" class=\"dataframe\">\n",
       "  <thead>\n",
       "    <tr style=\"text-align: right;\">\n",
       "      <th></th>\n",
       "      <th>event_page</th>\n",
       "      <th>count</th>\n",
       "    </tr>\n",
       "  </thead>\n",
       "  <tbody>\n",
       "    <tr>\n",
       "      <th>0</th>\n",
       "      <td>book_page</td>\n",
       "      <td>249424</td>\n",
       "    </tr>\n",
       "    <tr>\n",
       "      <th>1</th>\n",
       "      <td>driver_page</td>\n",
       "      <td>125248</td>\n",
       "    </tr>\n",
       "    <tr>\n",
       "      <th>2</th>\n",
       "      <td>search_page</td>\n",
       "      <td>500655</td>\n",
       "    </tr>\n",
       "    <tr>\n",
       "      <th>3</th>\n",
       "      <td>splash_page</td>\n",
       "      <td>374467</td>\n",
       "    </tr>\n",
       "  </tbody>\n",
       "</table>\n",
       "</div>"
      ],
      "text/plain": [
       "    event_page   count\n",
       "0    book_page  249424\n",
       "1  driver_page  125248\n",
       "2  search_page  500655\n",
       "3  splash_page  374467"
      ]
     },
     "execution_count": 41,
     "metadata": {},
     "output_type": "execute_result"
    }
   ],
   "source": [
    "#Page type by number of events\n",
    "df.groupby('event_page')['event_uuid'].nunique().reset_index(name='count')\n"
   ]
  },
  {
   "cell_type": "code",
   "execution_count": 42,
   "metadata": {},
   "outputs": [
    {
     "data": {
      "text/html": [
       "<div>\n",
       "<style scoped>\n",
       "    .dataframe tbody tr th:only-of-type {\n",
       "        vertical-align: middle;\n",
       "    }\n",
       "\n",
       "    .dataframe tbody tr th {\n",
       "        vertical-align: top;\n",
       "    }\n",
       "\n",
       "    .dataframe thead th {\n",
       "        text-align: right;\n",
       "    }\n",
       "</style>\n",
       "<table border=\"1\" class=\"dataframe\">\n",
       "  <thead>\n",
       "    <tr style=\"text-align: right;\">\n",
       "      <th></th>\n",
       "      <th>event_type</th>\n",
       "      <th>count</th>\n",
       "    </tr>\n",
       "  </thead>\n",
       "  <tbody>\n",
       "    <tr>\n",
       "      <th>0</th>\n",
       "      <td>begin_ride</td>\n",
       "      <td>3858</td>\n",
       "    </tr>\n",
       "    <tr>\n",
       "      <th>1</th>\n",
       "      <td>choose_car</td>\n",
       "      <td>195147</td>\n",
       "    </tr>\n",
       "    <tr>\n",
       "      <th>2</th>\n",
       "      <td>open</td>\n",
       "      <td>818808</td>\n",
       "    </tr>\n",
       "    <tr>\n",
       "      <th>3</th>\n",
       "      <td>request_car</td>\n",
       "      <td>36573</td>\n",
       "    </tr>\n",
       "    <tr>\n",
       "      <th>4</th>\n",
       "      <td>search</td>\n",
       "      <td>195408</td>\n",
       "    </tr>\n",
       "  </tbody>\n",
       "</table>\n",
       "</div>"
      ],
      "text/plain": [
       "    event_type   count\n",
       "0   begin_ride    3858\n",
       "1   choose_car  195147\n",
       "2         open  818808\n",
       "3  request_car   36573\n",
       "4       search  195408"
      ]
     },
     "execution_count": 42,
     "metadata": {},
     "output_type": "execute_result"
    }
   ],
   "source": [
    "#Count of event types on any page\n",
    "df.groupby('event_type')['event_uuid'].nunique().reset_index(name='count')\n",
    "\n",
    "\n"
   ]
  },
  {
   "cell_type": "code",
   "execution_count": 43,
   "metadata": {},
   "outputs": [
    {
     "data": {
      "text/plain": [
       "event_page   event_type \n",
       "book_page    begin_ride        698\n",
       "             choose_car      32574\n",
       "             open           105125\n",
       "             request_car      6469\n",
       "             search          32538\n",
       "driver_page  begin_ride        377\n",
       "             choose_car      17632\n",
       "             open            64855\n",
       "             request_car      3436\n",
       "             search          17737\n",
       "search_page  begin_ride       1310\n",
       "             choose_car      54943\n",
       "             open           151631\n",
       "             request_car     11009\n",
       "             search          54777\n",
       "splash_page  begin_ride        956\n",
       "             choose_car      44486\n",
       "             open           132043\n",
       "             request_car      8805\n",
       "             search          44612\n",
       "Name: session_uuid, dtype: int64"
      ]
     },
     "execution_count": 43,
     "metadata": {},
     "output_type": "execute_result"
    }
   ],
   "source": [
    "#Count of sessions by event page by event type\n",
    "\n",
    "df.groupby(['event_page', 'event_type'])['session_uuid'].nunique()\n",
    "\n"
   ]
  },
  {
   "cell_type": "code",
   "execution_count": 44,
   "metadata": {},
   "outputs": [
    {
     "data": {
      "text/plain": [
       "event_page   event_type \n",
       "book_page    begin_ride      2.0\n",
       "             choose_car     12.0\n",
       "             open           18.0\n",
       "             request_car     6.0\n",
       "             search         11.0\n",
       "driver_page  begin_ride      1.0\n",
       "             choose_car      9.0\n",
       "             open           17.0\n",
       "             request_car     5.0\n",
       "             search         10.0\n",
       "search_page  begin_ride      4.0\n",
       "             choose_car     16.0\n",
       "             open           20.0\n",
       "             request_car     8.0\n",
       "             search         15.0\n",
       "splash_page  begin_ride      3.0\n",
       "             choose_car     13.0\n",
       "             open           19.0\n",
       "             request_car     7.0\n",
       "             search         14.0\n",
       "Name: session_uuid, dtype: float64"
      ]
     },
     "execution_count": 44,
     "metadata": {},
     "output_type": "execute_result"
    }
   ],
   "source": [
    "#Rank of sessions by event page by event type.  Higher is more sessions.\n",
    "\n",
    "df.groupby(['event_page', 'event_type'])['session_uuid'].nunique().rank(method='dense')"
   ]
  },
  {
   "cell_type": "code",
   "execution_count": 48,
   "metadata": {},
   "outputs": [
    {
     "data": {
      "text/plain": [
       "(0.39535851680392009,\n",
       " 0.52949610041393513,\n",
       " 1,\n",
       " array([[   3832.72908211,  223219.27091789],\n",
       "        [   2684.27091789,  156332.72908211]]))"
      ]
     },
     "execution_count": 48,
     "metadata": {},
     "output_type": "execute_result"
    }
   ],
   "source": [
    "# Conversion rate by neighborhood\n",
    "\n",
    "## It appears users in the US don't convert any differently from users in any other region.\n",
    "## While we may expect that they have different behavior, it doesn't appear to be true.\n",
    "\n",
    "\n",
    "ride_by_neighborhood =  df.groupby('user_neighborhood')['event_type'].apply(lambda x: (x == 'begin_ride').sum()).reset_index(name='count')\n",
    "session_by_neighborhood =   df.groupby('user_neighborhood')['session_uuid'].nunique().reset_index(name='count')\n",
    "\n",
    "\n",
    "by_neighborhood_conversion = ride_by_neighborhood.merge(session_by_neighborhood, on=\"user_neighborhood\", suffixes=(\"_ride\", \"_sessions\") )\n",
    "\n",
    "purch_Ma = by_neighborhood_conversion.loc[ by_neighborhood_conversion['user_neighborhood'] == 'Manhattan', 'count_ride'].iloc[0]\n",
    "purch_Bk =  by_neighborhood_conversion.loc[ by_neighborhood_conversion['user_neighborhood'] == 'Brooklyn', 'count_ride'].iloc[0] \n",
    "purch_Qu =  by_neighborhood_conversion.loc[ by_neighborhood_conversion['user_neighborhood'] == 'Queens', 'count_ride'].iloc[0] \n",
    "purch_Bx =  by_neighborhood_conversion.loc[ by_neighborhood_conversion['user_neighborhood'] == 'Bronx', 'count_ride'].iloc[0] \n",
    "purch_Si =  by_neighborhood_conversion.loc[ by_neighborhood_conversion['user_neighborhood'] == 'Staten Island', 'count_ride'].iloc[0] \n",
    "\n",
    "sess_Ma = by_neighborhood_conversion.loc[ by_neighborhood_conversion['user_neighborhood'] == 'Manhattan', 'count_sessions'].iloc[0]\n",
    "sess_Bk =  by_neighborhood_conversion.loc[ by_neighborhood_conversion['user_neighborhood'] == 'Brooklyn', 'count_sessions'].iloc[0] \n",
    "sess_Qu =  by_neighborhood_conversion.loc[ by_neighborhood_conversion['user_neighborhood'] == 'Queens', 'count_sessions'].iloc[0] \n",
    "sess_Bx =  by_neighborhood_conversion.loc[ by_neighborhood_conversion['user_neighborhood'] == 'Bronx', 'count_sessions'].iloc[0] \n",
    "sess_Si =  by_neighborhood_conversion.loc[ by_neighborhood_conversion['user_neighborhood'] == 'Staten Island', 'count_sessions'].iloc[0]\n",
    "\n",
    "rides_all_region = by_neighborhood_conversion['count_ride'].sum()\n",
    "sess_all_region  = by_neighborhood_conversion['count_sessions'].sum()\n",
    "\n",
    "ma_stats = [purch_Ma, sess_Ma - purch_Ma]\n",
    "all_neighborhood_stats = [rides_all_region, sess_all_region - rides_all_region]\n",
    "neighborhood_outcomes =  np.array([ all_neighborhood_stats, ma_stats])\n",
    "stats.chi2_contingency(neighborhood_outcomes)\n",
    "\n"
   ]
  },
  {
   "cell_type": "code",
   "execution_count": 50,
   "metadata": {},
   "outputs": [
    {
     "data": {
      "text/plain": [
       "(137.52106473023591,\n",
       " 9.2754096369652041e-32,\n",
       " 1,\n",
       " array([[   3461.94668701,  223590.05331299],\n",
       "        [   1734.05331299,  111993.94668701]]))"
      ]
     },
     "execution_count": 50,
     "metadata": {},
     "output_type": "execute_result"
    }
   ],
   "source": [
    "# Conversion rate by Device\n",
    "\n",
    "## Users on mobile web have a much worse conversion rate than users on any other platform.\n",
    "## This is an area rife for hypothesis generation.\n",
    "\n",
    "\n",
    "rides_by_device =  df.groupby('device_type')['event_type'].apply(lambda x: (x == 'begin_ride').sum()).reset_index(name='count')\n",
    "session_by_device =   df.groupby('device_type')['session_uuid'].nunique().reset_index(name='count')\n",
    "by_device_conversion = rides_by_device.merge(session_by_device, on=\"device_type\", suffixes=(\"_ride\", \"_sessions\") )\n",
    "\n",
    "\n",
    "ride_android = by_device_conversion.loc[ by_device_conversion['device_type'] == 'android', 'count_ride'].iloc[0]\n",
    "ride_web =  by_device_conversion.loc[ by_device_conversion['device_type'] == 'desktop_web', 'count_ride'].iloc[0] \n",
    "ride_ios =  by_device_conversion.loc[ by_device_conversion['device_type'] == 'ios', 'count_ride'].iloc[0] \n",
    "ride_mweb =  by_device_conversion.loc[ by_device_conversion['device_type'] == 'mobile_web', 'count_ride'].iloc[0] \n",
    "\n",
    "sess_android = by_device_conversion.loc[ by_device_conversion['device_type'] == 'android', 'count_sessions'].iloc[0]\n",
    "sess_web =  by_device_conversion.loc[ by_device_conversion['device_type'] == 'desktop_web', 'count_sessions'].iloc[0] \n",
    "sess_ios =  by_device_conversion.loc[ by_device_conversion['device_type'] == 'ios', 'count_sessions'].iloc[0] \n",
    "sess_mweb =  by_device_conversion.loc[ by_device_conversion['device_type'] == 'mobile_web', 'count_sessions'].iloc[0] \n",
    "\n",
    "ride_all_device = by_device_conversion['count_ride'].sum()\n",
    "sess_all_device  = by_device_conversion['count_sessions'].sum()\n",
    "\n",
    "mweb_stats = [ride_mweb, sess_mweb - ride_mweb]\n",
    "all_device_stats = [ride_all_device, sess_all_device - ride_all_device]\n",
    "device_outcomes =  np.array([all_device_stats, mweb_stats])\n",
    "stats.chi2_contingency(device_outcomes)"
   ]
  },
  {
   "cell_type": "code",
   "execution_count": 53,
   "metadata": {},
   "outputs": [
    {
     "data": {
      "text/html": [
       "<div>\n",
       "<style scoped>\n",
       "    .dataframe tbody tr th:only-of-type {\n",
       "        vertical-align: middle;\n",
       "    }\n",
       "\n",
       "    .dataframe tbody tr th {\n",
       "        vertical-align: top;\n",
       "    }\n",
       "\n",
       "    .dataframe thead tr th {\n",
       "        text-align: left;\n",
       "    }\n",
       "\n",
       "    .dataframe thead tr:last-of-type th {\n",
       "        text-align: right;\n",
       "    }\n",
       "</style>\n",
       "<table border=\"1\" class=\"dataframe\">\n",
       "  <thead>\n",
       "    <tr>\n",
       "      <th></th>\n",
       "      <th colspan=\"8\" halign=\"left\">count_ride</th>\n",
       "      <th colspan=\"8\" halign=\"left\">count_sessions</th>\n",
       "    </tr>\n",
       "    <tr>\n",
       "      <th></th>\n",
       "      <th>count</th>\n",
       "      <th>mean</th>\n",
       "      <th>std</th>\n",
       "      <th>min</th>\n",
       "      <th>25%</th>\n",
       "      <th>50%</th>\n",
       "      <th>75%</th>\n",
       "      <th>max</th>\n",
       "      <th>count</th>\n",
       "      <th>mean</th>\n",
       "      <th>std</th>\n",
       "      <th>min</th>\n",
       "      <th>25%</th>\n",
       "      <th>50%</th>\n",
       "      <th>75%</th>\n",
       "      <th>max</th>\n",
       "    </tr>\n",
       "    <tr>\n",
       "      <th>device_type</th>\n",
       "      <th></th>\n",
       "      <th></th>\n",
       "      <th></th>\n",
       "      <th></th>\n",
       "      <th></th>\n",
       "      <th></th>\n",
       "      <th></th>\n",
       "      <th></th>\n",
       "      <th></th>\n",
       "      <th></th>\n",
       "      <th></th>\n",
       "      <th></th>\n",
       "      <th></th>\n",
       "      <th></th>\n",
       "      <th></th>\n",
       "      <th></th>\n",
       "    </tr>\n",
       "  </thead>\n",
       "  <tbody>\n",
       "    <tr>\n",
       "      <th>android</th>\n",
       "      <td>1.0</td>\n",
       "      <td>763.0</td>\n",
       "      <td>NaN</td>\n",
       "      <td>763.0</td>\n",
       "      <td>763.0</td>\n",
       "      <td>763.0</td>\n",
       "      <td>763.0</td>\n",
       "      <td>763.0</td>\n",
       "      <td>1.0</td>\n",
       "      <td>34018.0</td>\n",
       "      <td>NaN</td>\n",
       "      <td>34018.0</td>\n",
       "      <td>34018.0</td>\n",
       "      <td>34018.0</td>\n",
       "      <td>34018.0</td>\n",
       "      <td>34018.0</td>\n",
       "    </tr>\n",
       "    <tr>\n",
       "      <th>desktop_web</th>\n",
       "      <td>1.0</td>\n",
       "      <td>483.0</td>\n",
       "      <td>NaN</td>\n",
       "      <td>483.0</td>\n",
       "      <td>483.0</td>\n",
       "      <td>483.0</td>\n",
       "      <td>483.0</td>\n",
       "      <td>483.0</td>\n",
       "      <td>1.0</td>\n",
       "      <td>22846.0</td>\n",
       "      <td>NaN</td>\n",
       "      <td>22846.0</td>\n",
       "      <td>22846.0</td>\n",
       "      <td>22846.0</td>\n",
       "      <td>22846.0</td>\n",
       "      <td>22846.0</td>\n",
       "    </tr>\n",
       "    <tr>\n",
       "      <th>ios</th>\n",
       "      <td>1.0</td>\n",
       "      <td>1274.0</td>\n",
       "      <td>NaN</td>\n",
       "      <td>1274.0</td>\n",
       "      <td>1274.0</td>\n",
       "      <td>1274.0</td>\n",
       "      <td>1274.0</td>\n",
       "      <td>1274.0</td>\n",
       "      <td>1.0</td>\n",
       "      <td>56460.0</td>\n",
       "      <td>NaN</td>\n",
       "      <td>56460.0</td>\n",
       "      <td>56460.0</td>\n",
       "      <td>56460.0</td>\n",
       "      <td>56460.0</td>\n",
       "      <td>56460.0</td>\n",
       "    </tr>\n",
       "    <tr>\n",
       "      <th>mobile_web</th>\n",
       "      <td>1.0</td>\n",
       "      <td>1338.0</td>\n",
       "      <td>NaN</td>\n",
       "      <td>1338.0</td>\n",
       "      <td>1338.0</td>\n",
       "      <td>1338.0</td>\n",
       "      <td>1338.0</td>\n",
       "      <td>1338.0</td>\n",
       "      <td>1.0</td>\n",
       "      <td>113728.0</td>\n",
       "      <td>NaN</td>\n",
       "      <td>113728.0</td>\n",
       "      <td>113728.0</td>\n",
       "      <td>113728.0</td>\n",
       "      <td>113728.0</td>\n",
       "      <td>113728.0</td>\n",
       "    </tr>\n",
       "  </tbody>\n",
       "</table>\n",
       "</div>"
      ],
      "text/plain": [
       "            count_ride                                                      \\\n",
       "                 count    mean std     min     25%     50%     75%     max   \n",
       "device_type                                                                  \n",
       "android            1.0   763.0 NaN   763.0   763.0   763.0   763.0   763.0   \n",
       "desktop_web        1.0   483.0 NaN   483.0   483.0   483.0   483.0   483.0   \n",
       "ios                1.0  1274.0 NaN  1274.0  1274.0  1274.0  1274.0  1274.0   \n",
       "mobile_web         1.0  1338.0 NaN  1338.0  1338.0  1338.0  1338.0  1338.0   \n",
       "\n",
       "            count_sessions                                              \\\n",
       "                     count      mean std       min       25%       50%   \n",
       "device_type                                                              \n",
       "android                1.0   34018.0 NaN   34018.0   34018.0   34018.0   \n",
       "desktop_web            1.0   22846.0 NaN   22846.0   22846.0   22846.0   \n",
       "ios                    1.0   56460.0 NaN   56460.0   56460.0   56460.0   \n",
       "mobile_web             1.0  113728.0 NaN  113728.0  113728.0  113728.0   \n",
       "\n",
       "                                 \n",
       "                  75%       max  \n",
       "device_type                      \n",
       "android       34018.0   34018.0  \n",
       "desktop_web   22846.0   22846.0  \n",
       "ios           56460.0   56460.0  \n",
       "mobile_web   113728.0  113728.0  "
      ]
     },
     "execution_count": 53,
     "metadata": {},
     "output_type": "execute_result"
    }
   ],
   "source": [
    "## This is a nonsense plot.  I can't make sense of this part of the data.  Leaving it here for the next data scientist to pick up.\n",
    "by_device_conversion.groupby('device_type').describe()"
   ]
  },
  {
   "cell_type": "code",
   "execution_count": 55,
   "metadata": {},
   "outputs": [
    {
     "data": {
      "image/png": "[encoded data removed]",
      "text/plain": [
       "<matplotlib.figure.Figure at 0x7f97caba2710>"
      ]
     },
     "metadata": {
      "needs_background": "light"
     },
     "output_type": "display_data"
    }
   ],
   "source": [
    "## Plotting purchases over sessions\n",
    "\n",
    "import matplotlib.pyplot as plt\n",
    "\n",
    "groups = by_device_conversion.groupby('device_type')\n",
    "fig, ax = plt.subplots()\n",
    "ax.margins(0.05) # Optional, just adds 5% padding to the autoscaling\n",
    "\n",
    "for name, group in groups:\n",
    "    ax.plot(group.count_sessions, group.count_ride, marker='o', linestyle='', ms=12, label=name)\n",
    "ax.legend()\n",
    "plt.xlabel(\"count_sessions\")\n",
    "plt.ylabel(\"count_ride\")\n",
    "plt.show()"
   ]
  },
  {
   "cell_type": "code",
   "execution_count": 63,
   "metadata": {},
   "outputs": [
    {
     "data": {
      "image/png": "[encoded data removed]",
      "text/plain": [
       "<matplotlib.figure.Figure at 0x7f9818da58d0>"
      ]
     },
     "metadata": {
      "needs_background": "light"
     },
     "output_type": "display_data"
    }
   ],
   "source": [
    "## Ride Rate Per Platform\n",
    "data = (groups['count_ride'].mean() / groups['count_sessions'].mean()).reset_index(name='count')\n",
    "ax = sns.barplot(x=\"device_type\", y=\"count\", data=data)"
   ]
  },
  {
   "cell_type": "code",
   "execution_count": 65,
   "metadata": {},
   "outputs": [
    {
     "data": {
      "image/png": "[encoded data removed]",
      "text/plain": [
       "<matplotlib.figure.Figure at 0x7f97d24c36d8>"
      ]
     },
     "metadata": {
      "needs_background": "light"
     },
     "output_type": "display_data"
    }
   ],
   "source": [
    "#Landing Events Per Page Type\n",
    "\n",
    "landings = df.sort_values(['session_uuid','event_time'], ascending=True).groupby('session_uuid').first().groupby('event_page')['event_uuid'].count().reset_index(name='count')\n",
    "\n",
    "ax = sns.barplot(x=\"event_page\", y=\"count\", data=landings)\n"
   ]
  },
  {
   "cell_type": "markdown",
   "metadata": {},
   "source": [
    "## Section 3 - Generate Hypotheses and Recommended Next Step [STUDENT]\n",
    "\n",
    "Now you're going to generate hypotheses based on your personas, journey, and risks & opportunities\n",
    "\n",
    "Using the personas and journey steps identified above:\n",
    "\n",
    "\n",
    "![screen shots of mock website flyber](flyber_screenshot_cr.png)\n",
    "\n",
    "1) Find the best opportunity for your first set of hypotheses  \n",
    "2) Generate hypotheses of what do do next  \n",
    "3) Summarize your hypotheses and next best action for each  \n"
   ]
  }
 ],
 "metadata": {
  "kernelspec": {
   "display_name": "Python 3",
   "language": "python",
   "name": "python3"
  },
  "language_info": {
   "codemirror_mode": {
    "name": "ipython",
    "version": 3
   },
   "file_extension": ".py",
   "mimetype": "text/x-python",
   "name": "python",
   "nbconvert_exporter": "python",
   "pygments_lexer": "ipython3",
   "version": "3.6.3"
  },
  "ulab_nb_type": "guided"
 },
 "nbformat": 4,
 "nbformat_minor": 2
}
