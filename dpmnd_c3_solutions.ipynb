{
 "cells": [
  {
   "cell_type": "markdown",
   "metadata": {
    "ulab": {
     "buttons": {
      "ulab-button-0c1c8b8a": {
       "bashCommand": "",
       "filesToOpen": [],
       "isPreviewButton": false,
       "runInBackground": false,
       "text": "RIGHT CLICK ME"
      }
     }
    }
   },
   "source": [
    "# Project: Getting Started with Iterative Product Management\n",
    "\n",
    "The boutique ice cream sandwich startup you've joined, IceCreamSandwi.ch, has gotten by on the personality of it's founder, I. Sandwich (real name?), for too long.  The last 2 quarters of features the team has launched to the website have not landed with customers.\n",
    "\n",
    "You've decided it's time to step up, lay out a plan for how you're going to identify paths forward which are more likely to succeed than \"whatever I. Sandich happened to promise a random person they met at a bar last night\".  You pitch the team on an iterative design process which brings qualitative and quantitative techniques together in order to minimize industry standard risk types so that you can move forward confidently.\n",
    "\n",
    "Someone in your company recently learned about a/b experiments - so they instrumented tracking and ran an experiment based on your founder's unfounded random idea.\n",
    "\n",
    "Unsurprisingly - the results of the experiment seem to have flopped.  While the total effect isn't known it definitely wasn't a 10x experiment. \n",
    "\n",
    "But there's a bright side! \n",
    "\n",
    "The data scientist on your team now has some well structured event logs they can dig through in order to surface user personas and a journey.  You tell the team you'd like to collect all of the known assumptions before you launch the next experiment to the site so you have the best chance of success.  You tell the CEO and Board (wait - is it really just their friends from college and mom?) that at the end of your week long design sprint you're going to summarize what's known and propose a path forward which is iterative and gives you the best chance of moving the needle.  \n",
    "\n",
    "\n",
    "Your CEO gives you the ok if you can help them show the largest possible impact in the shortest time possible.\n",
    "\n",
    "\n"
   ]
  },
  {
   "cell_type": "markdown",
   "metadata": {},
   "source": [
    "<!--\n",
    "%%ulab_page_divider\n",
    "--><hr/>"
   ]
  },
  {
   "cell_type": "markdown",
   "metadata": {},
   "source": [
    "## Submission Requirements\n",
    "\n",
    "Find the Student Submission Starter Deck here (TKTK)\n",
    "\n",
    "Take the analysis given to you and summarize the previous experiment, develop personas and a journey, and generate hypotheses and proposed next steps.\n",
    "\n",
    "Section 1:   \n",
    "1: Check to see if the previous a/b experiment was valid (95% confidence)  \n",
    "2: Check if the experiment or control won by performing a chi-square test on outcomes and reporting on if the difference is signifcant.  \n",
    "\n",
    "Section 2:   \n",
    "1: Find the actionable attributes of your users upon which to build your personas  \n",
    "2: Find the different stages of the user's journey  \n",
    "3: Identify risks or opportunities for your team to address with hypotheses    \n",
    "\n",
    "Section 3:   \n",
    "1: Generate well formed hypotheses with clear next steps"
   ]
  },
  {
   "cell_type": "markdown",
   "metadata": {},
   "source": [
    "<!--\n",
    "%%ulab_page_divider\n",
    "--><hr/>"
   ]
  },
  {
   "cell_type": "markdown",
   "metadata": {},
   "source": [
    "## Offline Instructions\n",
    "\n",
    "This notebook contains everything you need to complete your analysis and submit your final project.\n",
    "\n",
    "In case you need to work offline here's what you need to do\n",
    "\n",
    "1) Download this file and the Student Submission Starter Deck  \n",
    "2) Complete your analysis in the Deck (or in your own version)  \n",
    "3) Upload your presentation for evaluation   "
   ]
  },
  {
   "cell_type": "markdown",
   "metadata": {},
   "source": [
    "<!--\n",
    "%%ulab_page_divider\n",
    "--><hr/>"
   ]
  },
  {
   "cell_type": "markdown",
   "metadata": {},
   "source": [
    "## Section 1 - Evaluate previous a/b experiment\n",
    "\n",
    "## Doing a quick analysis to explore the data from the previous experiment.  \n",
    "\n",
    "\n",
    "1: Confirm the data is loaded  \n",
    "2: Check to see if the previous a/b experiment was valid (95% confidence)  \n",
    "3: Check if the experiment or control won by performing a chi-square test on outcomes and reporting on if the difference is signifcant."
   ]
  },
  {
   "cell_type": "code",
   "execution_count": 2,
   "metadata": {},
   "outputs": [],
   "source": [
    "import numpy as np\n",
    "from scipy import stats\n",
    "import pandas as pd\n",
    "import glob\n",
    "import datetime\n",
    "import itertools\n",
    "\n",
    "log_files = glob.glob(r'event_logs_part_*.csv')\n",
    "df = pd.concat((pd.read_csv(f) for f in log_files)).drop(['Unnamed: 0'],axis=1)"
   ]
  },
  {
   "cell_type": "code",
   "execution_count": 3,
   "metadata": {},
   "outputs": [
    {
     "data": {
      "text/html": [
       "<div>\n",
       "<style scoped>\n",
       "    .dataframe tbody tr th:only-of-type {\n",
       "        vertical-align: middle;\n",
       "    }\n",
       "\n",
       "    .dataframe tbody tr th {\n",
       "        vertical-align: top;\n",
       "    }\n",
       "\n",
       "    .dataframe thead th {\n",
       "        text-align: right;\n",
       "    }\n",
       "</style>\n",
       "<table border=\"1\" class=\"dataframe\">\n",
       "  <thead>\n",
       "    <tr style=\"text-align: right;\">\n",
       "      <th></th>\n",
       "      <th>event_uuid</th>\n",
       "      <th>user_uuid</th>\n",
       "      <th>event_time</th>\n",
       "      <th>device_type</th>\n",
       "      <th>session_uuid</th>\n",
       "      <th>experiment_group</th>\n",
       "      <th>user_country</th>\n",
       "      <th>event_page</th>\n",
       "      <th>event_type</th>\n",
       "    </tr>\n",
       "  </thead>\n",
       "  <tbody>\n",
       "    <tr>\n",
       "      <th>count</th>\n",
       "      <td>1252068</td>\n",
       "      <td>1252068</td>\n",
       "      <td>1252068</td>\n",
       "      <td>1252068</td>\n",
       "      <td>1252068</td>\n",
       "      <td>1252068</td>\n",
       "      <td>1252068</td>\n",
       "      <td>1252068</td>\n",
       "      <td>1252068</td>\n",
       "    </tr>\n",
       "    <tr>\n",
       "      <th>unique</th>\n",
       "      <td>1252068</td>\n",
       "      <td>81708</td>\n",
       "      <td>526433</td>\n",
       "      <td>4</td>\n",
       "      <td>227564</td>\n",
       "      <td>2</td>\n",
       "      <td>5</td>\n",
       "      <td>4</td>\n",
       "      <td>5</td>\n",
       "    </tr>\n",
       "    <tr>\n",
       "      <th>top</th>\n",
       "      <td>4a7a87cd-20d0-49b7-a97c-c5e590e6dd0c</td>\n",
       "      <td>2b74eece-a277-44f5-8199-680f522c5c21</td>\n",
       "      <td>2019-10-01 03:29:24</td>\n",
       "      <td>mobile_web</td>\n",
       "      <td>cb4a510d-75c4-4d1c-a941-be424e32db6e</td>\n",
       "      <td>control</td>\n",
       "      <td>US</td>\n",
       "      <td>item_page</td>\n",
       "      <td>view</td>\n",
       "    </tr>\n",
       "    <tr>\n",
       "      <th>freq</th>\n",
       "      <td>1</td>\n",
       "      <td>49</td>\n",
       "      <td>12</td>\n",
       "      <td>627052</td>\n",
       "      <td>10</td>\n",
       "      <td>627723</td>\n",
       "      <td>877653</td>\n",
       "      <td>500191</td>\n",
       "      <td>821287</td>\n",
       "    </tr>\n",
       "  </tbody>\n",
       "</table>\n",
       "</div>"
      ],
      "text/plain": [
       "                                  event_uuid  \\\n",
       "count                                1252068   \n",
       "unique                               1252068   \n",
       "top     4a7a87cd-20d0-49b7-a97c-c5e590e6dd0c   \n",
       "freq                                       1   \n",
       "\n",
       "                                   user_uuid           event_time device_type  \\\n",
       "count                                1252068              1252068     1252068   \n",
       "unique                                 81708               526433           4   \n",
       "top     2b74eece-a277-44f5-8199-680f522c5c21  2019-10-01 03:29:24  mobile_web   \n",
       "freq                                      49                   12      627052   \n",
       "\n",
       "                                session_uuid experiment_group user_country  \\\n",
       "count                                1252068          1252068      1252068   \n",
       "unique                                227564                2            5   \n",
       "top     cb4a510d-75c4-4d1c-a941-be424e32db6e          control           US   \n",
       "freq                                      10           627723       877653   \n",
       "\n",
       "       event_page event_type  \n",
       "count     1252068    1252068  \n",
       "unique          4          5  \n",
       "top     item_page       view  \n",
       "freq       500191     821287  "
      ]
     },
     "execution_count": 3,
     "metadata": {},
     "output_type": "execute_result"
    }
   ],
   "source": [
    "df.describe()"
   ]
  },
  {
   "cell_type": "code",
   "execution_count": 4,
   "metadata": {},
   "outputs": [
    {
     "data": {
      "text/html": [
       "<div>\n",
       "<style scoped>\n",
       "    .dataframe tbody tr th:only-of-type {\n",
       "        vertical-align: middle;\n",
       "    }\n",
       "\n",
       "    .dataframe tbody tr th {\n",
       "        vertical-align: top;\n",
       "    }\n",
       "\n",
       "    .dataframe thead th {\n",
       "        text-align: right;\n",
       "    }\n",
       "</style>\n",
       "<table border=\"1\" class=\"dataframe\">\n",
       "  <thead>\n",
       "    <tr style=\"text-align: right;\">\n",
       "      <th></th>\n",
       "      <th>experiment_group</th>\n",
       "      <th>count</th>\n",
       "    </tr>\n",
       "  </thead>\n",
       "  <tbody>\n",
       "    <tr>\n",
       "      <th>0</th>\n",
       "      <td>control</td>\n",
       "      <td>113911</td>\n",
       "    </tr>\n",
       "    <tr>\n",
       "      <th>1</th>\n",
       "      <td>experiment</td>\n",
       "      <td>113653</td>\n",
       "    </tr>\n",
       "  </tbody>\n",
       "</table>\n",
       "</div>"
      ],
      "text/plain": [
       "  experiment_group   count\n",
       "0          control  113911\n",
       "1       experiment  113653"
      ]
     },
     "execution_count": 4,
     "metadata": {},
     "output_type": "execute_result"
    }
   ],
   "source": [
    "## Get the number of sessions by experiment or control group\n",
    "df.groupby('experiment_group').apply(lambda x: x['session_uuid'].nunique()).reset_index(name='count')"
   ]
  },
  {
   "cell_type": "code",
   "execution_count": 5,
   "metadata": {},
   "outputs": [
    {
     "name": "stdout",
     "output_type": "stream",
     "text": [
      "p_hat:\t\t 0.4983115516182791\n",
      "confidence int:\t (0.49541093079380116, 0.50458906920619884)\n",
      "Continue analysis?: True\n"
     ]
    }
   ],
   "source": [
    "## Ensure the experiment was split evenly between sessions\n",
    "\n",
    "control_sessions = df.groupby('experiment_group').apply(lambda x: x['session_uuid'].nunique())['control']\n",
    "experiment_sessions = df.groupby('experiment_group').apply(lambda x: x['session_uuid'].nunique())['experiment']\n",
    "\n",
    "\n",
    "desired_p = 0.5  \n",
    "z_score = 1.960  #z-score for 95% confidence range\n",
    "\n",
    "total_control =  22725 #total number of sessions control\n",
    "total_experiment = 22879 #total number of sessions experiment\n",
    "\n",
    "\n",
    "standard_deviation = np.sqrt((0.5*0.5)/(total_control + total_experiment))\n",
    "margin_error = standard_deviation * z_score\n",
    "\n",
    "confidence_interval = (desired_p-margin_error, desired_p+margin_error)\n",
    "\n",
    "p_hat = total_control / (total_control + total_experiment)\n",
    "\n",
    "print(\"p_hat:\\t\\t\", p_hat)\n",
    "print(\"confidence int:\\t\", confidence_interval)\n",
    "print(\"Continue analysis?:\", p_hat > confidence_interval[0] and p_hat < confidence_interval[1])"
   ]
  },
  {
   "cell_type": "code",
   "execution_count": 6,
   "metadata": {},
   "outputs": [
    {
     "data": {
      "text/html": [
       "<div>\n",
       "<style scoped>\n",
       "    .dataframe tbody tr th:only-of-type {\n",
       "        vertical-align: middle;\n",
       "    }\n",
       "\n",
       "    .dataframe tbody tr th {\n",
       "        vertical-align: top;\n",
       "    }\n",
       "\n",
       "    .dataframe thead th {\n",
       "        text-align: right;\n",
       "    }\n",
       "</style>\n",
       "<table border=\"1\" class=\"dataframe\">\n",
       "  <thead>\n",
       "    <tr style=\"text-align: right;\">\n",
       "      <th></th>\n",
       "      <th>experiment_group</th>\n",
       "      <th>count</th>\n",
       "    </tr>\n",
       "  </thead>\n",
       "  <tbody>\n",
       "    <tr>\n",
       "      <th>0</th>\n",
       "      <td>control</td>\n",
       "      <td>1957</td>\n",
       "    </tr>\n",
       "    <tr>\n",
       "      <th>1</th>\n",
       "      <td>experiment</td>\n",
       "      <td>1953</td>\n",
       "    </tr>\n",
       "  </tbody>\n",
       "</table>\n",
       "</div>"
      ],
      "text/plain": [
       "  experiment_group  count\n",
       "0          control   1957\n",
       "1       experiment   1953"
      ]
     },
     "execution_count": 6,
     "metadata": {},
     "output_type": "execute_result"
    }
   ],
   "source": [
    "## Get the number of purchases by experiment or control group\n",
    "df.groupby('experiment_group')['event_type'].apply(lambda x: (x == 'purchase').sum()).reset_index(name='count')\n"
   ]
  },
  {
   "cell_type": "code",
   "execution_count": 7,
   "metadata": {},
   "outputs": [],
   "source": [
    "control_purchase = df.groupby('experiment_group')['event_type'].apply(lambda x: (x == 'purchase').sum())['control']\n",
    "experiment_purchase = df.groupby('experiment_group')['event_type'].apply(lambda x: (x == 'purchase').sum())['experiment']\n"
   ]
  },
  {
   "cell_type": "code",
   "execution_count": 8,
   "metadata": {},
   "outputs": [
    {
     "data": {
      "text/plain": [
       "(8.3674337178373762e-05,\n",
       " 0.99270155826395723,\n",
       " 1,\n",
       " array([[   1957.21647537,  111953.78352463],\n",
       "        [   1952.78352463,  111700.21647537]]))"
      ]
     },
     "execution_count": 8,
     "metadata": {},
     "output_type": "execute_result"
    }
   ],
   "source": [
    "#S1_3\n",
    "#chisuared test\n",
    "\n",
    "#P-value here greater than .05 (our test for significance).  This result could be due to randomness\n",
    "\n",
    "control_stats = [control_purchase, control_sessions - control_purchase]\n",
    "experiment_stats = [experiment_purchase, experiment_sessions - experiment_purchase]\n",
    "outcomes =  np.array([control_stats, experiment_stats])\n",
    "stats.chi2_contingency(outcomes)"
   ]
  },
  {
   "cell_type": "markdown",
   "metadata": {},
   "source": [
    "## Section 2 - Develop Actionable Personas and Journey Steps"
   ]
  },
  {
   "cell_type": "code",
   "execution_count": 9,
   "metadata": {},
   "outputs": [
    {
     "data": {
      "text/html": [
       "<div>\n",
       "<style scoped>\n",
       "    .dataframe tbody tr th:only-of-type {\n",
       "        vertical-align: middle;\n",
       "    }\n",
       "\n",
       "    .dataframe tbody tr th {\n",
       "        vertical-align: top;\n",
       "    }\n",
       "\n",
       "    .dataframe thead th {\n",
       "        text-align: right;\n",
       "    }\n",
       "</style>\n",
       "<table border=\"1\" class=\"dataframe\">\n",
       "  <thead>\n",
       "    <tr style=\"text-align: right;\">\n",
       "      <th></th>\n",
       "      <th>event_uuid</th>\n",
       "      <th>user_uuid</th>\n",
       "      <th>event_time</th>\n",
       "      <th>device_type</th>\n",
       "      <th>session_uuid</th>\n",
       "      <th>experiment_group</th>\n",
       "      <th>user_country</th>\n",
       "      <th>event_page</th>\n",
       "      <th>event_type</th>\n",
       "    </tr>\n",
       "  </thead>\n",
       "  <tbody>\n",
       "    <tr>\n",
       "      <th>count</th>\n",
       "      <td>1252068</td>\n",
       "      <td>1252068</td>\n",
       "      <td>1252068</td>\n",
       "      <td>1252068</td>\n",
       "      <td>1252068</td>\n",
       "      <td>1252068</td>\n",
       "      <td>1252068</td>\n",
       "      <td>1252068</td>\n",
       "      <td>1252068</td>\n",
       "    </tr>\n",
       "    <tr>\n",
       "      <th>unique</th>\n",
       "      <td>1252068</td>\n",
       "      <td>81708</td>\n",
       "      <td>526433</td>\n",
       "      <td>4</td>\n",
       "      <td>227564</td>\n",
       "      <td>2</td>\n",
       "      <td>5</td>\n",
       "      <td>4</td>\n",
       "      <td>5</td>\n",
       "    </tr>\n",
       "    <tr>\n",
       "      <th>top</th>\n",
       "      <td>4a7a87cd-20d0-49b7-a97c-c5e590e6dd0c</td>\n",
       "      <td>2b74eece-a277-44f5-8199-680f522c5c21</td>\n",
       "      <td>2019-10-01 03:29:24</td>\n",
       "      <td>mobile_web</td>\n",
       "      <td>cb4a510d-75c4-4d1c-a941-be424e32db6e</td>\n",
       "      <td>control</td>\n",
       "      <td>US</td>\n",
       "      <td>item_page</td>\n",
       "      <td>view</td>\n",
       "    </tr>\n",
       "    <tr>\n",
       "      <th>freq</th>\n",
       "      <td>1</td>\n",
       "      <td>49</td>\n",
       "      <td>12</td>\n",
       "      <td>627052</td>\n",
       "      <td>10</td>\n",
       "      <td>627723</td>\n",
       "      <td>877653</td>\n",
       "      <td>500191</td>\n",
       "      <td>821287</td>\n",
       "    </tr>\n",
       "  </tbody>\n",
       "</table>\n",
       "</div>"
      ],
      "text/plain": [
       "                                  event_uuid  \\\n",
       "count                                1252068   \n",
       "unique                               1252068   \n",
       "top     4a7a87cd-20d0-49b7-a97c-c5e590e6dd0c   \n",
       "freq                                       1   \n",
       "\n",
       "                                   user_uuid           event_time device_type  \\\n",
       "count                                1252068              1252068     1252068   \n",
       "unique                                 81708               526433           4   \n",
       "top     2b74eece-a277-44f5-8199-680f522c5c21  2019-10-01 03:29:24  mobile_web   \n",
       "freq                                      49                   12      627052   \n",
       "\n",
       "                                session_uuid experiment_group user_country  \\\n",
       "count                                1252068          1252068      1252068   \n",
       "unique                                227564                2            5   \n",
       "top     cb4a510d-75c4-4d1c-a941-be424e32db6e          control           US   \n",
       "freq                                      10           627723       877653   \n",
       "\n",
       "       event_page event_type  \n",
       "count     1252068    1252068  \n",
       "unique          4          5  \n",
       "top     item_page       view  \n",
       "freq       500191     821287  "
      ]
     },
     "execution_count": 9,
     "metadata": {},
     "output_type": "execute_result"
    }
   ],
   "source": [
    "# Going back to the data\n",
    "df.describe()"
   ]
  },
  {
   "cell_type": "code",
   "execution_count": 8,
   "metadata": {},
   "outputs": [],
   "source": [
    "\n",
    "# Starting an Exploratory Analysis.  I want to look at the nnumber of unique device types and countries.\n",
    "devices = df.device_type.unique()\n",
    "countries = df.user_country.unique()"
   ]
  },
  {
   "cell_type": "code",
   "execution_count": 11,
   "metadata": {},
   "outputs": [],
   "source": [
    "#Count of users by country\n",
    "countries = df.groupby('user_country')['user_uuid'].nunique().reset_index(name='count')"
   ]
  },
  {
   "cell_type": "code",
   "execution_count": 13,
   "metadata": {},
   "outputs": [
    {
     "data": {
      "text/plain": [
       "<matplotlib.axes._subplots.AxesSubplot at 0x7f97dc01e710>"
      ]
     },
     "execution_count": 13,
     "metadata": {},
     "output_type": "execute_result"
    },
    {
     "data": {
      "image/png": "[encoded data removed]",
      "text/plain": [
       "<matplotlib.figure.Figure at 0x7f97dc0b07b8>"
      ]
     },
     "metadata": {
      "needs_background": "light"
     },
     "output_type": "display_data"
    }
   ],
   "source": [
    "countries.plot(x='user_country', y='count', kind='bar')"
   ]
  },
  {
   "cell_type": "code",
   "execution_count": 46,
   "metadata": {},
   "outputs": [],
   "source": [
    "#Count of devices by country\n",
    "devices = df.groupby('device_type')['user_uuid'].nunique().reset_index(name='count')"
   ]
  },
  {
   "cell_type": "code",
   "execution_count": 47,
   "metadata": {},
   "outputs": [
    {
     "data": {
      "text/plain": [
       "<matplotlib.axes._subplots.AxesSubplot at 0x7fb8bd2db8d0>"
      ]
     },
     "execution_count": 47,
     "metadata": {},
     "output_type": "execute_result"
    },
    {
     "data": {
      "image/png": "[encoded data removed]",
      "text/plain": [
       "<matplotlib.figure.Figure at 0x7fb8bd299208>"
      ]
     },
     "metadata": {
      "needs_background": "light"
     },
     "output_type": "display_data"
    }
   ],
   "source": [
    "devices.plot(x='device_type', y='count', kind='bar')"
   ]
  },
  {
   "cell_type": "code",
   "execution_count": 14,
   "metadata": {},
   "outputs": [
    {
     "data": {
      "text/plain": [
       "device_type  user_country\n",
       "android      CN                558\n",
       "             FR               1425\n",
       "             JP                846\n",
       "             UK               5764\n",
       "             US              20013\n",
       "desktop_web  CN                361\n",
       "             FR               1016\n",
       "             JP                579\n",
       "             UK               4030\n",
       "             US              14064\n",
       "ios          CN                801\n",
       "             FR               2121\n",
       "             JP               1280\n",
       "             UK               8415\n",
       "             US              29672\n",
       "mobile_web   CN               1245\n",
       "             FR               3285\n",
       "             JP               1921\n",
       "             UK              12850\n",
       "             US              45058\n",
       "Name: user_uuid, dtype: int64"
      ]
     },
     "execution_count": 14,
     "metadata": {},
     "output_type": "execute_result"
    }
   ],
   "source": [
    "#Count of users by country by device type\n",
    "df.groupby(['device_type', 'user_country'])['user_uuid'].nunique()"
   ]
  },
  {
   "cell_type": "code",
   "execution_count": 15,
   "metadata": {},
   "outputs": [
    {
     "data": {
      "text/plain": [
       "device_type  user_country\n",
       "android      CN               2.0\n",
       "             FR               9.0\n",
       "             JP               5.0\n",
       "             UK              14.0\n",
       "             US              18.0\n",
       "desktop_web  CN               1.0\n",
       "             FR               6.0\n",
       "             JP               3.0\n",
       "             UK              13.0\n",
       "             US              17.0\n",
       "ios          CN               4.0\n",
       "             FR              11.0\n",
       "             JP               8.0\n",
       "             UK              15.0\n",
       "             US              19.0\n",
       "mobile_web   CN               7.0\n",
       "             FR              12.0\n",
       "             JP              10.0\n",
       "             UK              16.0\n",
       "             US              20.0\n",
       "Name: user_uuid, dtype: float64"
      ]
     },
     "execution_count": 15,
     "metadata": {},
     "output_type": "execute_result"
    }
   ],
   "source": [
    "#Rank of users by country by device type.  Higher is more users.\n",
    "df.groupby(['device_type', 'user_country'])['user_uuid'].nunique().rank(method='dense')"
   ]
  },
  {
   "cell_type": "code",
   "execution_count": 17,
   "metadata": {},
   "outputs": [],
   "source": [
    "# Continuing an Exploratory Analysis.  I want to look at the event pages and event types captured.\n",
    "\n",
    "pages = df.event_page.unique()\n",
    "events = df.event_type.unique()"
   ]
  },
  {
   "cell_type": "code",
   "execution_count": 18,
   "metadata": {},
   "outputs": [
    {
     "data": {
      "text/html": [
       "<div>\n",
       "<style scoped>\n",
       "    .dataframe tbody tr th:only-of-type {\n",
       "        vertical-align: middle;\n",
       "    }\n",
       "\n",
       "    .dataframe tbody tr th {\n",
       "        vertical-align: top;\n",
       "    }\n",
       "\n",
       "    .dataframe thead th {\n",
       "        text-align: right;\n",
       "    }\n",
       "</style>\n",
       "<table border=\"1\" class=\"dataframe\">\n",
       "  <thead>\n",
       "    <tr style=\"text-align: right;\">\n",
       "      <th></th>\n",
       "      <th>event_page</th>\n",
       "      <th>count</th>\n",
       "    </tr>\n",
       "  </thead>\n",
       "  <tbody>\n",
       "    <tr>\n",
       "      <th>0</th>\n",
       "      <td>home_page</td>\n",
       "      <td>125385</td>\n",
       "    </tr>\n",
       "    <tr>\n",
       "      <th>1</th>\n",
       "      <td>item_page</td>\n",
       "      <td>500191</td>\n",
       "    </tr>\n",
       "    <tr>\n",
       "      <th>2</th>\n",
       "      <td>marketing_page</td>\n",
       "      <td>375753</td>\n",
       "    </tr>\n",
       "    <tr>\n",
       "      <th>3</th>\n",
       "      <td>search_page</td>\n",
       "      <td>250739</td>\n",
       "    </tr>\n",
       "  </tbody>\n",
       "</table>\n",
       "</div>"
      ],
      "text/plain": [
       "       event_page   count\n",
       "0       home_page  125385\n",
       "1       item_page  500191\n",
       "2  marketing_page  375753\n",
       "3     search_page  250739"
      ]
     },
     "execution_count": 18,
     "metadata": {},
     "output_type": "execute_result"
    }
   ],
   "source": [
    "#Page type by number of events\n",
    "df.groupby('event_page')['event_uuid'].nunique().reset_index(name='count')\n"
   ]
  },
  {
   "cell_type": "code",
   "execution_count": 19,
   "metadata": {},
   "outputs": [
    {
     "data": {
      "text/html": [
       "<div>\n",
       "<style scoped>\n",
       "    .dataframe tbody tr th:only-of-type {\n",
       "        vertical-align: middle;\n",
       "    }\n",
       "\n",
       "    .dataframe tbody tr th {\n",
       "        vertical-align: top;\n",
       "    }\n",
       "\n",
       "    .dataframe thead th {\n",
       "        text-align: right;\n",
       "    }\n",
       "</style>\n",
       "<table border=\"1\" class=\"dataframe\">\n",
       "  <thead>\n",
       "    <tr style=\"text-align: right;\">\n",
       "      <th></th>\n",
       "      <th>event_type</th>\n",
       "      <th>count</th>\n",
       "    </tr>\n",
       "  </thead>\n",
       "  <tbody>\n",
       "    <tr>\n",
       "      <th>0</th>\n",
       "      <td>cart</td>\n",
       "      <td>36709</td>\n",
       "    </tr>\n",
       "    <tr>\n",
       "      <th>1</th>\n",
       "      <td>favorite</td>\n",
       "      <td>194856</td>\n",
       "    </tr>\n",
       "    <tr>\n",
       "      <th>2</th>\n",
       "      <td>purchase</td>\n",
       "      <td>3910</td>\n",
       "    </tr>\n",
       "    <tr>\n",
       "      <th>3</th>\n",
       "      <td>share</td>\n",
       "      <td>195306</td>\n",
       "    </tr>\n",
       "    <tr>\n",
       "      <th>4</th>\n",
       "      <td>view</td>\n",
       "      <td>821287</td>\n",
       "    </tr>\n",
       "  </tbody>\n",
       "</table>\n",
       "</div>"
      ],
      "text/plain": [
       "  event_type   count\n",
       "0       cart   36709\n",
       "1   favorite  194856\n",
       "2   purchase    3910\n",
       "3      share  195306\n",
       "4       view  821287"
      ]
     },
     "execution_count": 19,
     "metadata": {},
     "output_type": "execute_result"
    }
   ],
   "source": [
    "#Count of event types on any page\n",
    "df.groupby('event_type')['event_uuid'].nunique().reset_index(name='count')\n",
    "\n",
    "\n"
   ]
  },
  {
   "cell_type": "code",
   "execution_count": 20,
   "metadata": {},
   "outputs": [
    {
     "data": {
      "text/plain": [
       "event_page      event_type\n",
       "home_page       cart            3364\n",
       "                favorite       17799\n",
       "                purchase         328\n",
       "                share          17772\n",
       "                view           64938\n",
       "item_page       cart           11140\n",
       "                favorite       54707\n",
       "                purchase        1275\n",
       "                share          54942\n",
       "                view          151295\n",
       "marketing_page  cart            8940\n",
       "                favorite       44487\n",
       "                purchase        1046\n",
       "                share          44807\n",
       "                view          132963\n",
       "search_page     cart            6314\n",
       "                favorite       32559\n",
       "                purchase         715\n",
       "                share          32412\n",
       "                view          106021\n",
       "Name: session_uuid, dtype: int64"
      ]
     },
     "execution_count": 20,
     "metadata": {},
     "output_type": "execute_result"
    }
   ],
   "source": [
    "#Count of sessions by event page by event type\n",
    "\n",
    "df.groupby(['event_page', 'event_type'])['session_uuid'].nunique()\n",
    "\n"
   ]
  },
  {
   "cell_type": "code",
   "execution_count": 21,
   "metadata": {},
   "outputs": [
    {
     "data": {
      "text/plain": [
       "event_page      event_type\n",
       "home_page       cart           5.0\n",
       "                favorite      10.0\n",
       "                purchase       1.0\n",
       "                share          9.0\n",
       "                view          17.0\n",
       "item_page       cart           8.0\n",
       "                favorite      15.0\n",
       "                purchase       4.0\n",
       "                share         16.0\n",
       "                view          20.0\n",
       "marketing_page  cart           7.0\n",
       "                favorite      13.0\n",
       "                purchase       3.0\n",
       "                share         14.0\n",
       "                view          19.0\n",
       "search_page     cart           6.0\n",
       "                favorite      12.0\n",
       "                purchase       2.0\n",
       "                share         11.0\n",
       "                view          18.0\n",
       "Name: session_uuid, dtype: float64"
      ]
     },
     "execution_count": 21,
     "metadata": {},
     "output_type": "execute_result"
    }
   ],
   "source": [
    "#Rank of sessions by event page by event type.  Higher is more sessions.\n",
    "\n",
    "df.groupby(['event_page', 'event_type'])['session_uuid'].nunique().rank(method='dense')"
   ]
  },
  {
   "cell_type": "code",
   "execution_count": 52,
   "metadata": {},
   "outputs": [
    {
     "data": {
      "text/plain": [
       "(0.78973631940260369,\n",
       " 0.37417986862285735,\n",
       " 1,\n",
       " array([[   3946.01636857,  223617.98363143],\n",
       "        [   2763.98363143,  156633.01636857]]))"
      ]
     },
     "execution_count": 52,
     "metadata": {},
     "output_type": "execute_result"
    }
   ],
   "source": [
    "# Conversion rate by Region\n",
    "\n",
    "## It appears users in the US don't convert any differently from users in any other region.\n",
    "## While we may expect that they have different behavior, it doesn't appear to be true.\n",
    "\n",
    "purchase_by_region =  df.groupby('user_country')['event_type'].apply(lambda x: (x == 'purchase').sum()).reset_index(name='count')\n",
    "session_by_region =   df.groupby('user_country')['session_uuid'].nunique().reset_index(name='count')\n",
    "\n",
    "\n",
    "by_region_conversion = purchase_by_region.merge(session_by_region, on=\"user_country\", suffixes=(\"_purchase\", \"_sessions\") )\n",
    "\n",
    "purch_CN = by_region_conversion.loc[ by_region_conversion['user_country'] == 'CN', 'count_purchase'].iloc[0]\n",
    "purch_FR =  by_region_conversion.loc[ by_region_conversion['user_country'] == 'FR', 'count_purchase'].iloc[0] \n",
    "purch_JP =  by_region_conversion.loc[ by_region_conversion['user_country'] == 'JP', 'count_purchase'].iloc[0] \n",
    "purch_UK =  by_region_conversion.loc[ by_region_conversion['user_country'] == 'UK', 'count_purchase'].iloc[0] \n",
    "purch_US =  by_region_conversion.loc[ by_region_conversion['user_country'] == 'US', 'count_purchase'].iloc[0] \n",
    "\n",
    "sess_CN = by_region_conversion.loc[ by_region_conversion['user_country'] == 'CN', 'count_sessions'].iloc[0]\n",
    "sess_FR =  by_region_conversion.loc[ by_region_conversion['user_country'] == 'FR', 'count_sessions'].iloc[0] \n",
    "sess_JP =  by_region_conversion.loc[ by_region_conversion['user_country'] == 'JP', 'count_sessions'].iloc[0] \n",
    "sess_UK =  by_region_conversion.loc[ by_region_conversion['user_country'] == 'UK', 'count_sessions'].iloc[0] \n",
    "sess_US =  by_region_conversion.loc[ by_region_conversion['user_country'] == 'US', 'count_sessions'].iloc[0]\n",
    "\n",
    "purch_all_region = by_region_conversion['count_purchase'].sum()\n",
    "sess_all_region  = by_region_conversion['count_sessions'].sum()\n",
    "\n",
    "us_stats = [purch_US, sess_US - purch_US]\n",
    "all_region_stats = [purch_all_region, sess_all_region - purch_all_region]\n",
    "region_outcomes =  np.array([ all_region_stats, us_stats])\n",
    "stats.chi2_contingency(region_outcomes)\n",
    "\n"
   ]
  },
  {
   "cell_type": "code",
   "execution_count": 25,
   "metadata": {},
   "outputs": [
    {
     "data": {
      "text/plain": [
       "(134.59007677364482,\n",
       " 4.0588291038751217e-31,\n",
       " 1,\n",
       " array([[   3515.22221864,  224048.77778136],\n",
       "        [   1760.77778136,  112226.22221864]]))"
      ]
     },
     "execution_count": 25,
     "metadata": {},
     "output_type": "execute_result"
    }
   ],
   "source": [
    "# Conversion rate by Device\n",
    "\n",
    "## Users on mobile web have a much worse conversion rate than users on any other platform.\n",
    "## This is an area rife for hypothesis generation.\n",
    "\n",
    "\n",
    "purchase_by_device =  df.groupby('device_type')['event_type'].apply(lambda x: (x == 'purchase').sum()).reset_index(name='count')\n",
    "session_by_device =   df.groupby('device_type')['session_uuid'].nunique().reset_index(name='count')\n",
    "by_device_conversion = purchase_by_device.merge(session_by_device, on=\"device_type\", suffixes=(\"_purchase\", \"_sessions\") )\n",
    "\n",
    "\n",
    "purch_android = by_device_conversion.loc[ by_device_conversion['device_type'] == 'android', 'count_purchase'].iloc[0]\n",
    "purch_web =  by_device_conversion.loc[ by_device_conversion['device_type'] == 'desktop_web', 'count_purchase'].iloc[0] \n",
    "purch_ios =  by_device_conversion.loc[ by_device_conversion['device_type'] == 'ios', 'count_purchase'].iloc[0] \n",
    "purch_mweb =  by_device_conversion.loc[ by_device_conversion['device_type'] == 'mobile_web', 'count_purchase'].iloc[0] \n",
    "\n",
    "sess_android = by_device_conversion.loc[ by_device_conversion['device_type'] == 'android', 'count_sessions'].iloc[0]\n",
    "sess_web =  by_device_conversion.loc[ by_device_conversion['device_type'] == 'desktop_web', 'count_sessions'].iloc[0] \n",
    "sess_ios =  by_device_conversion.loc[ by_device_conversion['device_type'] == 'ios', 'count_sessions'].iloc[0] \n",
    "sess_mweb =  by_device_conversion.loc[ by_device_conversion['device_type'] == 'mobile_web', 'count_sessions'].iloc[0] \n",
    "\n",
    "purch_all_device = by_device_conversion['count_purchase'].sum()\n",
    "sess_all_device  = by_device_conversion['count_sessions'].sum()\n",
    "\n",
    "mweb_stats = [purch_mweb, sess_mweb - purch_mweb]\n",
    "all_device_stats = [purch_all_device, sess_all_device - purch_all_device]\n",
    "device_outcomes =  np.array([all_device_stats, mweb_stats])\n",
    "stats.chi2_contingency(device_outcomes)"
   ]
  },
  {
   "cell_type": "code",
   "execution_count": 67,
   "metadata": {},
   "outputs": [
    {
     "data": {
      "text/html": [
       "<div>\n",
       "<style scoped>\n",
       "    .dataframe tbody tr th:only-of-type {\n",
       "        vertical-align: middle;\n",
       "    }\n",
       "\n",
       "    .dataframe tbody tr th {\n",
       "        vertical-align: top;\n",
       "    }\n",
       "\n",
       "    .dataframe thead tr th {\n",
       "        text-align: left;\n",
       "    }\n",
       "\n",
       "    .dataframe thead tr:last-of-type th {\n",
       "        text-align: right;\n",
       "    }\n",
       "</style>\n",
       "<table border=\"1\" class=\"dataframe\">\n",
       "  <thead>\n",
       "    <tr>\n",
       "      <th></th>\n",
       "      <th colspan=\"8\" halign=\"left\">count_purchase</th>\n",
       "      <th colspan=\"8\" halign=\"left\">count_sessions</th>\n",
       "    </tr>\n",
       "    <tr>\n",
       "      <th></th>\n",
       "      <th>count</th>\n",
       "      <th>mean</th>\n",
       "      <th>std</th>\n",
       "      <th>min</th>\n",
       "      <th>25%</th>\n",
       "      <th>50%</th>\n",
       "      <th>75%</th>\n",
       "      <th>max</th>\n",
       "      <th>count</th>\n",
       "      <th>mean</th>\n",
       "      <th>std</th>\n",
       "      <th>min</th>\n",
       "      <th>25%</th>\n",
       "      <th>50%</th>\n",
       "      <th>75%</th>\n",
       "      <th>max</th>\n",
       "    </tr>\n",
       "    <tr>\n",
       "      <th>device_type</th>\n",
       "      <th></th>\n",
       "      <th></th>\n",
       "      <th></th>\n",
       "      <th></th>\n",
       "      <th></th>\n",
       "      <th></th>\n",
       "      <th></th>\n",
       "      <th></th>\n",
       "      <th></th>\n",
       "      <th></th>\n",
       "      <th></th>\n",
       "      <th></th>\n",
       "      <th></th>\n",
       "      <th></th>\n",
       "      <th></th>\n",
       "      <th></th>\n",
       "    </tr>\n",
       "  </thead>\n",
       "  <tbody>\n",
       "    <tr>\n",
       "      <th>android</th>\n",
       "      <td>1.0</td>\n",
       "      <td>813.0</td>\n",
       "      <td>NaN</td>\n",
       "      <td>813.0</td>\n",
       "      <td>813.0</td>\n",
       "      <td>813.0</td>\n",
       "      <td>813.0</td>\n",
       "      <td>813.0</td>\n",
       "      <td>1.0</td>\n",
       "      <td>34206.0</td>\n",
       "      <td>NaN</td>\n",
       "      <td>34206.0</td>\n",
       "      <td>34206.0</td>\n",
       "      <td>34206.0</td>\n",
       "      <td>34206.0</td>\n",
       "      <td>34206.0</td>\n",
       "    </tr>\n",
       "    <tr>\n",
       "      <th>desktop_web</th>\n",
       "      <td>1.0</td>\n",
       "      <td>511.0</td>\n",
       "      <td>NaN</td>\n",
       "      <td>511.0</td>\n",
       "      <td>511.0</td>\n",
       "      <td>511.0</td>\n",
       "      <td>511.0</td>\n",
       "      <td>511.0</td>\n",
       "      <td>1.0</td>\n",
       "      <td>22546.0</td>\n",
       "      <td>NaN</td>\n",
       "      <td>22546.0</td>\n",
       "      <td>22546.0</td>\n",
       "      <td>22546.0</td>\n",
       "      <td>22546.0</td>\n",
       "      <td>22546.0</td>\n",
       "    </tr>\n",
       "    <tr>\n",
       "      <th>ios</th>\n",
       "      <td>1.0</td>\n",
       "      <td>1220.0</td>\n",
       "      <td>NaN</td>\n",
       "      <td>1220.0</td>\n",
       "      <td>1220.0</td>\n",
       "      <td>1220.0</td>\n",
       "      <td>1220.0</td>\n",
       "      <td>1220.0</td>\n",
       "      <td>1.0</td>\n",
       "      <td>56825.0</td>\n",
       "      <td>NaN</td>\n",
       "      <td>56825.0</td>\n",
       "      <td>56825.0</td>\n",
       "      <td>56825.0</td>\n",
       "      <td>56825.0</td>\n",
       "      <td>56825.0</td>\n",
       "    </tr>\n",
       "    <tr>\n",
       "      <th>mobile_web</th>\n",
       "      <td>1.0</td>\n",
       "      <td>1366.0</td>\n",
       "      <td>NaN</td>\n",
       "      <td>1366.0</td>\n",
       "      <td>1366.0</td>\n",
       "      <td>1366.0</td>\n",
       "      <td>1366.0</td>\n",
       "      <td>1366.0</td>\n",
       "      <td>1.0</td>\n",
       "      <td>113987.0</td>\n",
       "      <td>NaN</td>\n",
       "      <td>113987.0</td>\n",
       "      <td>113987.0</td>\n",
       "      <td>113987.0</td>\n",
       "      <td>113987.0</td>\n",
       "      <td>113987.0</td>\n",
       "    </tr>\n",
       "  </tbody>\n",
       "</table>\n",
       "</div>"
      ],
      "text/plain": [
       "            count_purchase                                              \\\n",
       "                     count    mean std     min     25%     50%     75%   \n",
       "device_type                                                              \n",
       "android                1.0   813.0 NaN   813.0   813.0   813.0   813.0   \n",
       "desktop_web            1.0   511.0 NaN   511.0   511.0   511.0   511.0   \n",
       "ios                    1.0  1220.0 NaN  1220.0  1220.0  1220.0  1220.0   \n",
       "mobile_web             1.0  1366.0 NaN  1366.0  1366.0  1366.0  1366.0   \n",
       "\n",
       "                    count_sessions                                    \\\n",
       "                max          count      mean std       min       25%   \n",
       "device_type                                                            \n",
       "android       813.0            1.0   34206.0 NaN   34206.0   34206.0   \n",
       "desktop_web   511.0            1.0   22546.0 NaN   22546.0   22546.0   \n",
       "ios          1220.0            1.0   56825.0 NaN   56825.0   56825.0   \n",
       "mobile_web   1366.0            1.0  113987.0 NaN  113987.0  113987.0   \n",
       "\n",
       "                                           \n",
       "                  50%       75%       max  \n",
       "device_type                                \n",
       "android       34206.0   34206.0   34206.0  \n",
       "desktop_web   22546.0   22546.0   22546.0  \n",
       "ios           56825.0   56825.0   56825.0  \n",
       "mobile_web   113987.0  113987.0  113987.0  "
      ]
     },
     "execution_count": 67,
     "metadata": {},
     "output_type": "execute_result"
    }
   ],
   "source": [
    "## This is a nonsense plot.  I can't make sense of this part of the data.  Leaving it here for the next data scientist to pick up.\n",
    "by_device_conversion.groupby('device_type').describe()"
   ]
  },
  {
   "cell_type": "code",
   "execution_count": 83,
   "metadata": {},
   "outputs": [
    {
     "data": {
      "image/png": "[encoded data removed]",
      "text/plain": [
       "<matplotlib.figure.Figure at 0x7fb8b0241128>"
      ]
     },
     "metadata": {
      "needs_background": "light"
     },
     "output_type": "display_data"
    }
   ],
   "source": [
    "## Plotting purchases over sessions\n",
    "\n",
    "import matplotlib.pyplot as plt\n",
    "\n",
    "groups = by_device_conversion.groupby('device_type')\n",
    "fig, ax = plt.subplots()\n",
    "ax.margins(0.05) # Optional, just adds 5% padding to the autoscaling\n",
    "\n",
    "for name, group in groups:\n",
    "    ax.plot(group.count_sessions, group.count_purchase, marker='o', linestyle='', ms=12, label=name)\n",
    "ax.legend()\n",
    "plt.xlabel(\"count_sessions\")\n",
    "plt.ylabel(\"count_purchase\")\n",
    "plt.show()"
   ]
  },
  {
   "cell_type": "code",
   "execution_count": 95,
   "metadata": {},
   "outputs": [
    {
     "data": {
      "text/plain": [
       "<matplotlib.axes._subplots.AxesSubplot at 0x7fb8b0888d30>"
      ]
     },
     "execution_count": 95,
     "metadata": {},
     "output_type": "execute_result"
    },
    {
     "data": {
      "image/png": "[encoded data removed]",
      "text/plain": [
       "<matplotlib.figure.Figure at 0x7fb8fa3ddc18>"
      ]
     },
     "metadata": {
      "needs_background": "light"
     },
     "output_type": "display_data"
    }
   ],
   "source": [
    "## Purchase Rate Per Page\n",
    "(groups['count_purchase'].mean() / groups['count_sessions'].mean()).plot(kind=\"bar\")"
   ]
  },
  {
   "cell_type": "code",
   "execution_count": 45,
   "metadata": {},
   "outputs": [
    {
     "data": {
      "text/plain": [
       "<matplotlib.axes._subplots.AxesSubplot at 0x7fb8bd2d0eb8>"
      ]
     },
     "execution_count": 45,
     "metadata": {},
     "output_type": "execute_result"
    },
    {
     "data": {
      "image/png": "[encoded data removed]",
      "text/plain": [
       "<matplotlib.figure.Figure at 0x7fb8bd2d0780>"
      ]
     },
     "metadata": {
      "needs_background": "light"
     },
     "output_type": "display_data"
    }
   ],
   "source": [
    "#Landing Events Per Page Type\n",
    "\n",
    "landings = df.sort_values(['session_uuid','event_time'], ascending=True).groupby('session_uuid').first().groupby('event_page')['event_uuid'].count().reset_index(name='count')\n",
    "landings.plot(x='event_page', y='count', kind='bar')"
   ]
  },
  {
   "cell_type": "code",
   "execution_count": 6,
   "metadata": {},
   "outputs": [
    {
     "data": {
      "text/html": [
       "<div>\n",
       "<style scoped>\n",
       "    .dataframe tbody tr th:only-of-type {\n",
       "        vertical-align: middle;\n",
       "    }\n",
       "\n",
       "    .dataframe tbody tr th {\n",
       "        vertical-align: top;\n",
       "    }\n",
       "\n",
       "    .dataframe thead th {\n",
       "        text-align: right;\n",
       "    }\n",
       "</style>\n",
       "<table border=\"1\" class=\"dataframe\">\n",
       "  <thead>\n",
       "    <tr style=\"text-align: right;\">\n",
       "      <th></th>\n",
       "      <th>user_uuid</th>\n",
       "      <th>count</th>\n",
       "    </tr>\n",
       "  </thead>\n",
       "  <tbody>\n",
       "    <tr>\n",
       "      <th>0</th>\n",
       "      <td>0000759b-6767-43d9-bde9-51440e0788b8</td>\n",
       "      <td>0</td>\n",
       "    </tr>\n",
       "    <tr>\n",
       "      <th>1</th>\n",
       "      <td>00007f55-0f8e-46c7-89fb-2729034deb03</td>\n",
       "      <td>0</td>\n",
       "    </tr>\n",
       "    <tr>\n",
       "      <th>2</th>\n",
       "      <td>0000b2bf-0f18-4a1e-b5c6-2f16e45dd01d</td>\n",
       "      <td>0</td>\n",
       "    </tr>\n",
       "    <tr>\n",
       "      <th>3</th>\n",
       "      <td>0001d7ff-7619-410c-95dd-3df18ed305ac</td>\n",
       "      <td>0</td>\n",
       "    </tr>\n",
       "    <tr>\n",
       "      <th>4</th>\n",
       "      <td>000358ed-ab95-4812-8bd8-9d6544796c03</td>\n",
       "      <td>0</td>\n",
       "    </tr>\n",
       "    <tr>\n",
       "      <th>5</th>\n",
       "      <td>0003ac3a-c8ae-4912-a12c-8ff39650f8ed</td>\n",
       "      <td>0</td>\n",
       "    </tr>\n",
       "    <tr>\n",
       "      <th>6</th>\n",
       "      <td>000547c7-f2a0-44ad-92de-94c0ba0fafe6</td>\n",
       "      <td>0</td>\n",
       "    </tr>\n",
       "    <tr>\n",
       "      <th>7</th>\n",
       "      <td>000698bb-5d9a-4f27-a581-8e201375acf1</td>\n",
       "      <td>0</td>\n",
       "    </tr>\n",
       "    <tr>\n",
       "      <th>8</th>\n",
       "      <td>00086733-8282-4e9e-9e9e-1ca74b5144bd</td>\n",
       "      <td>0</td>\n",
       "    </tr>\n",
       "    <tr>\n",
       "      <th>9</th>\n",
       "      <td>000b3b12-2aa3-42dd-aa36-7909e06691a0</td>\n",
       "      <td>0</td>\n",
       "    </tr>\n",
       "    <tr>\n",
       "      <th>10</th>\n",
       "      <td>000b8e8a-2da3-495c-970c-7aa935b9b7e1</td>\n",
       "      <td>0</td>\n",
       "    </tr>\n",
       "    <tr>\n",
       "      <th>11</th>\n",
       "      <td>000bdf70-3762-4409-a5b6-ca108207db1e</td>\n",
       "      <td>0</td>\n",
       "    </tr>\n",
       "    <tr>\n",
       "      <th>12</th>\n",
       "      <td>000c8598-1ef5-4ca5-8c69-b662efb54a7e</td>\n",
       "      <td>0</td>\n",
       "    </tr>\n",
       "    <tr>\n",
       "      <th>13</th>\n",
       "      <td>000d059a-8823-41e5-b66a-3642588610bb</td>\n",
       "      <td>0</td>\n",
       "    </tr>\n",
       "    <tr>\n",
       "      <th>14</th>\n",
       "      <td>000d3442-519c-47ee-b857-a41f6c114e24</td>\n",
       "      <td>0</td>\n",
       "    </tr>\n",
       "    <tr>\n",
       "      <th>15</th>\n",
       "      <td>000d5620-1cb3-4846-9a27-8e8c581285da</td>\n",
       "      <td>0</td>\n",
       "    </tr>\n",
       "    <tr>\n",
       "      <th>16</th>\n",
       "      <td>000d942d-758f-4d87-9f21-9d5800ff6f4e</td>\n",
       "      <td>0</td>\n",
       "    </tr>\n",
       "    <tr>\n",
       "      <th>17</th>\n",
       "      <td>000f28ac-45f6-402f-a462-c1d5e895773d</td>\n",
       "      <td>0</td>\n",
       "    </tr>\n",
       "    <tr>\n",
       "      <th>18</th>\n",
       "      <td>001089c8-3a25-41a6-9816-22248a517874</td>\n",
       "      <td>0</td>\n",
       "    </tr>\n",
       "    <tr>\n",
       "      <th>19</th>\n",
       "      <td>0010df2c-5d0c-4cee-97a2-dfcaa8efe41f</td>\n",
       "      <td>0</td>\n",
       "    </tr>\n",
       "    <tr>\n",
       "      <th>20</th>\n",
       "      <td>0010f078-fb39-4d6c-85d8-6160f509e128</td>\n",
       "      <td>0</td>\n",
       "    </tr>\n",
       "    <tr>\n",
       "      <th>21</th>\n",
       "      <td>00111711-1d0d-47b5-ba52-823a88499e47</td>\n",
       "      <td>0</td>\n",
       "    </tr>\n",
       "    <tr>\n",
       "      <th>22</th>\n",
       "      <td>001392ef-1874-4db1-bab1-cadffdf3e681</td>\n",
       "      <td>0</td>\n",
       "    </tr>\n",
       "    <tr>\n",
       "      <th>23</th>\n",
       "      <td>00141457-b297-44b3-9576-a21a5dc92859</td>\n",
       "      <td>0</td>\n",
       "    </tr>\n",
       "    <tr>\n",
       "      <th>24</th>\n",
       "      <td>0015ab6f-b9cc-4dc1-a987-5694ca686abe</td>\n",
       "      <td>0</td>\n",
       "    </tr>\n",
       "    <tr>\n",
       "      <th>25</th>\n",
       "      <td>0015f1ee-3e36-4053-85d5-47fbca34d459</td>\n",
       "      <td>0</td>\n",
       "    </tr>\n",
       "    <tr>\n",
       "      <th>26</th>\n",
       "      <td>001749bb-da13-4be5-b131-7d2a51d696b5</td>\n",
       "      <td>0</td>\n",
       "    </tr>\n",
       "    <tr>\n",
       "      <th>27</th>\n",
       "      <td>00182d55-bc9a-465a-859d-f3b3d5cdd4ad</td>\n",
       "      <td>0</td>\n",
       "    </tr>\n",
       "    <tr>\n",
       "      <th>28</th>\n",
       "      <td>00197491-cc8c-47d8-b91d-827b4d8414b0</td>\n",
       "      <td>0</td>\n",
       "    </tr>\n",
       "    <tr>\n",
       "      <th>29</th>\n",
       "      <td>001a0ff2-1c4a-4690-81ab-cb081c9e2638</td>\n",
       "      <td>0</td>\n",
       "    </tr>\n",
       "    <tr>\n",
       "      <th>...</th>\n",
       "      <td>...</td>\n",
       "      <td>...</td>\n",
       "    </tr>\n",
       "    <tr>\n",
       "      <th>70</th>\n",
       "      <td>003ca646-68e9-459a-a243-0739d247c51a</td>\n",
       "      <td>0</td>\n",
       "    </tr>\n",
       "    <tr>\n",
       "      <th>71</th>\n",
       "      <td>003ce4ae-5c31-4934-a6b7-cd3db1b2bbd4</td>\n",
       "      <td>0</td>\n",
       "    </tr>\n",
       "    <tr>\n",
       "      <th>72</th>\n",
       "      <td>003cf42d-361b-4313-90c8-a403d3010168</td>\n",
       "      <td>0</td>\n",
       "    </tr>\n",
       "    <tr>\n",
       "      <th>73</th>\n",
       "      <td>003d8f56-4795-4900-b8fc-443c49b3605e</td>\n",
       "      <td>0</td>\n",
       "    </tr>\n",
       "    <tr>\n",
       "      <th>74</th>\n",
       "      <td>003e1e86-baa8-4e62-b42c-3eedb51b8f00</td>\n",
       "      <td>0</td>\n",
       "    </tr>\n",
       "    <tr>\n",
       "      <th>75</th>\n",
       "      <td>003e6bf7-fed4-4ec0-bb87-8a194fa76948</td>\n",
       "      <td>0</td>\n",
       "    </tr>\n",
       "    <tr>\n",
       "      <th>76</th>\n",
       "      <td>003f5229-d87a-4db1-b5ae-529e86d0012c</td>\n",
       "      <td>0</td>\n",
       "    </tr>\n",
       "    <tr>\n",
       "      <th>77</th>\n",
       "      <td>00412b22-5e46-4488-a8a7-f449c25c9304</td>\n",
       "      <td>0</td>\n",
       "    </tr>\n",
       "    <tr>\n",
       "      <th>78</th>\n",
       "      <td>0041866d-d138-4f48-bcd0-8b594acd4563</td>\n",
       "      <td>0</td>\n",
       "    </tr>\n",
       "    <tr>\n",
       "      <th>79</th>\n",
       "      <td>00421fa3-6540-40a6-bedd-a050dd6bc74f</td>\n",
       "      <td>0</td>\n",
       "    </tr>\n",
       "    <tr>\n",
       "      <th>80</th>\n",
       "      <td>0043affc-728e-4270-b460-692c3ad21ed4</td>\n",
       "      <td>0</td>\n",
       "    </tr>\n",
       "    <tr>\n",
       "      <th>81</th>\n",
       "      <td>0044e894-b1c8-4b3c-bcf1-f0afc674a99b</td>\n",
       "      <td>0</td>\n",
       "    </tr>\n",
       "    <tr>\n",
       "      <th>82</th>\n",
       "      <td>0046469e-7212-4439-84b5-9bc16a7f4c34</td>\n",
       "      <td>0</td>\n",
       "    </tr>\n",
       "    <tr>\n",
       "      <th>83</th>\n",
       "      <td>00477a11-1fde-4e92-bbac-3b5ab77f2412</td>\n",
       "      <td>0</td>\n",
       "    </tr>\n",
       "    <tr>\n",
       "      <th>84</th>\n",
       "      <td>00477e04-d9a3-4b00-9115-83e8f8a5f777</td>\n",
       "      <td>0</td>\n",
       "    </tr>\n",
       "    <tr>\n",
       "      <th>85</th>\n",
       "      <td>0047a042-bff7-4165-bf2a-c3eec022b985</td>\n",
       "      <td>0</td>\n",
       "    </tr>\n",
       "    <tr>\n",
       "      <th>86</th>\n",
       "      <td>0047ba85-4305-4f4e-8786-f51de87f1191</td>\n",
       "      <td>0</td>\n",
       "    </tr>\n",
       "    <tr>\n",
       "      <th>87</th>\n",
       "      <td>0047ca9c-5885-45a9-9070-6b9f838abb0c</td>\n",
       "      <td>0</td>\n",
       "    </tr>\n",
       "    <tr>\n",
       "      <th>88</th>\n",
       "      <td>00491fde-da25-4301-aac7-323cbe5fdc88</td>\n",
       "      <td>0</td>\n",
       "    </tr>\n",
       "    <tr>\n",
       "      <th>89</th>\n",
       "      <td>00493a36-30f8-4ab6-bdb6-e029a79c716e</td>\n",
       "      <td>0</td>\n",
       "    </tr>\n",
       "    <tr>\n",
       "      <th>90</th>\n",
       "      <td>00493a75-5651-4260-b343-7f4c34a483e6</td>\n",
       "      <td>0</td>\n",
       "    </tr>\n",
       "    <tr>\n",
       "      <th>91</th>\n",
       "      <td>004a0b1f-36f7-4cdd-bd8a-e80a25675b8b</td>\n",
       "      <td>0</td>\n",
       "    </tr>\n",
       "    <tr>\n",
       "      <th>92</th>\n",
       "      <td>004ab102-80a3-4324-8e96-45da33581e6c</td>\n",
       "      <td>0</td>\n",
       "    </tr>\n",
       "    <tr>\n",
       "      <th>93</th>\n",
       "      <td>004c2094-ff1a-4946-94e1-9645ce8e3a76</td>\n",
       "      <td>0</td>\n",
       "    </tr>\n",
       "    <tr>\n",
       "      <th>94</th>\n",
       "      <td>004cc864-d679-4b5a-9c4a-e09793799cdb</td>\n",
       "      <td>0</td>\n",
       "    </tr>\n",
       "    <tr>\n",
       "      <th>95</th>\n",
       "      <td>004dafa6-4ced-4441-8d82-c842f37121c9</td>\n",
       "      <td>0</td>\n",
       "    </tr>\n",
       "    <tr>\n",
       "      <th>96</th>\n",
       "      <td>004e66f4-4958-4ff4-895e-26b4fb26d3e7</td>\n",
       "      <td>0</td>\n",
       "    </tr>\n",
       "    <tr>\n",
       "      <th>97</th>\n",
       "      <td>004f8b46-0353-4745-8641-b96e9b170e8f</td>\n",
       "      <td>0</td>\n",
       "    </tr>\n",
       "    <tr>\n",
       "      <th>98</th>\n",
       "      <td>0051a298-3ec8-46f3-b202-a803adf83016</td>\n",
       "      <td>0</td>\n",
       "    </tr>\n",
       "    <tr>\n",
       "      <th>99</th>\n",
       "      <td>00525fa8-3e0f-486b-87c4-584c4fe9acc4</td>\n",
       "      <td>0</td>\n",
       "    </tr>\n",
       "  </tbody>\n",
       "</table>\n",
       "<p>100 rows × 2 columns</p>\n",
       "</div>"
      ],
      "text/plain": [
       "                               user_uuid  count\n",
       "0   0000759b-6767-43d9-bde9-51440e0788b8      0\n",
       "1   00007f55-0f8e-46c7-89fb-2729034deb03      0\n",
       "2   0000b2bf-0f18-4a1e-b5c6-2f16e45dd01d      0\n",
       "3   0001d7ff-7619-410c-95dd-3df18ed305ac      0\n",
       "4   000358ed-ab95-4812-8bd8-9d6544796c03      0\n",
       "5   0003ac3a-c8ae-4912-a12c-8ff39650f8ed      0\n",
       "6   000547c7-f2a0-44ad-92de-94c0ba0fafe6      0\n",
       "7   000698bb-5d9a-4f27-a581-8e201375acf1      0\n",
       "8   00086733-8282-4e9e-9e9e-1ca74b5144bd      0\n",
       "9   000b3b12-2aa3-42dd-aa36-7909e06691a0      0\n",
       "10  000b8e8a-2da3-495c-970c-7aa935b9b7e1      0\n",
       "11  000bdf70-3762-4409-a5b6-ca108207db1e      0\n",
       "12  000c8598-1ef5-4ca5-8c69-b662efb54a7e      0\n",
       "13  000d059a-8823-41e5-b66a-3642588610bb      0\n",
       "14  000d3442-519c-47ee-b857-a41f6c114e24      0\n",
       "15  000d5620-1cb3-4846-9a27-8e8c581285da      0\n",
       "16  000d942d-758f-4d87-9f21-9d5800ff6f4e      0\n",
       "17  000f28ac-45f6-402f-a462-c1d5e895773d      0\n",
       "18  001089c8-3a25-41a6-9816-22248a517874      0\n",
       "19  0010df2c-5d0c-4cee-97a2-dfcaa8efe41f      0\n",
       "20  0010f078-fb39-4d6c-85d8-6160f509e128      0\n",
       "21  00111711-1d0d-47b5-ba52-823a88499e47      0\n",
       "22  001392ef-1874-4db1-bab1-cadffdf3e681      0\n",
       "23  00141457-b297-44b3-9576-a21a5dc92859      0\n",
       "24  0015ab6f-b9cc-4dc1-a987-5694ca686abe      0\n",
       "25  0015f1ee-3e36-4053-85d5-47fbca34d459      0\n",
       "26  001749bb-da13-4be5-b131-7d2a51d696b5      0\n",
       "27  00182d55-bc9a-465a-859d-f3b3d5cdd4ad      0\n",
       "28  00197491-cc8c-47d8-b91d-827b4d8414b0      0\n",
       "29  001a0ff2-1c4a-4690-81ab-cb081c9e2638      0\n",
       "..                                   ...    ...\n",
       "70  003ca646-68e9-459a-a243-0739d247c51a      0\n",
       "71  003ce4ae-5c31-4934-a6b7-cd3db1b2bbd4      0\n",
       "72  003cf42d-361b-4313-90c8-a403d3010168      0\n",
       "73  003d8f56-4795-4900-b8fc-443c49b3605e      0\n",
       "74  003e1e86-baa8-4e62-b42c-3eedb51b8f00      0\n",
       "75  003e6bf7-fed4-4ec0-bb87-8a194fa76948      0\n",
       "76  003f5229-d87a-4db1-b5ae-529e86d0012c      0\n",
       "77  00412b22-5e46-4488-a8a7-f449c25c9304      0\n",
       "78  0041866d-d138-4f48-bcd0-8b594acd4563      0\n",
       "79  00421fa3-6540-40a6-bedd-a050dd6bc74f      0\n",
       "80  0043affc-728e-4270-b460-692c3ad21ed4      0\n",
       "81  0044e894-b1c8-4b3c-bcf1-f0afc674a99b      0\n",
       "82  0046469e-7212-4439-84b5-9bc16a7f4c34      0\n",
       "83  00477a11-1fde-4e92-bbac-3b5ab77f2412      0\n",
       "84  00477e04-d9a3-4b00-9115-83e8f8a5f777      0\n",
       "85  0047a042-bff7-4165-bf2a-c3eec022b985      0\n",
       "86  0047ba85-4305-4f4e-8786-f51de87f1191      0\n",
       "87  0047ca9c-5885-45a9-9070-6b9f838abb0c      0\n",
       "88  00491fde-da25-4301-aac7-323cbe5fdc88      0\n",
       "89  00493a36-30f8-4ab6-bdb6-e029a79c716e      0\n",
       "90  00493a75-5651-4260-b343-7f4c34a483e6      0\n",
       "91  004a0b1f-36f7-4cdd-bd8a-e80a25675b8b      0\n",
       "92  004ab102-80a3-4324-8e96-45da33581e6c      0\n",
       "93  004c2094-ff1a-4946-94e1-9645ce8e3a76      0\n",
       "94  004cc864-d679-4b5a-9c4a-e09793799cdb      0\n",
       "95  004dafa6-4ced-4441-8d82-c842f37121c9      0\n",
       "96  004e66f4-4958-4ff4-895e-26b4fb26d3e7      0\n",
       "97  004f8b46-0353-4745-8641-b96e9b170e8f      0\n",
       "98  0051a298-3ec8-46f3-b202-a803adf83016      0\n",
       "99  00525fa8-3e0f-486b-87c4-584c4fe9acc4      0\n",
       "\n",
       "[100 rows x 2 columns]"
      ]
     },
     "execution_count": 6,
     "metadata": {},
     "output_type": "execute_result"
    }
   ],
   "source": [
    "#Repeat Purchasers by Region\n",
    "\n",
    "repeats = df.groupby('user_uuid')['event_type'].apply(lambda x: (x == 'purchase').sum()).reset_index(name='count')\n",
    "\n",
    "#repeats.plot(x='event_page', y='count', kind='bar')"
   ]
  },
  {
   "cell_type": "code",
   "execution_count": null,
   "metadata": {},
   "outputs": [],
   "source": []
  },
  {
   "cell_type": "markdown",
   "metadata": {},
   "source": [
    "### Section 2 - Solution Summary\n",
    "\n",
    "1) The student has identified device type and region as the actionable elements of their personas as a first step.  \n",
    "\n",
    "2) The student has identified the item page is getting the most traffic and is the best opporunity to show traction in the short term.\n",
    "\n",
    "3) The student has at least identified the fact that there is a large drop off in conversion for users on mobile_web as compared to other users.\n"
   ]
  },
  {
   "cell_type": "markdown",
   "metadata": {},
   "source": [
    "## Section 3 - Generate Hypotheses and Recommended Next Step [STUDENT]\n",
    "\n",
    "Now you're going to generate hypotheses based on your personas, journey, and risks & opportunities\n",
    "\n",
    "Using the personas and journey steps identified above:\n",
    "\n",
    "\n",
    "![screen shots of mock website icecreamsandwi.ch ](screenshots.png)\n",
    "\n",
    "1) Find the best opportunity for your first set of hypotheses  \n",
    "2) Generate hypotheses of what do do next  \n",
    "3) Summarize your hypotheses and next best action for each  \n"
   ]
  },
  {
   "cell_type": "markdown",
   "metadata": {},
   "source": [
    "## Section 3 - Generate Hypotheses and Recommended Next Step [SOLUTION]"
   ]
  },
  {
   "cell_type": "markdown",
   "metadata": {},
   "source": [
    "![screen shots of mock website icecreamsandwi.ch ](screenshot_solution.png)\n",
    "\n",
    "1) Student should be able to call out that they identified Mobile Web for All Users as the best first place to generate hypotheses.\n",
    "\n",
    "2) Student should identify the lack of \"Free Shipping\" on mobile web as an opportunity \n",
    "\n",
    "3) Student should recommend an a/b experiment on mobile web.\n",
    "\n",
    "\n",
    "\n",
    "\n",
    "\n"
   ]
  }
 ],
 "metadata": {
  "kernelspec": {
   "display_name": "Python 3",
   "language": "python",
   "name": "python3"
  },
  "language_info": {
   "codemirror_mode": {
    "name": "ipython",
    "version": 3
   },
   "file_extension": ".py",
   "mimetype": "text/x-python",
   "name": "python",
   "nbconvert_exporter": "python",
   "pygments_lexer": "ipython3",
   "version": "3.6.3"
  },
  "ulab_nb_type": "guided"
 },
 "nbformat": 4,
 "nbformat_minor": 2
}
