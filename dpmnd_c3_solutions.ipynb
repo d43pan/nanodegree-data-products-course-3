{
 "cells": [
  {
   "cell_type": "markdown",
   "metadata": {
    "ulab": {
     "buttons": {
      "ulab-button-0c1c8b8a": {
       "bashCommand": "",
       "filesToOpen": [],
       "isPreviewButton": false,
       "runInBackground": false,
       "text": "RIGHT CLICK ME"
      }
     }
    }
   },
   "source": [
    "# Project: Product Management From Scratch\n",
    "\n",
    "The boutique ice cream sandwich startup you've joined, Snackr, has gotten by on the personality of it's founder, I. Sandwich (real name?), for too long.  The last 2 quarters of features the team has launched to the website have not landed with customers.\n",
    "\n",
    "You've decided it's time to step up, lay out a plan for how you're going to identify paths forward which are more likely to succeed than \"whatever I. Sandich happened to promise a random person he met at a bar last night\".  You pitch the team on an iterative design process which brings qualitative and quantitative techniques together in order to minimize industry standard risk types so that you can move forward confidently.\n",
    "\n",
    "Someone in your company recently learned about a/b experiments - so they instrumented tracking and ran an experiment based on your founder's unfounded random idea.\n",
    "\n",
    "Unsurprisingly - the results of the experiment flopped. \n",
    "\n",
    "You know that a/b experiments give you confidence if something you tried worked, but unless very carefully designed they don't tell you what to do next.\n",
    "\n",
    "On the bright side! \n",
    "\n",
    "You now have some user event logs you can dig through in order to surface user personas and a journey.  You tell the team you'd like to collect all of the known assumptions before you launch the next experiment to the site so you have the best chance of success.  You tell the CEO and Board (wait - is it really just his friends from college and mom?) that at the end of your week long design sprint you're going to launch an experiment.  \n",
    "\n",
    "Your goal end goal for this project is to identify actionable hypotheses based on the data for your team to act on based on the type of risks identified.\n",
    "\n",
    "\n",
    "\n",
    "## NOTES\n",
    "Along the way you'll identify:\n",
    " - Actionable user personas & stages of a user journey\n",
    " - Develop hypotheses based on the data \n",
    " \n",
    "Desired Actions to identify:\n",
    " - User Interviews\n",
    " - Usability Testing\n",
    " - A/B Experiments\n"
   ]
  },
  {
   "cell_type": "markdown",
   "metadata": {},
   "source": [
    "<!--\n",
    "%%ulab_page_divider\n",
    "--><hr/>"
   ]
  },
  {
   "cell_type": "markdown",
   "metadata": {},
   "source": [
    "## Section 1 - Evaluate previous a/b experiment [STUDENT]"
   ]
  },
  {
   "cell_type": "code",
   "execution_count": 96,
   "metadata": {},
   "outputs": [],
   "source": [
    "import numpy as np\n",
    "import pandas as pd\n",
    "import glob\n",
    "import datetime\n",
    "import itertools\n",
    "\n",
    "## One of your engineers helpfully exported all of the events from the previous a/b experiment for you.  \n",
    "## She sent them over to you broken down by country and explained how to put them all into one dataframe.\n",
    "## 1: Ensure you got data\n",
    "## 2: Check to see if the previous a/b experiment was valid (95% confidence)\n",
    "## 3: Check if the experiment or control won \n",
    "##    by performing a chi-square test on outcomes and reporting on if the difference is signifcant.\n",
    "\n",
    "log_files = glob.glob(r'events_*.csv')\n",
    "df = pd.concat((pd.read_csv(f) for f in log_files))"
   ]
  },
  {
   "cell_type": "markdown",
   "metadata": {},
   "source": [
    "## Section 1 - Evaluate previous a/b experiment [SOLUTION]"
   ]
  },
  {
   "cell_type": "code",
   "execution_count": 95,
   "metadata": {},
   "outputs": [],
   "source": [
    "import numpy as np\n",
    "from scipy import stats\n",
    "import pandas as pd\n",
    "import glob\n",
    "import datetime\n",
    "import itertools\n",
    "\n",
    "## One of your engineers helpfully exported all of the events from the previous a/b experiment for you.  \n",
    "## She sent them over to you broken down by country and explained how to put them all into one dataframe.\n",
    "## 1: Ensure you got data\n",
    "## 2: Check to see if the previous a/b experiment was valid\n",
    "## 3: Check if the experiment or control won\n",
    "log_files = glob.glob(r'events_*.csv')\n",
    "df = pd.concat((pd.read_csv(f) for f in log_files))"
   ]
  },
  {
   "cell_type": "code",
   "execution_count": 83,
   "metadata": {},
   "outputs": [
    {
     "data": {
      "text/html": [
       "<div>\n",
       "<style scoped>\n",
       "    .dataframe tbody tr th:only-of-type {\n",
       "        vertical-align: middle;\n",
       "    }\n",
       "\n",
       "    .dataframe tbody tr th {\n",
       "        vertical-align: top;\n",
       "    }\n",
       "\n",
       "    .dataframe thead th {\n",
       "        text-align: right;\n",
       "    }\n",
       "</style>\n",
       "<table border=\"1\" class=\"dataframe\">\n",
       "  <thead>\n",
       "    <tr style=\"text-align: right;\">\n",
       "      <th></th>\n",
       "      <th>event_id</th>\n",
       "      <th>user_uuid</th>\n",
       "      <th>event_time</th>\n",
       "      <th>device_type</th>\n",
       "      <th>session_uuid</th>\n",
       "      <th>experiment_group</th>\n",
       "      <th>user_country</th>\n",
       "      <th>event_page</th>\n",
       "      <th>event_type</th>\n",
       "    </tr>\n",
       "  </thead>\n",
       "  <tbody>\n",
       "    <tr>\n",
       "      <th>count</th>\n",
       "      <td>250957</td>\n",
       "      <td>250957</td>\n",
       "      <td>250957</td>\n",
       "      <td>250957</td>\n",
       "      <td>250957</td>\n",
       "      <td>250957</td>\n",
       "      <td>250957</td>\n",
       "      <td>250957</td>\n",
       "      <td>250957</td>\n",
       "    </tr>\n",
       "    <tr>\n",
       "      <th>unique</th>\n",
       "      <td>250957</td>\n",
       "      <td>16450</td>\n",
       "      <td>202835</td>\n",
       "      <td>4</td>\n",
       "      <td>45604</td>\n",
       "      <td>2</td>\n",
       "      <td>3</td>\n",
       "      <td>4</td>\n",
       "      <td>5</td>\n",
       "    </tr>\n",
       "    <tr>\n",
       "      <th>top</th>\n",
       "      <td>7c6b8c89-10d7-43d0-af33-df2884522815</td>\n",
       "      <td>75b05502-5ed1-48e8-886d-ed093ea46e56</td>\n",
       "      <td>2019-09-28 21:41:08</td>\n",
       "      <td>mobile_web</td>\n",
       "      <td>1b6dfa64-ca7e-496d-9e4b-d5125812df2d</td>\n",
       "      <td>experiment</td>\n",
       "      <td>JP</td>\n",
       "      <td>home_page</td>\n",
       "      <td>view</td>\n",
       "    </tr>\n",
       "    <tr>\n",
       "      <th>freq</th>\n",
       "      <td>1</td>\n",
       "      <td>47</td>\n",
       "      <td>6</td>\n",
       "      <td>63336</td>\n",
       "      <td>10</td>\n",
       "      <td>125565</td>\n",
       "      <td>248455</td>\n",
       "      <td>96817</td>\n",
       "      <td>164668</td>\n",
       "    </tr>\n",
       "  </tbody>\n",
       "</table>\n",
       "</div>"
      ],
      "text/plain": [
       "                                    event_id  \\\n",
       "count                                 250957   \n",
       "unique                                250957   \n",
       "top     7c6b8c89-10d7-43d0-af33-df2884522815   \n",
       "freq                                       1   \n",
       "\n",
       "                                   user_uuid           event_time device_type  \\\n",
       "count                                 250957               250957      250957   \n",
       "unique                                 16450               202835           4   \n",
       "top     75b05502-5ed1-48e8-886d-ed093ea46e56  2019-09-28 21:41:08  mobile_web   \n",
       "freq                                      47                    6       63336   \n",
       "\n",
       "                                session_uuid experiment_group user_country  \\\n",
       "count                                 250957           250957       250957   \n",
       "unique                                 45604                2            3   \n",
       "top     1b6dfa64-ca7e-496d-9e4b-d5125812df2d       experiment           JP   \n",
       "freq                                      10           125565       248455   \n",
       "\n",
       "       event_page event_type  \n",
       "count      250957     250957  \n",
       "unique          4          5  \n",
       "top     home_page       view  \n",
       "freq        96817     164668  "
      ]
     },
     "execution_count": 83,
     "metadata": {},
     "output_type": "execute_result"
    }
   ],
   "source": [
    "#S1_1\n",
    "\n",
    "df.describe()"
   ]
  },
  {
   "cell_type": "code",
   "execution_count": 88,
   "metadata": {},
   "outputs": [],
   "source": [
    "#S1_2\n",
    "## Dedupe the events\n",
    "\n",
    "df = df[~df.index.duplicated()]\n",
    "df[df.index.duplicated()]"
   ]
  },
  {
   "cell_type": "code",
   "execution_count": 87,
   "metadata": {},
   "outputs": [
    {
     "data": {
      "text/html": [
       "<div>\n",
       "<style scoped>\n",
       "    .dataframe tbody tr th:only-of-type {\n",
       "        vertical-align: middle;\n",
       "    }\n",
       "\n",
       "    .dataframe tbody tr th {\n",
       "        vertical-align: top;\n",
       "    }\n",
       "\n",
       "    .dataframe thead th {\n",
       "        text-align: right;\n",
       "    }\n",
       "</style>\n",
       "<table border=\"1\" class=\"dataframe\">\n",
       "  <thead>\n",
       "    <tr style=\"text-align: right;\">\n",
       "      <th></th>\n",
       "      <th>experiment_group</th>\n",
       "      <th>count</th>\n",
       "    </tr>\n",
       "  </thead>\n",
       "  <tbody>\n",
       "    <tr>\n",
       "      <th>0</th>\n",
       "      <td>control</td>\n",
       "      <td>22725</td>\n",
       "    </tr>\n",
       "    <tr>\n",
       "      <th>1</th>\n",
       "      <td>experiment</td>\n",
       "      <td>22879</td>\n",
       "    </tr>\n",
       "  </tbody>\n",
       "</table>\n",
       "</div>"
      ],
      "text/plain": [
       "  experiment_group  count\n",
       "0          control  22725\n",
       "1       experiment  22879"
      ]
     },
     "execution_count": 87,
     "metadata": {},
     "output_type": "execute_result"
    }
   ],
   "source": [
    "## Get the number of sessions by experiment or control group\n",
    "df.groupby('experiment_group').apply(lambda x: x['session_uuid'].nunique()).reset_index(name='count')"
   ]
  },
  {
   "cell_type": "code",
   "execution_count": 89,
   "metadata": {},
   "outputs": [
    {
     "name": "stdout",
     "output_type": "stream",
     "text": [
      "p_hat:\t\t 0.4983115516182791\n",
      "confidence int:\t (0.49541093079380116, 0.50458906920619884)\n",
      "Continue analysis?: True\n"
     ]
    }
   ],
   "source": [
    "## Ensure the experiment was split evenly between sessions\n",
    "desired_p = 0.5\n",
    "z_score = 1.960  #TODO Student to get the z-score for 95% confidence range?\n",
    "\n",
    "total_control =  22725 #TODO Student to get the total number of events\n",
    "total_experiment = 22879 #TODO Student to get the total number of events\n",
    "\n",
    "\n",
    "standard_deviation = np.sqrt((0.5*0.5)/(total_control + total_experiment))\n",
    "margin_error = standard_deviation * z_score\n",
    "\n",
    "confidence_interval = (desired_p-margin_error, desired_p+margin_error)\n",
    "\n",
    "p_hat = total_control / (total_control + total_experiment)\n",
    "\n",
    "print(\"p_hat:\\t\\t\", p_hat)\n",
    "print(\"confidence int:\\t\", confidence_interval)\n",
    "print(\"Continue analysis?:\", p_hat > confidence_interval[0] and p_hat < confidence_interval[1])"
   ]
  },
  {
   "cell_type": "code",
   "execution_count": 90,
   "metadata": {},
   "outputs": [
    {
     "data": {
      "text/html": [
       "<div>\n",
       "<style scoped>\n",
       "    .dataframe tbody tr th:only-of-type {\n",
       "        vertical-align: middle;\n",
       "    }\n",
       "\n",
       "    .dataframe tbody tr th {\n",
       "        vertical-align: top;\n",
       "    }\n",
       "\n",
       "    .dataframe thead th {\n",
       "        text-align: right;\n",
       "    }\n",
       "</style>\n",
       "<table border=\"1\" class=\"dataframe\">\n",
       "  <thead>\n",
       "    <tr style=\"text-align: right;\">\n",
       "      <th></th>\n",
       "      <th>experiment_group</th>\n",
       "      <th>count</th>\n",
       "    </tr>\n",
       "  </thead>\n",
       "  <tbody>\n",
       "    <tr>\n",
       "      <th>0</th>\n",
       "      <td>control</td>\n",
       "      <td>509</td>\n",
       "    </tr>\n",
       "    <tr>\n",
       "      <th>1</th>\n",
       "      <td>experiment</td>\n",
       "      <td>458</td>\n",
       "    </tr>\n",
       "  </tbody>\n",
       "</table>\n",
       "</div>"
      ],
      "text/plain": [
       "  experiment_group  count\n",
       "0          control    509\n",
       "1       experiment    458"
      ]
     },
     "execution_count": 90,
     "metadata": {},
     "output_type": "execute_result"
    }
   ],
   "source": [
    "## Get the number of purchases by experiment or control group\n",
    "df.groupby('experiment_group')['event_type'].apply(lambda x: (x == 'purchase').sum()).reset_index(name='count')\n"
   ]
  },
  {
   "cell_type": "code",
   "execution_count": 77,
   "metadata": {},
   "outputs": [],
   "source": [
    "control_convert = df.groupby('experiment_group')['event_type'].apply(lambda x: (x == 'purchase').sum())['control']\n",
    "control_sessions = df.groupby('experiment_group').apply(lambda x: x['session_uuid'].nunique())['control']\n",
    "\n",
    "\n",
    "experiment_convert = df.groupby('experiment_group')['event_type'].apply(lambda x: (x == 'purchase').sum())['experiment']\n",
    "experiment_sessions = df.groupby('experiment_group').apply(lambda x: x['session_uuid'].nunique())['experiment']"
   ]
  },
  {
   "cell_type": "code",
   "execution_count": 92,
   "metadata": {},
   "outputs": [
    {
     "data": {
      "text/plain": [
       "(2.9976282106370364,\n",
       " 0.08338650751208887,\n",
       " 1,\n",
       " array([[   481.86727041,  22243.13272959],\n",
       "        [   485.13272959,  22393.86727041]]))"
      ]
     },
     "execution_count": 92,
     "metadata": {},
     "output_type": "execute_result"
    }
   ],
   "source": [
    "#S1_3\n",
    "#chisuared test\n",
    "\n",
    "#P-value here greater than .05 (our test for significance).  This result could be due to randomness\n",
    "\n",
    "control_stats = [control_convert, control_sessions - control_convert]\n",
    "experiment_stats = [experiment_convert, experiment_sessions - experiment_convert]\n",
    "outcomes =  np.array([control_stats, experiment_stats])\n",
    "stats.chi2_contingency(outcomes)"
   ]
  },
  {
   "cell_type": "markdown",
   "metadata": {},
   "source": [
    "## Section 2 - Develop Actionable Personas and Journey Steps [STUDENT]"
   ]
  },
  {
   "cell_type": "code",
   "execution_count": 104,
   "metadata": {},
   "outputs": [],
   "source": [
    "## Your work goes here"
   ]
  },
  {
   "cell_type": "markdown",
   "metadata": {},
   "source": [
    "## Section 2 - Develop Actionable Personas and Journey Steps [SOLUTION]"
   ]
  },
  {
   "cell_type": "code",
   "execution_count": 17,
   "metadata": {},
   "outputs": [],
   "source": [
    "#S1_3\n",
    "#TODO - MATT - Generate opportunities in dataset.\n",
    "#1 - bounce\n",
    "#2 - bug\n",
    "#3 - typo\n",
    "#4 - l10n\n",
    "#5 - price\n",
    "#6 - flow"
   ]
  },
  {
   "cell_type": "code",
   "execution_count": null,
   "metadata": {},
   "outputs": [],
   "source": []
  },
  {
   "cell_type": "code",
   "execution_count": 97,
   "metadata": {},
   "outputs": [],
   "source": [
    "#S1_1\n",
    "devices = df.device_type.unique()"
   ]
  },
  {
   "cell_type": "code",
   "execution_count": 98,
   "metadata": {},
   "outputs": [],
   "source": [
    "#S1_1\n",
    "countries = df.user_country.unique()"
   ]
  },
  {
   "cell_type": "code",
   "execution_count": 107,
   "metadata": {},
   "outputs": [
    {
     "data": {
      "text/plain": [
       "[('desktop_web', 'JP'),\n",
       " ('desktop_web', 'FR'),\n",
       " ('desktop_web', 'CN'),\n",
       " ('desktop_web', 'US'),\n",
       " ('desktop_web', 'UK'),\n",
       " ('ios', 'JP'),\n",
       " ('ios', 'FR'),\n",
       " ('ios', 'CN'),\n",
       " ('ios', 'US'),\n",
       " ('ios', 'UK'),\n",
       " ('mobile_web', 'JP'),\n",
       " ('mobile_web', 'FR'),\n",
       " ('mobile_web', 'CN'),\n",
       " ('mobile_web', 'US'),\n",
       " ('mobile_web', 'UK'),\n",
       " ('android', 'JP'),\n",
       " ('android', 'FR'),\n",
       " ('android', 'CN'),\n",
       " ('android', 'US'),\n",
       " ('android', 'UK')]"
      ]
     },
     "execution_count": 107,
     "metadata": {},
     "output_type": "execute_result"
    }
   ],
   "source": [
    "# Cartesian Product of devices and region\n",
    "list(itertools.product(devices,countries))"
   ]
  },
  {
   "cell_type": "code",
   "execution_count": 105,
   "metadata": {},
   "outputs": [],
   "source": [
    "pages = df.event_page.unique()"
   ]
  },
  {
   "cell_type": "code",
   "execution_count": 106,
   "metadata": {},
   "outputs": [],
   "source": [
    "events = df.event_type.unique()"
   ]
  },
  {
   "cell_type": "code",
   "execution_count": 102,
   "metadata": {},
   "outputs": [
    {
     "data": {
      "text/plain": [
       "[('home_page', 'view'),\n",
       " ('home_page', 'share'),\n",
       " ('home_page', 'favorite'),\n",
       " ('home_page', 'cart'),\n",
       " ('home_page', 'purchase'),\n",
       " ('search_page', 'view'),\n",
       " ('search_page', 'share'),\n",
       " ('search_page', 'favorite'),\n",
       " ('search_page', 'cart'),\n",
       " ('search_page', 'purchase'),\n",
       " ('item_page', 'view'),\n",
       " ('item_page', 'share'),\n",
       " ('item_page', 'favorite'),\n",
       " ('item_page', 'cart'),\n",
       " ('item_page', 'purchase'),\n",
       " ('marketing_page', 'view'),\n",
       " ('marketing_page', 'share'),\n",
       " ('marketing_page', 'favorite'),\n",
       " ('marketing_page', 'cart'),\n",
       " ('marketing_page', 'purchase')]"
      ]
     },
     "execution_count": 102,
     "metadata": {},
     "output_type": "execute_result"
    }
   ],
   "source": [
    "list(itertools.product(pages, events))"
   ]
  },
  {
   "cell_type": "markdown",
   "metadata": {},
   "source": [
    "## Section 3 - Generate Hypotheses and Recommended Next Step [STUDENT]"
   ]
  },
  {
   "cell_type": "markdown",
   "metadata": {},
   "source": [
    "## Section 3 - Generate Hypotheses and Recommended Next Step [SOLUTION]"
   ]
  },
  {
   "cell_type": "markdown",
   "metadata": {},
   "source": [
    "Because **evidence**   \n",
    "we believe that by **product change**  \n",
    "for **defined audience**  \n",
    "users will be **XX% (more/less)** likely   \n",
    "to **(view,share,favorite,cart,purchase)**  \n",
    "  \n",
    "In order to be certain we will run an a/b test for **DD days**  "
   ]
  },
  {
   "cell_type": "markdown",
   "metadata": {},
   "source": [
    "## Section 5 - Draw Product Insights\n"
   ]
  },
  {
   "cell_type": "code",
   "execution_count": 21,
   "metadata": {},
   "outputs": [
    {
     "data": {
      "text/html": [
       "<div>\n",
       "<style scoped>\n",
       "    .dataframe tbody tr th:only-of-type {\n",
       "        vertical-align: middle;\n",
       "    }\n",
       "\n",
       "    .dataframe tbody tr th {\n",
       "        vertical-align: top;\n",
       "    }\n",
       "\n",
       "    .dataframe thead th {\n",
       "        text-align: right;\n",
       "    }\n",
       "</style>\n",
       "<table border=\"1\" class=\"dataframe\">\n",
       "  <thead>\n",
       "    <tr style=\"text-align: right;\">\n",
       "      <th></th>\n",
       "      <th>event_id</th>\n",
       "      <th>user_uuid</th>\n",
       "      <th>event_time</th>\n",
       "      <th>device_type</th>\n",
       "      <th>session_uuid</th>\n",
       "      <th>experiment_group</th>\n",
       "      <th>user_country</th>\n",
       "      <th>event_page</th>\n",
       "      <th>event_type</th>\n",
       "    </tr>\n",
       "  </thead>\n",
       "  <tbody>\n",
       "    <tr>\n",
       "      <th>count</th>\n",
       "      <td>1247914</td>\n",
       "      <td>1247914</td>\n",
       "      <td>1247914</td>\n",
       "      <td>1247914</td>\n",
       "      <td>1247914</td>\n",
       "      <td>1247914</td>\n",
       "      <td>1247914</td>\n",
       "      <td>1247914</td>\n",
       "      <td>1247914</td>\n",
       "    </tr>\n",
       "    <tr>\n",
       "      <th>unique</th>\n",
       "      <td>1247914</td>\n",
       "      <td>81641</td>\n",
       "      <td>525817</td>\n",
       "      <td>4</td>\n",
       "      <td>227081</td>\n",
       "      <td>2</td>\n",
       "      <td>5</td>\n",
       "      <td>4</td>\n",
       "      <td>5</td>\n",
       "    </tr>\n",
       "    <tr>\n",
       "      <th>top</th>\n",
       "      <td>bff56d56-b039-44e8-8bb5-9a0e99a83f2c</td>\n",
       "      <td>9d3592ba-f1ed-45ce-a7c2-7f242ee353a9</td>\n",
       "      <td>2019-09-27 16:47:06</td>\n",
       "      <td>mobile_web</td>\n",
       "      <td>68ef8208-8aa6-44e6-a137-d1ae72afa22c</td>\n",
       "      <td>experiment</td>\n",
       "      <td>CN</td>\n",
       "      <td>home_page</td>\n",
       "      <td>view</td>\n",
       "    </tr>\n",
       "    <tr>\n",
       "      <th>freq</th>\n",
       "      <td>1</td>\n",
       "      <td>49</td>\n",
       "      <td>12</td>\n",
       "      <td>312812</td>\n",
       "      <td>10</td>\n",
       "      <td>624849</td>\n",
       "      <td>250957</td>\n",
       "      <td>482690</td>\n",
       "      <td>817324</td>\n",
       "    </tr>\n",
       "  </tbody>\n",
       "</table>\n",
       "</div>"
      ],
      "text/plain": [
       "                                    event_id  \\\n",
       "count                                1247914   \n",
       "unique                               1247914   \n",
       "top     bff56d56-b039-44e8-8bb5-9a0e99a83f2c   \n",
       "freq                                       1   \n",
       "\n",
       "                                   user_uuid           event_time device_type  \\\n",
       "count                                1247914              1247914     1247914   \n",
       "unique                                 81641               525817           4   \n",
       "top     9d3592ba-f1ed-45ce-a7c2-7f242ee353a9  2019-09-27 16:47:06  mobile_web   \n",
       "freq                                      49                   12      312812   \n",
       "\n",
       "                                session_uuid experiment_group user_country  \\\n",
       "count                                1247914          1247914      1247914   \n",
       "unique                                227081                2            5   \n",
       "top     68ef8208-8aa6-44e6-a137-d1ae72afa22c       experiment           CN   \n",
       "freq                                      10           624849       250957   \n",
       "\n",
       "       event_page event_type  \n",
       "count     1247914    1247914  \n",
       "unique          4          5  \n",
       "top     home_page       view  \n",
       "freq       482690     817324  "
      ]
     },
     "execution_count": 21,
     "metadata": {},
     "output_type": "execute_result"
    }
   ],
   "source": [
    "#S5_1\n",
    "df.describe()"
   ]
  },
  {
   "cell_type": "code",
   "execution_count": null,
   "metadata": {},
   "outputs": [],
   "source": [
    "#S5_3\n",
    "tktk - out of scope?"
   ]
  },
  {
   "cell_type": "code",
   "execution_count": 25,
   "metadata": {},
   "outputs": [],
   "source": [
    "#S5_4\n",
    "#tktk - to do"
   ]
  },
  {
   "cell_type": "code",
   "execution_count": 26,
   "metadata": {},
   "outputs": [],
   "source": [
    "#S5_5\n",
    "#tktk - todo"
   ]
  },
  {
   "cell_type": "markdown",
   "metadata": {},
   "source": [
    "## Section 6\n",
    "\n",
    "#S6_1 tktk - todo\n",
    "#S6_2 tktk - todo\n",
    "#S6_3 tktk - todo\n",
    "#S6_4 tktk - todo"
   ]
  },
  {
   "cell_type": "markdown",
   "metadata": {},
   "source": []
  }
 ],
 "metadata": {
  "kernelspec": {
   "display_name": "Python 3",
   "language": "python",
   "name": "python3"
  },
  "language_info": {
   "codemirror_mode": {
    "name": "ipython",
    "version": 3
   },
   "file_extension": ".py",
   "mimetype": "text/x-python",
   "name": "python",
   "nbconvert_exporter": "python",
   "pygments_lexer": "ipython3",
   "version": "3.6.3"
  },
  "ulab_nb_type": "guided"
 },
 "nbformat": 4,
 "nbformat_minor": 2
}
