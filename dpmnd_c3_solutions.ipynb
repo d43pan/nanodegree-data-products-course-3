{
 "cells": [
  {
   "cell_type": "markdown",
   "metadata": {
    "ulab": {
     "buttons": {
      "ulab-button-0c1c8b8a": {
       "bashCommand": "",
       "filesToOpen": [],
       "isPreviewButton": false,
       "runInBackground": false,
       "text": "RIGHT CLICK ME"
      }
     }
    }
   },
   "source": [
    "# Project: Product Management From Scratch\n",
    "\n",
    "The boutique ice cream sandwich startup you've joined, Snackr, has gotten by on the personality of it's founder, I. Sandwich (real name?), for too long.  The last 2 quarters of features the team has launched to the website have not landed with customers.\n",
    "\n",
    "You've decided it's time to step up, lay out a plan for how you're going to identify paths forward which are more likely to succeed than \"whatever I. Sandich happened to promise a random person he met at a bar last night\".  You pitch the team on an iterative design process which brings qualitative and quantitative techniques together in order to minimize industry standard risk types so that you can move forward confidently.\n",
    "\n",
    "Someone in your company recently learned about a/b experiments - so they instrumented tracking and ran an experiment based on your founder's unfounded random idea.\n",
    "\n",
    "Unsurprisingly - the results of the experiment flopped. \n",
    "\n",
    "But there's a bright side! \n",
    "\n",
    "You now have some user event logs you can dig through in order to surface user personas and a journey.  You tell the team you'd like to collect all of the known assumptions before you launch the next experiment to the site so you have the best chance of success.  You tell the CEO and Board (wait - is it really just his friends from college and mom?) that at the end of your week long design sprint you're going to launch an experiment.  \n",
    "\n",
    "Your goal for this project is to identify actionable hypotheses based on the data for your team to act on based on the type of risks identified.  You want to be able to show the largest possible impact in the shortest time possible.\n",
    "\n",
    "\n",
    "\n",
    "## NOTES\n",
    "Along the way you'll identify:\n",
    " - Actionable user personas & stages of a user journey\n",
    " - Develop hypotheses based on the data \n",
    " \n",
    "Desired Actions to identify:\n",
    " - User Interviews\n",
    " - Usability Testing\n",
    " - A/B Experiments\n"
   ]
  },
  {
   "cell_type": "markdown",
   "metadata": {},
   "source": [
    "<!--\n",
    "%%ulab_page_divider\n",
    "--><hr/>"
   ]
  },
  {
   "cell_type": "markdown",
   "metadata": {},
   "source": [
    "## Section 1 - Evaluate previous a/b experiment [STUDENT]\n",
    "\n",
    "One of your engineers helpfully exported all of the events from the previous a/b experiment for you.  \n",
    "\n",
    "She sent them over to you broken down by country and explained how to put them all into one dataframe.\n",
    "\n",
    "1: Ensure you got data  \n",
    "2: Check to see if the previous a/b experiment was valid (95% confidence)  \n",
    "3: Check if the experiment or control won by performing a chi-square test on outcomes and reporting on if the difference is signifcant.\n"
   ]
  },
  {
   "cell_type": "code",
   "execution_count": 43,
   "metadata": {},
   "outputs": [],
   "source": [
    "import numpy as np\n",
    "import pandas as pd\n",
    "import glob\n",
    "import datetime\n",
    "import itertools\n",
    "\n",
    "log_files = glob.glob(r'event_logs_part_*.csv')\n",
    "df = pd.concat((pd.read_csv(f) for f in log_files)).drop(['Unnamed: 0'],axis=1)\n",
    "\n",
    "## Your Work Goes Here\n",
    "\n",
    "#1: \n",
    "\n",
    "#2: \n",
    "\n",
    "#3: "
   ]
  },
  {
   "cell_type": "markdown",
   "metadata": {},
   "source": [
    "## Section 1 - Evaluate previous a/b experiment [SOLUTION]\n",
    "\n",
    "One of your engineers helpfully exported all of the events from the previous a/b experiment for you.  \n",
    "\n",
    "She sent them over to you broken down by country and explained how to put them all into one dataframe.\n",
    "\n",
    "1: Ensure you got data  \n",
    "2: Check to see if the previous a/b experiment was valid (95% confidence)  \n",
    "3: Check if the experiment or control won by performing a chi-square test on outcomes and reporting on if the difference is signifcant."
   ]
  },
  {
   "cell_type": "code",
   "execution_count": 42,
   "metadata": {},
   "outputs": [],
   "source": [
    "import numpy as np\n",
    "from scipy import stats\n",
    "import pandas as pd\n",
    "import glob\n",
    "import datetime\n",
    "import itertools\n",
    "\n",
    "log_files = glob.glob(r'event_logs_part_*.csv')\n",
    "df = pd.concat((pd.read_csv(f) for f in log_files)).drop(['Unnamed: 0'],axis=1)"
   ]
  },
  {
   "cell_type": "code",
   "execution_count": 12,
   "metadata": {},
   "outputs": [
    {
     "data": {
      "text/html": [
       "<div>\n",
       "<style scoped>\n",
       "    .dataframe tbody tr th:only-of-type {\n",
       "        vertical-align: middle;\n",
       "    }\n",
       "\n",
       "    .dataframe tbody tr th {\n",
       "        vertical-align: top;\n",
       "    }\n",
       "\n",
       "    .dataframe thead th {\n",
       "        text-align: right;\n",
       "    }\n",
       "</style>\n",
       "<table border=\"1\" class=\"dataframe\">\n",
       "  <thead>\n",
       "    <tr style=\"text-align: right;\">\n",
       "      <th></th>\n",
       "      <th>event_uuid</th>\n",
       "      <th>user_uuid</th>\n",
       "      <th>event_time</th>\n",
       "      <th>device_type</th>\n",
       "      <th>session_uuid</th>\n",
       "      <th>experiment_group</th>\n",
       "      <th>user_country</th>\n",
       "      <th>event_page</th>\n",
       "      <th>event_type</th>\n",
       "    </tr>\n",
       "  </thead>\n",
       "  <tbody>\n",
       "    <tr>\n",
       "      <th>count</th>\n",
       "      <td>1250951</td>\n",
       "      <td>1250951</td>\n",
       "      <td>1250951</td>\n",
       "      <td>1250951</td>\n",
       "      <td>1250951</td>\n",
       "      <td>1250951</td>\n",
       "      <td>1250951</td>\n",
       "      <td>1250951</td>\n",
       "      <td>1250951</td>\n",
       "    </tr>\n",
       "    <tr>\n",
       "      <th>unique</th>\n",
       "      <td>1250951</td>\n",
       "      <td>81644</td>\n",
       "      <td>526684</td>\n",
       "      <td>4</td>\n",
       "      <td>227721</td>\n",
       "      <td>2</td>\n",
       "      <td>5</td>\n",
       "      <td>4</td>\n",
       "      <td>5</td>\n",
       "    </tr>\n",
       "    <tr>\n",
       "      <th>top</th>\n",
       "      <td>a3a49603-35e5-4c16-b5c5-c1ffbcf3115e</td>\n",
       "      <td>51ca13c8-7deb-48de-9569-f73e1fcffdf9</td>\n",
       "      <td>2019-10-03 13:12:54</td>\n",
       "      <td>mobile_web</td>\n",
       "      <td>0a2fe7b0-6a44-4d9c-96d7-24e09f560a96</td>\n",
       "      <td>control</td>\n",
       "      <td>US</td>\n",
       "      <td>item_page</td>\n",
       "      <td>view</td>\n",
       "    </tr>\n",
       "    <tr>\n",
       "      <th>freq</th>\n",
       "      <td>1</td>\n",
       "      <td>48</td>\n",
       "      <td>12</td>\n",
       "      <td>624179</td>\n",
       "      <td>10</td>\n",
       "      <td>627809</td>\n",
       "      <td>877413</td>\n",
       "      <td>500092</td>\n",
       "      <td>821166</td>\n",
       "    </tr>\n",
       "  </tbody>\n",
       "</table>\n",
       "</div>"
      ],
      "text/plain": [
       "                                  event_uuid  \\\n",
       "count                                1250951   \n",
       "unique                               1250951   \n",
       "top     a3a49603-35e5-4c16-b5c5-c1ffbcf3115e   \n",
       "freq                                       1   \n",
       "\n",
       "                                   user_uuid           event_time device_type  \\\n",
       "count                                1250951              1250951     1250951   \n",
       "unique                                 81644               526684           4   \n",
       "top     51ca13c8-7deb-48de-9569-f73e1fcffdf9  2019-10-03 13:12:54  mobile_web   \n",
       "freq                                      48                   12      624179   \n",
       "\n",
       "                                session_uuid experiment_group user_country  \\\n",
       "count                                1250951          1250951      1250951   \n",
       "unique                                227721                2            5   \n",
       "top     0a2fe7b0-6a44-4d9c-96d7-24e09f560a96          control           US   \n",
       "freq                                      10           627809       877413   \n",
       "\n",
       "       event_page event_type  \n",
       "count     1250951    1250951  \n",
       "unique          4          5  \n",
       "top     item_page       view  \n",
       "freq       500092     821166  "
      ]
     },
     "execution_count": 12,
     "metadata": {},
     "output_type": "execute_result"
    }
   ],
   "source": [
    "#S1_1\n",
    "df.describe()"
   ]
  },
  {
   "cell_type": "code",
   "execution_count": 13,
   "metadata": {},
   "outputs": [
    {
     "data": {
      "text/html": [
       "<div>\n",
       "<style scoped>\n",
       "    .dataframe tbody tr th:only-of-type {\n",
       "        vertical-align: middle;\n",
       "    }\n",
       "\n",
       "    .dataframe tbody tr th {\n",
       "        vertical-align: top;\n",
       "    }\n",
       "\n",
       "    .dataframe thead th {\n",
       "        text-align: right;\n",
       "    }\n",
       "</style>\n",
       "<table border=\"1\" class=\"dataframe\">\n",
       "  <thead>\n",
       "    <tr style=\"text-align: right;\">\n",
       "      <th></th>\n",
       "      <th>event_uuid</th>\n",
       "      <th>user_uuid</th>\n",
       "      <th>event_time</th>\n",
       "      <th>device_type</th>\n",
       "      <th>session_uuid</th>\n",
       "      <th>experiment_group</th>\n",
       "      <th>user_country</th>\n",
       "      <th>event_page</th>\n",
       "      <th>event_type</th>\n",
       "    </tr>\n",
       "  </thead>\n",
       "  <tbody>\n",
       "  </tbody>\n",
       "</table>\n",
       "</div>"
      ],
      "text/plain": [
       "Empty DataFrame\n",
       "Columns: [event_uuid, user_uuid, event_time, device_type, session_uuid, experiment_group, user_country, event_page, event_type]\n",
       "Index: []"
      ]
     },
     "execution_count": 13,
     "metadata": {},
     "output_type": "execute_result"
    }
   ],
   "source": [
    "#S1_2\n",
    "## Check for duplicate events\n",
    "df[df.event_uuid.duplicated()]\n",
    "#df = df[~df.event_uuid.duplicated()]"
   ]
  },
  {
   "cell_type": "code",
   "execution_count": 14,
   "metadata": {},
   "outputs": [
    {
     "data": {
      "text/html": [
       "<div>\n",
       "<style scoped>\n",
       "    .dataframe tbody tr th:only-of-type {\n",
       "        vertical-align: middle;\n",
       "    }\n",
       "\n",
       "    .dataframe tbody tr th {\n",
       "        vertical-align: top;\n",
       "    }\n",
       "\n",
       "    .dataframe thead th {\n",
       "        text-align: right;\n",
       "    }\n",
       "</style>\n",
       "<table border=\"1\" class=\"dataframe\">\n",
       "  <thead>\n",
       "    <tr style=\"text-align: right;\">\n",
       "      <th></th>\n",
       "      <th>experiment_group</th>\n",
       "      <th>count</th>\n",
       "    </tr>\n",
       "  </thead>\n",
       "  <tbody>\n",
       "    <tr>\n",
       "      <th>0</th>\n",
       "      <td>control</td>\n",
       "      <td>114245</td>\n",
       "    </tr>\n",
       "    <tr>\n",
       "      <th>1</th>\n",
       "      <td>experiment</td>\n",
       "      <td>113476</td>\n",
       "    </tr>\n",
       "  </tbody>\n",
       "</table>\n",
       "</div>"
      ],
      "text/plain": [
       "  experiment_group   count\n",
       "0          control  114245\n",
       "1       experiment  113476"
      ]
     },
     "execution_count": 14,
     "metadata": {},
     "output_type": "execute_result"
    }
   ],
   "source": [
    "## Get the number of sessions by experiment or control group\n",
    "df.groupby('experiment_group').apply(lambda x: x['session_uuid'].nunique()).reset_index(name='count')"
   ]
  },
  {
   "cell_type": "code",
   "execution_count": 17,
   "metadata": {},
   "outputs": [
    {
     "name": "stdout",
     "output_type": "stream",
     "text": [
      "p_hat:\t\t 0.4983115516182791\n",
      "confidence int:\t (0.49541093079380116, 0.50458906920619884)\n",
      "Continue analysis?: True\n"
     ]
    }
   ],
   "source": [
    "## Ensure the experiment was split evenly between sessions\n",
    "\n",
    "control_sessions = df.groupby('experiment_group').apply(lambda x: x['session_uuid'].nunique())['control']\n",
    "experiment_sessions = df.groupby('experiment_group').apply(lambda x: x['session_uuid'].nunique())['experiment']\n",
    "\n",
    "\n",
    "desired_p = 0.5\n",
    "z_score = 1.960  #TODO Student to get the z-score for 95% confidence range?\n",
    "\n",
    "total_control =  22725 #TODO Student to get the total number of sessions\n",
    "total_experiment = 22879 #TODO Student to get the total number of sessions\n",
    "\n",
    "\n",
    "standard_deviation = np.sqrt((0.5*0.5)/(total_control + total_experiment))\n",
    "margin_error = standard_deviation * z_score\n",
    "\n",
    "confidence_interval = (desired_p-margin_error, desired_p+margin_error)\n",
    "\n",
    "p_hat = total_control / (total_control + total_experiment)\n",
    "\n",
    "print(\"p_hat:\\t\\t\", p_hat)\n",
    "print(\"confidence int:\\t\", confidence_interval)\n",
    "print(\"Continue analysis?:\", p_hat > confidence_interval[0] and p_hat < confidence_interval[1])"
   ]
  },
  {
   "cell_type": "code",
   "execution_count": 18,
   "metadata": {},
   "outputs": [
    {
     "data": {
      "text/html": [
       "<div>\n",
       "<style scoped>\n",
       "    .dataframe tbody tr th:only-of-type {\n",
       "        vertical-align: middle;\n",
       "    }\n",
       "\n",
       "    .dataframe tbody tr th {\n",
       "        vertical-align: top;\n",
       "    }\n",
       "\n",
       "    .dataframe thead th {\n",
       "        text-align: right;\n",
       "    }\n",
       "</style>\n",
       "<table border=\"1\" class=\"dataframe\">\n",
       "  <thead>\n",
       "    <tr style=\"text-align: right;\">\n",
       "      <th></th>\n",
       "      <th>experiment_group</th>\n",
       "      <th>count</th>\n",
       "    </tr>\n",
       "  </thead>\n",
       "  <tbody>\n",
       "    <tr>\n",
       "      <th>0</th>\n",
       "      <td>control</td>\n",
       "      <td>2410</td>\n",
       "    </tr>\n",
       "    <tr>\n",
       "      <th>1</th>\n",
       "      <td>experiment</td>\n",
       "      <td>2497</td>\n",
       "    </tr>\n",
       "  </tbody>\n",
       "</table>\n",
       "</div>"
      ],
      "text/plain": [
       "  experiment_group  count\n",
       "0          control   2410\n",
       "1       experiment   2497"
      ]
     },
     "execution_count": 18,
     "metadata": {},
     "output_type": "execute_result"
    }
   ],
   "source": [
    "## Get the number of purchases by experiment or control group\n",
    "df.groupby('experiment_group')['event_type'].apply(lambda x: (x == 'purchase').sum()).reset_index(name='count')\n"
   ]
  },
  {
   "cell_type": "code",
   "execution_count": 19,
   "metadata": {},
   "outputs": [],
   "source": [
    "control_purchase = df.groupby('experiment_group')['event_type'].apply(lambda x: (x == 'purchase').sum())['control']\n",
    "experiment_purchase = df.groupby('experiment_group')['event_type'].apply(lambda x: (x == 'purchase').sum())['experiment']\n"
   ]
  },
  {
   "cell_type": "code",
   "execution_count": 20,
   "metadata": {},
   "outputs": [
    {
     "data": {
      "text/plain": [
       "(2.191268739121107,\n",
       " 0.13879494679645424,\n",
       " 1,\n",
       " array([[   2461.78532063,  111783.21467937],\n",
       "        [   2445.21467937,  111030.78532063]]))"
      ]
     },
     "execution_count": 20,
     "metadata": {},
     "output_type": "execute_result"
    }
   ],
   "source": [
    "#S1_3\n",
    "#chisuared test\n",
    "\n",
    "#P-value here greater than .05 (our test for significance).  This result could be due to randomness\n",
    "\n",
    "control_stats = [control_purchase, control_sessions - control_purchase]\n",
    "experiment_stats = [experiment_purchase, experiment_sessions - experiment_purchase]\n",
    "outcomes =  np.array([control_stats, experiment_stats])\n",
    "stats.chi2_contingency(outcomes)"
   ]
  },
  {
   "cell_type": "markdown",
   "metadata": {},
   "source": [
    "### Seciton 1 - Solution summary\n",
    "\n",
    "1: The experiment ran.  \n",
    "2: Event data came in and it was bucketed correctly between sessions  \n",
    "3: But there was no significant change in conversion between the treatment and control."
   ]
  },
  {
   "cell_type": "markdown",
   "metadata": {},
   "source": [
    "## Section 2 - Develop Actionable Personas and Journey Steps [STUDENT]\n",
    "\n",
    "Now you're going to devolp actionable user personas & stages of a user journey.\n",
    "\n",
    "1: Find the actionable attributes of your users upon which to build your personas  \n",
    "2: Find the different stages of the user's journey  \n",
    "3: Identify a risks or opportunities for your team to address with hypotheses  \n",
    "\n"
   ]
  },
  {
   "cell_type": "code",
   "execution_count": 104,
   "metadata": {},
   "outputs": [],
   "source": [
    "## Your work goes here"
   ]
  },
  {
   "cell_type": "markdown",
   "metadata": {},
   "source": [
    "## Section 2 - Develop Actionable Personas and Journey Steps [SOLUTION]"
   ]
  },
  {
   "cell_type": "code",
   "execution_count": 17,
   "metadata": {},
   "outputs": [],
   "source": [
    "#S1_3\n",
    "#TODO - MATT - Generate opportunities in dataset.\n",
    "#1 - bounce\n",
    "#2 - bug\n",
    "#3 - typo\n",
    "#4 - l10n\n",
    "#5 - price\n",
    "#6 - flow"
   ]
  },
  {
   "cell_type": "code",
   "execution_count": 35,
   "metadata": {},
   "outputs": [
    {
     "data": {
      "text/html": [
       "<div>\n",
       "<style scoped>\n",
       "    .dataframe tbody tr th:only-of-type {\n",
       "        vertical-align: middle;\n",
       "    }\n",
       "\n",
       "    .dataframe tbody tr th {\n",
       "        vertical-align: top;\n",
       "    }\n",
       "\n",
       "    .dataframe thead th {\n",
       "        text-align: right;\n",
       "    }\n",
       "</style>\n",
       "<table border=\"1\" class=\"dataframe\">\n",
       "  <thead>\n",
       "    <tr style=\"text-align: right;\">\n",
       "      <th></th>\n",
       "      <th>event_uuid</th>\n",
       "      <th>user_uuid</th>\n",
       "      <th>event_time</th>\n",
       "      <th>device_type</th>\n",
       "      <th>session_uuid</th>\n",
       "      <th>experiment_group</th>\n",
       "      <th>user_country</th>\n",
       "      <th>event_page</th>\n",
       "      <th>event_type</th>\n",
       "    </tr>\n",
       "  </thead>\n",
       "  <tbody>\n",
       "    <tr>\n",
       "      <th>count</th>\n",
       "      <td>1250951</td>\n",
       "      <td>1250951</td>\n",
       "      <td>1250951</td>\n",
       "      <td>1250951</td>\n",
       "      <td>1250951</td>\n",
       "      <td>1250951</td>\n",
       "      <td>1250951</td>\n",
       "      <td>1250951</td>\n",
       "      <td>1250951</td>\n",
       "    </tr>\n",
       "    <tr>\n",
       "      <th>unique</th>\n",
       "      <td>1250951</td>\n",
       "      <td>81644</td>\n",
       "      <td>526684</td>\n",
       "      <td>4</td>\n",
       "      <td>227721</td>\n",
       "      <td>2</td>\n",
       "      <td>5</td>\n",
       "      <td>4</td>\n",
       "      <td>5</td>\n",
       "    </tr>\n",
       "    <tr>\n",
       "      <th>top</th>\n",
       "      <td>a3a49603-35e5-4c16-b5c5-c1ffbcf3115e</td>\n",
       "      <td>51ca13c8-7deb-48de-9569-f73e1fcffdf9</td>\n",
       "      <td>2019-10-03 13:12:54</td>\n",
       "      <td>mobile_web</td>\n",
       "      <td>0a2fe7b0-6a44-4d9c-96d7-24e09f560a96</td>\n",
       "      <td>control</td>\n",
       "      <td>US</td>\n",
       "      <td>item_page</td>\n",
       "      <td>view</td>\n",
       "    </tr>\n",
       "    <tr>\n",
       "      <th>freq</th>\n",
       "      <td>1</td>\n",
       "      <td>48</td>\n",
       "      <td>12</td>\n",
       "      <td>624179</td>\n",
       "      <td>10</td>\n",
       "      <td>627809</td>\n",
       "      <td>877413</td>\n",
       "      <td>500092</td>\n",
       "      <td>821166</td>\n",
       "    </tr>\n",
       "  </tbody>\n",
       "</table>\n",
       "</div>"
      ],
      "text/plain": [
       "                                  event_uuid  \\\n",
       "count                                1250951   \n",
       "unique                               1250951   \n",
       "top     a3a49603-35e5-4c16-b5c5-c1ffbcf3115e   \n",
       "freq                                       1   \n",
       "\n",
       "                                   user_uuid           event_time device_type  \\\n",
       "count                                1250951              1250951     1250951   \n",
       "unique                                 81644               526684           4   \n",
       "top     51ca13c8-7deb-48de-9569-f73e1fcffdf9  2019-10-03 13:12:54  mobile_web   \n",
       "freq                                      48                   12      624179   \n",
       "\n",
       "                                session_uuid experiment_group user_country  \\\n",
       "count                                1250951          1250951      1250951   \n",
       "unique                                227721                2            5   \n",
       "top     0a2fe7b0-6a44-4d9c-96d7-24e09f560a96          control           US   \n",
       "freq                                      10           627809       877413   \n",
       "\n",
       "       event_page event_type  \n",
       "count     1250951    1250951  \n",
       "unique          4          5  \n",
       "top     item_page       view  \n",
       "freq       500092     821166  "
      ]
     },
     "execution_count": 35,
     "metadata": {},
     "output_type": "execute_result"
    }
   ],
   "source": [
    "#S2_1\n",
    "# Going back to the data - the user should be able to identify the ways the user's differ.\n",
    "# In this case the only two ways are device type and user country\n",
    "df.describe()"
   ]
  },
  {
   "cell_type": "code",
   "execution_count": 37,
   "metadata": {},
   "outputs": [],
   "source": [
    "#S2_1\n",
    "# One possible way students might get the values\n",
    "# This is the minimal effort. This student will have the types,\n",
    "# but not have the quantities of users in each group.\n",
    "devices = df.device_type.unique()\n",
    "countries = df.user_country.unique()"
   ]
  },
  {
   "cell_type": "code",
   "execution_count": 38,
   "metadata": {},
   "outputs": [
    {
     "data": {
      "text/html": [
       "<div>\n",
       "<style scoped>\n",
       "    .dataframe tbody tr th:only-of-type {\n",
       "        vertical-align: middle;\n",
       "    }\n",
       "\n",
       "    .dataframe tbody tr th {\n",
       "        vertical-align: top;\n",
       "    }\n",
       "\n",
       "    .dataframe thead th {\n",
       "        text-align: right;\n",
       "    }\n",
       "</style>\n",
       "<table border=\"1\" class=\"dataframe\">\n",
       "  <thead>\n",
       "    <tr style=\"text-align: right;\">\n",
       "      <th></th>\n",
       "      <th>user_country</th>\n",
       "      <th>count</th>\n",
       "    </tr>\n",
       "  </thead>\n",
       "  <tbody>\n",
       "    <tr>\n",
       "      <th>0</th>\n",
       "      <td>CN</td>\n",
       "      <td>1608</td>\n",
       "    </tr>\n",
       "    <tr>\n",
       "      <th>1</th>\n",
       "      <td>FR</td>\n",
       "      <td>4178</td>\n",
       "    </tr>\n",
       "    <tr>\n",
       "      <th>2</th>\n",
       "      <td>JP</td>\n",
       "      <td>2407</td>\n",
       "    </tr>\n",
       "    <tr>\n",
       "      <th>3</th>\n",
       "      <td>UK</td>\n",
       "      <td>16222</td>\n",
       "    </tr>\n",
       "    <tr>\n",
       "      <th>4</th>\n",
       "      <td>US</td>\n",
       "      <td>57229</td>\n",
       "    </tr>\n",
       "  </tbody>\n",
       "</table>\n",
       "</div>"
      ],
      "text/plain": [
       "  user_country  count\n",
       "0           CN   1608\n",
       "1           FR   4178\n",
       "2           JP   2407\n",
       "3           UK  16222\n",
       "4           US  57229"
      ]
     },
     "execution_count": 38,
     "metadata": {},
     "output_type": "execute_result"
    }
   ],
   "source": [
    "#S2_1\n",
    "# This and the the following code samples are examples which are \n",
    "# slightly better than the first.\n",
    "# Now the student might see which country or which device type is most imporant, \n",
    "# but not have a quantitative reason for the combination of the two.\n",
    "\n",
    "# Said another way - they may jump to the conclusion that \"US\" and \"Mobile Web\" is the right answer.\n",
    "# Simpsons paradox could trick them into thinking the independent sums are large when combined\n",
    "\n",
    "\n",
    "df.groupby('user_country')['user_uuid'].nunique().reset_index(name='count')"
   ]
  },
  {
   "cell_type": "code",
   "execution_count": 39,
   "metadata": {},
   "outputs": [
    {
     "data": {
      "text/html": [
       "<div>\n",
       "<style scoped>\n",
       "    .dataframe tbody tr th:only-of-type {\n",
       "        vertical-align: middle;\n",
       "    }\n",
       "\n",
       "    .dataframe tbody tr th {\n",
       "        vertical-align: top;\n",
       "    }\n",
       "\n",
       "    .dataframe thead th {\n",
       "        text-align: right;\n",
       "    }\n",
       "</style>\n",
       "<table border=\"1\" class=\"dataframe\">\n",
       "  <thead>\n",
       "    <tr style=\"text-align: right;\">\n",
       "      <th></th>\n",
       "      <th>device_type</th>\n",
       "      <th>count</th>\n",
       "    </tr>\n",
       "  </thead>\n",
       "  <tbody>\n",
       "    <tr>\n",
       "      <th>0</th>\n",
       "      <td>android</td>\n",
       "      <td>28630</td>\n",
       "    </tr>\n",
       "    <tr>\n",
       "      <th>1</th>\n",
       "      <td>desktop_web</td>\n",
       "      <td>20177</td>\n",
       "    </tr>\n",
       "    <tr>\n",
       "      <th>2</th>\n",
       "      <td>ios</td>\n",
       "      <td>42285</td>\n",
       "    </tr>\n",
       "    <tr>\n",
       "      <th>3</th>\n",
       "      <td>mobile_web</td>\n",
       "      <td>64357</td>\n",
       "    </tr>\n",
       "  </tbody>\n",
       "</table>\n",
       "</div>"
      ],
      "text/plain": [
       "   device_type  count\n",
       "0      android  28630\n",
       "1  desktop_web  20177\n",
       "2          ios  42285\n",
       "3   mobile_web  64357"
      ]
     },
     "execution_count": 39,
     "metadata": {},
     "output_type": "execute_result"
    }
   ],
   "source": [
    "#S2_1\n",
    "# Continuation of last example\n",
    "df.groupby('device_type')['user_uuid'].nunique().reset_index(name='count')"
   ]
  },
  {
   "cell_type": "code",
   "execution_count": 31,
   "metadata": {},
   "outputs": [
    {
     "data": {
      "text/plain": [
       "device_type  user_country\n",
       "android      CN                545\n",
       "             FR               1471\n",
       "             JP                812\n",
       "             UK               5603\n",
       "             US              20199\n",
       "desktop_web  CN                392\n",
       "             FR               1034\n",
       "             JP                625\n",
       "             UK               3940\n",
       "             US              14186\n",
       "ios          CN                819\n",
       "             FR               2156\n",
       "             JP               1221\n",
       "             UK               8399\n",
       "             US              29690\n",
       "mobile_web   CN               1300\n",
       "             FR               3317\n",
       "             JP               1903\n",
       "             UK              12713\n",
       "             US              45124\n",
       "Name: user_uuid, dtype: int64"
      ]
     },
     "execution_count": 31,
     "metadata": {},
     "output_type": "execute_result"
    }
   ],
   "source": [
    "# S2_1 \n",
    "# In this example the student has moved on to looking for the most impactful area\n",
    "# They've managed to count the number of sessions at the device / country level.\n",
    "\n",
    "# If they use this method and then manually get the numbers that's a hard way to do it,\n",
    "# but the correct answer\n",
    "#list(itertools.product(devices,countries))\n",
    "\n",
    "#df['Rank'] = (df['device_type'] + df['user_country']).astype(int).rank(method)\n",
    "df.groupby(['device_type', 'user_country'])['user_uuid'].nunique()"
   ]
  },
  {
   "cell_type": "code",
   "execution_count": 46,
   "metadata": {},
   "outputs": [
    {
     "data": {
      "text/plain": [
       "device_type  user_country\n",
       "android      CN               2.0\n",
       "             FR               9.0\n",
       "             JP               4.0\n",
       "             UK              14.0\n",
       "             US              18.0\n",
       "desktop_web  CN               1.0\n",
       "             FR               6.0\n",
       "             JP               3.0\n",
       "             UK              13.0\n",
       "             US              17.0\n",
       "ios          CN               5.0\n",
       "             FR              11.0\n",
       "             JP               7.0\n",
       "             UK              15.0\n",
       "             US              19.0\n",
       "mobile_web   CN               8.0\n",
       "             FR              12.0\n",
       "             JP              10.0\n",
       "             UK              16.0\n",
       "             US              20.0\n",
       "Name: user_uuid, dtype: float64"
      ]
     },
     "execution_count": 46,
     "metadata": {},
     "output_type": "execute_result"
    }
   ],
   "source": [
    "#S2_2\n",
    "\n",
    "# This student has made their life really easy.\n",
    "# They've not only found the number of sessions per device/region combination, \n",
    "# but they've also just rank ordered them - so they know where to start\n",
    "df.groupby(['device_type', 'user_country'])['user_uuid'].nunique().rank(method='dense')"
   ]
  },
  {
   "cell_type": "code",
   "execution_count": 47,
   "metadata": {},
   "outputs": [],
   "source": [
    "# S2_2\n",
    "# One possible way students might get the values\n",
    "# This is the minimal effort. This student will have the types of pages or events,\n",
    "# but not have the quantities of users in each group.\n",
    "\n",
    "pages = df.event_page.unique()"
   ]
  },
  {
   "cell_type": "code",
   "execution_count": 48,
   "metadata": {},
   "outputs": [],
   "source": [
    "events = df.event_type.unique()"
   ]
  },
  {
   "cell_type": "code",
   "execution_count": 53,
   "metadata": {},
   "outputs": [
    {
     "data": {
      "text/html": [
       "<div>\n",
       "<style scoped>\n",
       "    .dataframe tbody tr th:only-of-type {\n",
       "        vertical-align: middle;\n",
       "    }\n",
       "\n",
       "    .dataframe tbody tr th {\n",
       "        vertical-align: top;\n",
       "    }\n",
       "\n",
       "    .dataframe thead th {\n",
       "        text-align: right;\n",
       "    }\n",
       "</style>\n",
       "<table border=\"1\" class=\"dataframe\">\n",
       "  <thead>\n",
       "    <tr style=\"text-align: right;\">\n",
       "      <th></th>\n",
       "      <th>event_page</th>\n",
       "      <th>count</th>\n",
       "    </tr>\n",
       "  </thead>\n",
       "  <tbody>\n",
       "    <tr>\n",
       "      <th>0</th>\n",
       "      <td>home_page</td>\n",
       "      <td>125106</td>\n",
       "    </tr>\n",
       "    <tr>\n",
       "      <th>1</th>\n",
       "      <td>item_page</td>\n",
       "      <td>500092</td>\n",
       "    </tr>\n",
       "    <tr>\n",
       "      <th>2</th>\n",
       "      <td>marketing_page</td>\n",
       "      <td>375463</td>\n",
       "    </tr>\n",
       "    <tr>\n",
       "      <th>3</th>\n",
       "      <td>search_page</td>\n",
       "      <td>250290</td>\n",
       "    </tr>\n",
       "  </tbody>\n",
       "</table>\n",
       "</div>"
      ],
      "text/plain": [
       "       event_page   count\n",
       "0       home_page  125106\n",
       "1       item_page  500092\n",
       "2  marketing_page  375463\n",
       "3     search_page  250290"
      ]
     },
     "execution_count": 53,
     "metadata": {},
     "output_type": "execute_result"
    }
   ],
   "source": [
    "# This and the the following code samples are examples which are \n",
    "# slightly better than the first.\n",
    "\n",
    "# Now the student might see which page or which event type is most imporant, \n",
    "# but not have a quantitative reason for the combination of the two.\n",
    "\n",
    "# Said another way - they may jump to the conclusion that \"Item Page\" and \"View\" is the right answer.\n",
    "\n",
    "# Simpsons paradox could trick them into thinking the independent sums are large when combined\n",
    "df.groupby('event_page')['event_uuid'].nunique().reset_index(name='count')\n"
   ]
  },
  {
   "cell_type": "code",
   "execution_count": 54,
   "metadata": {},
   "outputs": [
    {
     "data": {
      "text/html": [
       "<div>\n",
       "<style scoped>\n",
       "    .dataframe tbody tr th:only-of-type {\n",
       "        vertical-align: middle;\n",
       "    }\n",
       "\n",
       "    .dataframe tbody tr th {\n",
       "        vertical-align: top;\n",
       "    }\n",
       "\n",
       "    .dataframe thead th {\n",
       "        text-align: right;\n",
       "    }\n",
       "</style>\n",
       "<table border=\"1\" class=\"dataframe\">\n",
       "  <thead>\n",
       "    <tr style=\"text-align: right;\">\n",
       "      <th></th>\n",
       "      <th>event_type</th>\n",
       "      <th>count</th>\n",
       "    </tr>\n",
       "  </thead>\n",
       "  <tbody>\n",
       "    <tr>\n",
       "      <th>0</th>\n",
       "      <td>cart</td>\n",
       "      <td>36090</td>\n",
       "    </tr>\n",
       "    <tr>\n",
       "      <th>1</th>\n",
       "      <td>favorite</td>\n",
       "      <td>194562</td>\n",
       "    </tr>\n",
       "    <tr>\n",
       "      <th>2</th>\n",
       "      <td>purchase</td>\n",
       "      <td>4907</td>\n",
       "    </tr>\n",
       "    <tr>\n",
       "      <th>3</th>\n",
       "      <td>share</td>\n",
       "      <td>194226</td>\n",
       "    </tr>\n",
       "    <tr>\n",
       "      <th>4</th>\n",
       "      <td>view</td>\n",
       "      <td>821166</td>\n",
       "    </tr>\n",
       "  </tbody>\n",
       "</table>\n",
       "</div>"
      ],
      "text/plain": [
       "  event_type   count\n",
       "0       cart   36090\n",
       "1   favorite  194562\n",
       "2   purchase    4907\n",
       "3      share  194226\n",
       "4       view  821166"
      ]
     },
     "execution_count": 54,
     "metadata": {},
     "output_type": "execute_result"
    }
   ],
   "source": [
    "\n",
    "\n",
    "df.groupby('event_type')['event_uuid'].nunique().reset_index(name='count')\n",
    "\n",
    "\n"
   ]
  },
  {
   "cell_type": "code",
   "execution_count": 57,
   "metadata": {},
   "outputs": [
    {
     "data": {
      "text/plain": [
       "event_page      event_type\n",
       "home_page       cart            3411\n",
       "                favorite       17802\n",
       "                purchase         454\n",
       "                share          17581\n",
       "                view           64873\n",
       "item_page       cart           11047\n",
       "                favorite       54499\n",
       "                purchase        1548\n",
       "                share          54622\n",
       "                view          151485\n",
       "marketing_page  cart            8858\n",
       "                favorite       44463\n",
       "                purchase        1246\n",
       "                share          44563\n",
       "                view          132680\n",
       "search_page     cart            6194\n",
       "                favorite       32657\n",
       "                purchase         891\n",
       "                share          32395\n",
       "                view          105821\n",
       "Name: session_uuid, dtype: int64"
      ]
     },
     "execution_count": 57,
     "metadata": {},
     "output_type": "execute_result"
    }
   ],
   "source": [
    "df.groupby(['event_page', 'event_type'])['session_uuid'].nunique()\n",
    "# In this example the student has moved on to looking for the most impactful area\n",
    "# They've managed to count the number of sessions at the event page / event type level.\n",
    "\n",
    "# If they use this method and then manually get the numbers that's a hard way to do it,\n",
    "# but the correct answer\n",
    "#list(itertools.product(pages,events))\n"
   ]
  },
  {
   "cell_type": "code",
   "execution_count": 59,
   "metadata": {},
   "outputs": [
    {
     "data": {
      "text/plain": [
       "event_page      event_type\n",
       "home_page       cart           5.0\n",
       "                favorite      10.0\n",
       "                purchase       1.0\n",
       "                share          9.0\n",
       "                view          17.0\n",
       "item_page       cart           8.0\n",
       "                favorite      15.0\n",
       "                purchase       4.0\n",
       "                share         16.0\n",
       "                view          20.0\n",
       "marketing_page  cart           7.0\n",
       "                favorite      13.0\n",
       "                purchase       3.0\n",
       "                share         14.0\n",
       "                view          19.0\n",
       "search_page     cart           6.0\n",
       "                favorite      12.0\n",
       "                purchase       2.0\n",
       "                share         11.0\n",
       "                view          18.0\n",
       "Name: session_uuid, dtype: float64"
      ]
     },
     "execution_count": 59,
     "metadata": {},
     "output_type": "execute_result"
    }
   ],
   "source": [
    "# This student has made their life really easy.\n",
    "# They've not only found the number of sessions per device/region combination, \n",
    "# but they've also just rank ordered them - so they know where to start\n",
    "df.groupby(['event_page', 'event_type'])['session_uuid'].nunique().rank(method='dense')"
   ]
  },
  {
   "cell_type": "code",
   "execution_count": 49,
   "metadata": {},
   "outputs": [
    {
     "data": {
      "text/plain": [
       "[('item_page', 'view'),\n",
       " ('item_page', 'favorite'),\n",
       " ('item_page', 'share'),\n",
       " ('item_page', 'cart'),\n",
       " ('item_page', 'purchase'),\n",
       " ('marketing_page', 'view'),\n",
       " ('marketing_page', 'favorite'),\n",
       " ('marketing_page', 'share'),\n",
       " ('marketing_page', 'cart'),\n",
       " ('marketing_page', 'purchase'),\n",
       " ('home_page', 'view'),\n",
       " ('home_page', 'favorite'),\n",
       " ('home_page', 'share'),\n",
       " ('home_page', 'cart'),\n",
       " ('home_page', 'purchase'),\n",
       " ('search_page', 'view'),\n",
       " ('search_page', 'favorite'),\n",
       " ('search_page', 'share'),\n",
       " ('search_page', 'cart'),\n",
       " ('search_page', 'purchase')]"
      ]
     },
     "execution_count": 49,
     "metadata": {},
     "output_type": "execute_result"
    }
   ],
   "source": [
    "# If they use this method and then manually get the numbers that's a hard way to do it,\n",
    "# but it's still the correct answer\n",
    "\n",
    "list(itertools.product(pages, events))"
   ]
  },
  {
   "cell_type": "markdown",
   "metadata": {},
   "source": [
    "### Section 2 - Solution Summary\n",
    "\n",
    "1) The student has identified device type and region as the actionable elements of their personas as a first step.  \n",
    "\n",
    "2) The student has identified the item page is getting the most traffic and is the best opporunity to show traction in the short term.\n",
    "\n"
   ]
  },
  {
   "cell_type": "markdown",
   "metadata": {},
   "source": [
    "## Section 3 - Generate Hypotheses and Recommended Next Step [STUDENT]\n",
    "\n",
    "Now you're going to generate hypotheses based on your personas, journey, and risks & opportunities"
   ]
  },
  {
   "cell_type": "markdown",
   "metadata": {},
   "source": [
    "## Section 3 - Generate Hypotheses and Recommended Next Step [SOLUTION]"
   ]
  },
  {
   "cell_type": "markdown",
   "metadata": {},
   "source": [
    "Title | Evidence | Product Change | Audience | Magnitude | Metric | Time\n",
    "--- | --- | --- | --- | --- | --- | ---\n",
    "Get Dinner| I'm starving| Eat food | Me | 100% | Less Hungry | 15 minutes |\n",
    "\n",
    "\n",
    "\n",
    "\n",
    "\n",
    "\n",
    "\n",
    "\n"
   ]
  },
  {
   "cell_type": "markdown",
   "metadata": {},
   "source": []
  }
 ],
 "metadata": {
  "kernelspec": {
   "display_name": "Python 3",
   "language": "python",
   "name": "python3"
  },
  "language_info": {
   "codemirror_mode": {
    "name": "ipython",
    "version": 3
   },
   "file_extension": ".py",
   "mimetype": "text/x-python",
   "name": "python",
   "nbconvert_exporter": "python",
   "pygments_lexer": "ipython3",
   "version": "3.6.3"
  },
  "ulab_nb_type": "guided"
 },
 "nbformat": 4,
 "nbformat_minor": 2
}
